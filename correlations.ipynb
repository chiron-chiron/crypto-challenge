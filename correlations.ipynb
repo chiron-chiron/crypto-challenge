{
 "cells": [
  {
   "cell_type": "markdown",
   "metadata": {},
   "source": [
    "### Crypto Challenge - Correlations\n",
    "\n",
    "#### Correlations b/w various crypto instruments (Binance)\n",
    "* Retrieve historic data from Binance using their API\n",
    "* Historic = most recent 30 days\n",
    "* Data = daily price data of various perpetual swap instruments\n",
    "* Instruments to be analysed:\n",
    "    * BTC/USDT\n",
    "    * ETH/USDT\n",
    "    * XRP/USDT\n",
    "    * ADA/USDT\n",
    "    * SOL/USDT\n",
    "* Refer below for more instructions"
   ]
  },
  {
   "cell_type": "code",
   "execution_count": 1,
   "metadata": {},
   "outputs": [],
   "source": [
    "# Install/import dependencies\n",
    "\n",
    "import json\n",
    "import requests\n",
    "# from api_keys import exchange_api_key\n",
    "import numpy as np\n",
    "import pandas as pd\n",
    "from pprint import pprint\n",
    "import matplotlib.pyplot as plt\n",
    "from scipy.stats import linregress\n",
    "\n",
    "# python-binance package install\n"
   ]
  },
  {
   "cell_type": "code",
   "execution_count": 2,
   "metadata": {},
   "outputs": [
    {
     "name": "stdout",
     "output_type": "stream",
     "text": [
      "Requirement already satisfied: python-binance in c:\\users\\steve\\anaconda3\\envs\\bootcamp\\lib\\site-packages (1.0.16)\n",
      "Requirement already satisfied: requests in c:\\users\\steve\\anaconda3\\envs\\bootcamp\\lib\\site-packages (from python-binance) (2.27.1)\n",
      "Requirement already satisfied: dateparser in c:\\users\\steve\\anaconda3\\envs\\bootcamp\\lib\\site-packages (from python-binance) (1.1.1)\n",
      "Requirement already satisfied: six in c:\\users\\steve\\anaconda3\\envs\\bootcamp\\lib\\site-packages (from python-binance) (1.16.0)\n",
      "Requirement already satisfied: aiohttp in c:\\users\\steve\\anaconda3\\envs\\bootcamp\\lib\\site-packages (from python-binance) (3.8.1)\n",
      "Requirement already satisfied: ujson in c:\\users\\steve\\anaconda3\\envs\\bootcamp\\lib\\site-packages (from python-binance) (5.4.0)\n",
      "Requirement already satisfied: websockets in c:\\users\\steve\\anaconda3\\envs\\bootcamp\\lib\\site-packages (from python-binance) (10.3)\n",
      "Requirement already satisfied: charset-normalizer<3.0,>=2.0 in c:\\users\\steve\\anaconda3\\envs\\bootcamp\\lib\\site-packages (from aiohttp->python-binance) (2.0.4)\n",
      "Requirement already satisfied: yarl<2.0,>=1.0 in c:\\users\\steve\\anaconda3\\envs\\bootcamp\\lib\\site-packages (from aiohttp->python-binance) (1.8.1)\n",
      "Requirement already satisfied: asynctest==0.13.0 in c:\\users\\steve\\anaconda3\\envs\\bootcamp\\lib\\site-packages (from aiohttp->python-binance) (0.13.0)\n",
      "Requirement already satisfied: aiosignal>=1.1.2 in c:\\users\\steve\\anaconda3\\envs\\bootcamp\\lib\\site-packages (from aiohttp->python-binance) (1.2.0)\n",
      "Requirement already satisfied: multidict<7.0,>=4.5 in c:\\users\\steve\\anaconda3\\envs\\bootcamp\\lib\\site-packages (from aiohttp->python-binance) (6.0.2)\n",
      "Requirement already satisfied: async-timeout<5.0,>=4.0.0a3 in c:\\users\\steve\\anaconda3\\envs\\bootcamp\\lib\\site-packages (from aiohttp->python-binance) (4.0.2)\n",
      "Requirement already satisfied: attrs>=17.3.0 in c:\\users\\steve\\anaconda3\\envs\\bootcamp\\lib\\site-packages (from aiohttp->python-binance) (21.4.0)\n",
      "Requirement already satisfied: typing-extensions>=3.7.4 in c:\\users\\steve\\anaconda3\\envs\\bootcamp\\lib\\site-packages (from aiohttp->python-binance) (4.1.1)\n",
      "Requirement already satisfied: frozenlist>=1.1.1 in c:\\users\\steve\\anaconda3\\envs\\bootcamp\\lib\\site-packages (from aiohttp->python-binance) (1.3.1)\n",
      "Requirement already satisfied: idna>=2.0 in c:\\users\\steve\\anaconda3\\envs\\bootcamp\\lib\\site-packages (from yarl<2.0,>=1.0->aiohttp->python-binance) (3.3)\n",
      "Requirement already satisfied: tzlocal in c:\\users\\steve\\anaconda3\\envs\\bootcamp\\lib\\site-packages (from dateparser->python-binance) (4.2)\n",
      "Requirement already satisfied: python-dateutil in c:\\users\\steve\\anaconda3\\envs\\bootcamp\\lib\\site-packages (from dateparser->python-binance) (2.8.2)\n",
      "Requirement already satisfied: regex!=2019.02.19,!=2021.8.27,<2022.3.15 in c:\\users\\steve\\anaconda3\\envs\\bootcamp\\lib\\site-packages (from dateparser->python-binance) (2022.3.2)\n",
      "Requirement already satisfied: pytz in c:\\users\\steve\\anaconda3\\envs\\bootcamp\\lib\\site-packages (from dateparser->python-binance) (2021.3)\n",
      "Requirement already satisfied: urllib3<1.27,>=1.21.1 in c:\\users\\steve\\anaconda3\\envs\\bootcamp\\lib\\site-packages (from requests->python-binance) (1.26.9)\n",
      "Requirement already satisfied: certifi>=2017.4.17 in c:\\users\\steve\\anaconda3\\envs\\bootcamp\\lib\\site-packages (from requests->python-binance) (2022.6.15)\n",
      "Requirement already satisfied: tzdata in c:\\users\\steve\\anaconda3\\envs\\bootcamp\\lib\\site-packages (from tzlocal->dateparser->python-binance) (2022.2)\n",
      "Requirement already satisfied: pytz-deprecation-shim in c:\\users\\steve\\anaconda3\\envs\\bootcamp\\lib\\site-packages (from tzlocal->dateparser->python-binance) (0.1.0.post0)\n",
      "Requirement already satisfied: backports.zoneinfo in c:\\users\\steve\\anaconda3\\envs\\bootcamp\\lib\\site-packages (from tzlocal->dateparser->python-binance) (0.2.1)\n"
     ]
    }
   ],
   "source": [
    "# Install crypto/finance specific dependencies\n",
    "! pip install python-binance"
   ]
  },
  {
   "cell_type": "code",
   "execution_count": 3,
   "metadata": {},
   "outputs": [],
   "source": [
    "# Import crypto/finance dependencies\n",
    "from binance import Client"
   ]
  },
  {
   "cell_type": "markdown",
   "metadata": {},
   "source": [
    "### Perform API Calls\n",
    "* Binance API docs:\n",
    "https://binance-docs.github.io/apidocs/spot/en/#rolling-window-price-change-statistics"
   ]
  },
  {
   "cell_type": "code",
   "execution_count": null,
   "metadata": {},
   "outputs": [],
   "source": [
    "# Url for calling API\n",
    "\n",
    "# Build partial query URL\n",
    "query_url = f\"\""
   ]
  },
  {
   "cell_type": "code",
   "execution_count": null,
   "metadata": {},
   "outputs": [],
   "source": [
    "# BTCUSDT\n",
    "# ETHUSDT\n",
    "# XRPUSDT\n",
    "# ADAUSDT\n",
    "# SOLUSDT"
   ]
  }
 ],
 "metadata": {
  "kernelspec": {
   "display_name": "Python 3.7.13 ('bootcamp')",
   "language": "python",
   "name": "python3"
  },
  "language_info": {
   "codemirror_mode": {
    "name": "ipython",
    "version": 3
   },
   "file_extension": ".py",
   "mimetype": "text/x-python",
   "name": "python",
   "nbconvert_exporter": "python",
   "pygments_lexer": "ipython3",
   "version": "3.7.13"
  },
  "orig_nbformat": 4,
  "vscode": {
   "interpreter": {
    "hash": "c1045dce47e268ff1365c3f603defeb0aa850c229e636842f21fdc3e170438c8"
   }
  }
 },
 "nbformat": 4,
 "nbformat_minor": 2
}
