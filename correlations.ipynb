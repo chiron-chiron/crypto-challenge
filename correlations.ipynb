{
 "cells": [
  {
   "cell_type": "markdown",
   "metadata": {},
   "source": [
    "### Crypto Challenge - Correlations\n",
    "\n",
    "#### Correlations b/w various crypto instruments (Binance)\n",
    "* Retrieve historic data from Binance using their API\n",
    "* Historic = most recent 30 days\n",
    "* Data = daily price data of various perpetual swap instruments\n",
    "* Instruments = perpetual swaps / on Binance USD-Margined derivatives exchange (\"USDS-M\"):\n",
    "    * BTC/USDT\n",
    "    * ETH/USDT\n",
    "    * XRP/USDT\n",
    "    * ADA/USDT\n",
    "    * SOL/USDT\n",
    "* Refer below for more instructions"
   ]
  },
  {
   "cell_type": "markdown",
   "metadata": {},
   "source": [
    "#### Info on USDS-M contracts:\n",
    "* Settlement in USD-pegged assets: contracts are denominated and settled in USDT or BUSD.\n",
    "* Expiration: Perpetual and Quarterly.\n",
    "* Clear pricing rules: each futures contract specifies the base asset's quantity delivered for a single contract, also known as \"Contract Unit\". For instance, BTC/USDT, ETH/USDT, and BCH/USDT futures contracts represent only one unit of its respective base asset, similar to spot markets.\n",
    "* (Source: https://www.binance.com/en/support/faq/85eac2bba0b342819122dc9bd4745e9b)\n",
    "\n",
    "* USDS-M Futures Contract Specifications: (https://www.binance.com/en/support/faq/360033161972)\n",
    "\n",
    "* Advantages of USDS-M contracts:\n",
    "\n",
    "* USDⓈ-Margined contracts are linear futures quoted and settled in USDT or BUSD. One of the key benefits of USDT or BUSD settlement is that you can easily calculate your returns in fiat. This makes USDⓈ-Margined contracts more intuitive. For example, when you make 500 BUSD in profit, you can easily estimate that the profit is worth approximately $500 - since the value of 1 BUSD is pegged closely to 1 USD.\n",
    "Additionally, a universal settlement currency, such as BUSD or USDT, provides more flexibility. You can use the same settlement currency across various futures contracts (i.e., BTC, ETH, XRP, etc.). This eliminates the need to buy the underlying coins to fund futures positions. As such, you will not incur excessive fees as there is no additional conversion required when trading with USDT.\n",
    "In periods of high volatility, USDⓈ-Margined contracts can help reduce the risk of large price swings. Thus, you do not need to worry about hedging their underlying collateral exposure.\n",
    "\n",
    "* Price Index of USDS-M Contracts:\n",
    "* The underlying contract for the Perpetual Contract is the ‘true’ value of the Contract, and an average of the prices on the major markets constitutes the “Price Index” which is the primary component of Mark Price.\n",
    "The Price Index is a bucket of prices from the major Spot Market Exchanges. The Price Index for USDⓈ-M futures contracts derives prices from Huobi, Okex, Bittrex, HitBTC, Gate.io, Bitmax, Poloniex, FTX, MXC. (Source: https://www.binance.com/en/support/faq/547ba48141474ab3bddc5d7898f97928)"
   ]
  },
  {
   "cell_type": "markdown",
   "metadata": {},
   "source": [
    "#### Code Documentation\n",
    "* Binance API docs: (https://binance-docs.github.io/)\n",
    "* Python-Binance library docs: (https://python-binance.readthedocs.io/)"
   ]
  },
  {
   "cell_type": "markdown",
   "metadata": {},
   "source": [
    "#### Troubleshooting\n",
    "* Dev forums: (https://dev.binance.vision)\n",
    "* "
   ]
  },
  {
   "cell_type": "code",
   "execution_count": 2,
   "metadata": {},
   "outputs": [],
   "source": [
    "# Install/import dependencies\n",
    "\n",
    "import json\n",
    "import requests\n",
    "# from api_keys import exchange_api_key1, exchange_api_key2\n",
    "import numpy as np\n",
    "import pandas as pd\n",
    "from pprint import pprint\n",
    "import matplotlib.pyplot as plt\n",
    "from scipy.stats import linregress\n",
    "\n",
    "# python-binance package install\n"
   ]
  },
  {
   "cell_type": "code",
   "execution_count": 3,
   "metadata": {},
   "outputs": [],
   "source": [
    "# Import initialise exchange api keys\n",
    "from api_keys import exchange_api_key1, exchange_api_key2"
   ]
  },
  {
   "cell_type": "code",
   "execution_count": 4,
   "metadata": {},
   "outputs": [
    {
     "name": "stdout",
     "output_type": "stream",
     "text": [
      "Requirement already satisfied: python-binance in c:\\users\\steve\\anaconda3\\envs\\bootcamp\\lib\\site-packages (1.0.16)\n",
      "Requirement already satisfied: ujson in c:\\users\\steve\\anaconda3\\envs\\bootcamp\\lib\\site-packages (from python-binance) (5.4.0)\n",
      "Requirement already satisfied: aiohttp in c:\\users\\steve\\anaconda3\\envs\\bootcamp\\lib\\site-packages (from python-binance) (3.8.1)\n",
      "Requirement already satisfied: dateparser in c:\\users\\steve\\anaconda3\\envs\\bootcamp\\lib\\site-packages (from python-binance) (1.1.1)\n",
      "Requirement already satisfied: six in c:\\users\\steve\\anaconda3\\envs\\bootcamp\\lib\\site-packages (from python-binance) (1.16.0)\n",
      "Requirement already satisfied: requests in c:\\users\\steve\\anaconda3\\envs\\bootcamp\\lib\\site-packages (from python-binance) (2.27.1)\n",
      "Requirement already satisfied: websockets in c:\\users\\steve\\anaconda3\\envs\\bootcamp\\lib\\site-packages (from python-binance) (10.3)\n",
      "Requirement already satisfied: typing-extensions>=3.7.4 in c:\\users\\steve\\anaconda3\\envs\\bootcamp\\lib\\site-packages (from aiohttp->python-binance) (4.1.1)\n",
      "Requirement already satisfied: multidict<7.0,>=4.5 in c:\\users\\steve\\anaconda3\\envs\\bootcamp\\lib\\site-packages (from aiohttp->python-binance) (6.0.2)\n",
      "Requirement already satisfied: yarl<2.0,>=1.0 in c:\\users\\steve\\anaconda3\\envs\\bootcamp\\lib\\site-packages (from aiohttp->python-binance) (1.8.1)\n",
      "Requirement already satisfied: frozenlist>=1.1.1 in c:\\users\\steve\\anaconda3\\envs\\bootcamp\\lib\\site-packages (from aiohttp->python-binance) (1.3.1)\n",
      "Requirement already satisfied: attrs>=17.3.0 in c:\\users\\steve\\anaconda3\\envs\\bootcamp\\lib\\site-packages (from aiohttp->python-binance) (21.4.0)\n",
      "Requirement already satisfied: charset-normalizer<3.0,>=2.0 in c:\\users\\steve\\anaconda3\\envs\\bootcamp\\lib\\site-packages (from aiohttp->python-binance) (2.0.4)\n",
      "Requirement already satisfied: async-timeout<5.0,>=4.0.0a3 in c:\\users\\steve\\anaconda3\\envs\\bootcamp\\lib\\site-packages (from aiohttp->python-binance) (4.0.2)\n",
      "Requirement already satisfied: aiosignal>=1.1.2 in c:\\users\\steve\\anaconda3\\envs\\bootcamp\\lib\\site-packages (from aiohttp->python-binance) (1.2.0)\n",
      "Requirement already satisfied: asynctest==0.13.0 in c:\\users\\steve\\anaconda3\\envs\\bootcamp\\lib\\site-packages (from aiohttp->python-binance) (0.13.0)\n",
      "Requirement already satisfied: idna>=2.0 in c:\\users\\steve\\anaconda3\\envs\\bootcamp\\lib\\site-packages (from yarl<2.0,>=1.0->aiohttp->python-binance) (3.3)\n",
      "Requirement already satisfied: pytz in c:\\users\\steve\\anaconda3\\envs\\bootcamp\\lib\\site-packages (from dateparser->python-binance) (2021.3)\n",
      "Requirement already satisfied: regex!=2019.02.19,!=2021.8.27,<2022.3.15 in c:\\users\\steve\\anaconda3\\envs\\bootcamp\\lib\\site-packages (from dateparser->python-binance) (2022.3.2)\n",
      "Requirement already satisfied: python-dateutil in c:\\users\\steve\\anaconda3\\envs\\bootcamp\\lib\\site-packages (from dateparser->python-binance) (2.8.2)\n",
      "Requirement already satisfied: tzlocal in c:\\users\\steve\\anaconda3\\envs\\bootcamp\\lib\\site-packages (from dateparser->python-binance) (4.2)\n",
      "Requirement already satisfied: urllib3<1.27,>=1.21.1 in c:\\users\\steve\\anaconda3\\envs\\bootcamp\\lib\\site-packages (from requests->python-binance) (1.26.9)\n",
      "Requirement already satisfied: certifi>=2017.4.17 in c:\\users\\steve\\anaconda3\\envs\\bootcamp\\lib\\site-packages (from requests->python-binance) (2022.6.15)\n",
      "Requirement already satisfied: backports.zoneinfo in c:\\users\\steve\\anaconda3\\envs\\bootcamp\\lib\\site-packages (from tzlocal->dateparser->python-binance) (0.2.1)\n",
      "Requirement already satisfied: tzdata in c:\\users\\steve\\anaconda3\\envs\\bootcamp\\lib\\site-packages (from tzlocal->dateparser->python-binance) (2022.2)\n",
      "Requirement already satisfied: pytz-deprecation-shim in c:\\users\\steve\\anaconda3\\envs\\bootcamp\\lib\\site-packages (from tzlocal->dateparser->python-binance) (0.1.0.post0)\n"
     ]
    }
   ],
   "source": [
    "# Install crypto/finance specific dependencies\n",
    "! pip install python-binance"
   ]
  },
  {
   "cell_type": "code",
   "execution_count": 5,
   "metadata": {},
   "outputs": [],
   "source": [
    "# Import crypto/finance dependencies\n",
    "from binance import Client"
   ]
  },
  {
   "cell_type": "code",
   "execution_count": 6,
   "metadata": {},
   "outputs": [],
   "source": [
    "# Authenticate exchange API keys to python client (using Binance-Python)\n",
    "# Setup client\n",
    "client = Client(exchange_api_key1, exchange_api_key2)"
   ]
  },
  {
   "cell_type": "code",
   "execution_count": 7,
   "metadata": {},
   "outputs": [],
   "source": [
    "# tickers = client.get_all_tickers()\n",
    "# tickers"
   ]
  },
  {
   "cell_type": "code",
   "execution_count": 20,
   "metadata": {},
   "outputs": [],
   "source": [
    "# Checking rate limits\n",
    "# client.get_exchange_info()\n"
   ]
  },
  {
   "cell_type": "code",
   "execution_count": 11,
   "metadata": {},
   "outputs": [
    {
     "data": {
      "text/plain": [
       "[[1663027200000,\n",
       "  '22395.44000000',\n",
       "  '22799.00000000',\n",
       "  '19860.00000000',\n",
       "  '20173.57000000',\n",
       "  '431915.03333000',\n",
       "  1663113599999,\n",
       "  '9302239274.39612070',\n",
       "  8126869,\n",
       "  '217144.54247000',\n",
       "  '4679543994.69320690',\n",
       "  '0'],\n",
       " [1663113600000,\n",
       "  '20173.62000000',\n",
       "  '20541.48000000',\n",
       "  '19617.62000000',\n",
       "  '20226.71000000',\n",
       "  '340826.40151000',\n",
       "  1663199999999,\n",
       "  '6886235196.64619830',\n",
       "  6313052,\n",
       "  '169670.53169000',\n",
       "  '3428396493.96927510',\n",
       "  '0'],\n",
       " [1663200000000,\n",
       "  '20227.17000000',\n",
       "  '20270.61000000',\n",
       "  '20130.92000000',\n",
       "  '20142.82000000',\n",
       "  '12154.61915000',\n",
       "  1663286399999,\n",
       "  '245631651.81562460',\n",
       "  253224,\n",
       "  '5964.56535000',\n",
       "  '120546045.24214640',\n",
       "  '0']]"
      ]
     },
     "execution_count": 11,
     "metadata": {},
     "output_type": "execute_result"
    }
   ],
   "source": [
    "price_data = client.get_historical_klines('BTCUSDT', Client.KLINE_INTERVAL_1DAY,'13 Sep 2022')\n",
    "price_data"
   ]
  },
  {
   "cell_type": "code",
   "execution_count": 29,
   "metadata": {},
   "outputs": [
    {
     "ename": "TypeError",
     "evalue": "futures_continous_klines() takes 1 positional argument but 2 were given",
     "output_type": "error",
     "traceback": [
      "\u001b[1;31m---------------------------------------------------------------------------\u001b[0m",
      "\u001b[1;31mTypeError\u001b[0m                                 Traceback (most recent call last)",
      "\u001b[1;32m~\\AppData\\Local\\Temp\\ipykernel_1384\\3465351361.py\u001b[0m in \u001b[0;36m<module>\u001b[1;34m\u001b[0m\n\u001b[0;32m      3\u001b[0m \u001b[1;31m# client.get_continuousklines??\u001b[0m\u001b[1;33m\u001b[0m\u001b[1;33m\u001b[0m\u001b[1;33m\u001b[0m\u001b[0m\n\u001b[0;32m      4\u001b[0m \u001b[1;33m\u001b[0m\u001b[0m\n\u001b[1;32m----> 5\u001b[1;33m \u001b[0mclient\u001b[0m\u001b[1;33m.\u001b[0m\u001b[0mfutures_continous_klines\u001b[0m\u001b[1;33m(\u001b[0m\u001b[1;34m'BTCUSDT'\u001b[0m\u001b[1;33m)\u001b[0m\u001b[1;33m\u001b[0m\u001b[1;33m\u001b[0m\u001b[0m\n\u001b[0m\u001b[0;32m      6\u001b[0m \u001b[1;31m#https://fapi.binance.com/fapi/v1/continuousKlines?pair=BTCUSDT&contractType=PERPETUAL\u001b[0m\u001b[1;33m\u001b[0m\u001b[1;33m\u001b[0m\u001b[1;33m\u001b[0m\u001b[0m\n",
      "\u001b[1;31mTypeError\u001b[0m: futures_continous_klines() takes 1 positional argument but 2 were given"
     ]
    }
   ],
   "source": [
    "# client.get_historical_klines_generator??\n",
    "\n",
    "# client.get_continuousklines??\n",
    "\n",
    "client.futures_continous_klines('BTCUSDT')\n",
    "#https://fapi.binance.com/fapi/v1/continuousKlines?pair=BTCUSDT&contractType=PERPETUAL"
   ]
  },
  {
   "cell_type": "code",
   "execution_count": null,
   "metadata": {},
   "outputs": [],
   "source": [
    "base_url = "
   ]
  },
  {
   "cell_type": "code",
   "execution_count": 32,
   "metadata": {},
   "outputs": [],
   "source": [
    "btcfutures = client.get_historical_klines(symbol='BTCUSDT',\n",
    "                                          type= 'USD_M_Futures',\n",
    "                                          interval=Client.KLINE_INTERVAL_1DAY,\n",
    "                                          start_str= '',)"
   ]
  },
  {
   "cell_type": "code",
   "execution_count": 44,
   "metadata": {},
   "outputs": [
    {
     "name": "stdout",
     "output_type": "stream",
     "text": [
      "Object `get_continuous_kline` not found.\n"
     ]
    }
   ],
   "source": [
    "client.get_continuous_kline()"
   ]
  },
  {
   "cell_type": "code",
   "execution_count": null,
   "metadata": {},
   "outputs": [],
   "source": []
  },
  {
   "cell_type": "code",
   "execution_count": null,
   "metadata": {},
   "outputs": [],
   "source": []
  },
  {
   "cell_type": "code",
   "execution_count": null,
   "metadata": {},
   "outputs": [],
   "source": [
    "pairs = [\"BTCUSDT\", \"ETHUSDT\", \"XRPUSDT\", \"ADAUSDT\", \"SOLUSDT\"]"
   ]
  },
  {
   "cell_type": "code",
   "execution_count": null,
   "metadata": {},
   "outputs": [],
   "source": []
  },
  {
   "cell_type": "markdown",
   "metadata": {},
   "source": [
    "### Perform API Calls\n",
    "* Binance API docs:\n",
    "https://binance-docs.github.io/apidocs/spot/en/#rolling-window-price-change-statistics"
   ]
  },
  {
   "cell_type": "code",
   "execution_count": 75,
   "metadata": {},
   "outputs": [
    {
     "data": {
      "text/plain": [
       "'https://fapi.binance.com/fapi/v1/continuousKlines?pair=BTCUSDT&contractType=PERPETUAL&interval=2h'"
      ]
     },
     "execution_count": 75,
     "metadata": {},
     "output_type": "execute_result"
    }
   ],
   "source": [
    "# Base binance url for calling API\n",
    "base_url = \"https://fapi.binance.com\"\n",
    "event = \"/fapi/v1/continuousKlines\"\n",
    "pair_btcusdt = \"BTCUSDT\"                            # string, mandatory\n",
    "contractType = 'PERPETUAL'                          # enum, mandatory\n",
    "interval = '2h'\n",
    "\n",
    "# Params for additional data\n",
    "pair_ethusdt = \"ETHUSDT\"\n",
    "pair_xrpusdt = \"XRPUSDT\"\n",
    "pair_ethusdt = \"ETHUSDT\"\n",
    "pair_ethusdt = \"ETHUSDT\"\n",
    "\n",
    "\n",
    "# Build partial query URL\n",
    "query_url_btcusdt = f\"{base_url}{event}?pair={pair_btcusdt}&contractType={contractType}&interval={interval}\"\n",
    "query_url_btcusdt\n"
   ]
  },
  {
   "cell_type": "code",
   "execution_count": 74,
   "metadata": {},
   "outputs": [
    {
     "data": {
      "text/plain": [
       "{'code': -1120, 'msg': 'Invalid interval.'}"
      ]
     },
     "execution_count": 74,
     "metadata": {},
     "output_type": "execute_result"
    }
   ],
   "source": [
    "response_btcusdt = requests.get(query_url_btcusdt).json()\n",
    "response_btcusdt\n",
    "\n",
    "\n"
   ]
  },
  {
   "cell_type": "code",
   "execution_count": 69,
   "metadata": {},
   "outputs": [
    {
     "name": "stdout",
     "output_type": "stream",
     "text": [
      "There are 500 points per (btcusdt_raw_df.shape). I have a limit of 500 responses.\n",
      "30 days x 24 hrs = 720hrs. Rolling last 720hr required, 1.44hr intervals returns 500 data points.\n",
      "Rounding up to intervals of 2hrs, for max datapoints that cover last 720 hrs (30days)\n"
     ]
    }
   ],
   "source": [
    "## Convert retrieved json > Pandas dataframe\n",
    "btcusdt_raw_df = pd.DataFrame(response_btcusdt)\n",
    "# btcusdt_raw_df\n",
    "\n",
    "\n",
    "## Rename columns of df, based on response dictionary,\n",
    "# from (https://binance-docs.github.io/apidocs/futures/en/#continuous-contract-kline-candlestick-data):\n",
    "#     1607444700000,          // Open time\n",
    "#     \"18879.99\",             // Open\n",
    "#     \"18900.00\",             // High\n",
    "#     \"18878.98\",             // Low\n",
    "#     \"18896.13\",             // Close (or latest price)\n",
    "#     \"492.363\",              // Volume\n",
    "#     1607444759999,          // Close time\n",
    "#     \"9302145.66080\",        // Quote asset volume\n",
    "#     1874,                   // Number of trades\n",
    "#     \"385.983\",              // Taker buy volume\n",
    "#     \"7292402.33267\",        // Taker buy quote asset volume\n",
    "#     \"0\"                     // Ignore.\n",
    "btcusdt_raw_df.columns = [\"Open time\", \"Open\", \"High\", \"Low\", \"Close (or latest price)\",\n",
    "                          \"Volume\", \"Close time\", \"Quote asset volume\", \"Number of trades\",\n",
    "                          \"Taker buy volume\", \"Taker buy quote asset volume\", \"Ignore\"]\n",
    "# print(btcusdt_raw_df.head())\n",
    "\n",
    "print(f'There are 500 points per (btcusdt_raw_df.shape). I have a limit of 500 responses.')\n",
    "print(f'30 days x 24 hrs = 720hrs. Rolling last 720hr required, 1.44hr intervals returns 500 data points.')\n",
    "print(f'Rounding up to intervals of 2hrs, for max datapoints that cover last 720 hrs (30days)')"
   ]
  },
  {
   "cell_type": "code",
   "execution_count": 71,
   "metadata": {},
   "outputs": [
    {
     "data": {
      "text/plain": [
       "Open time                        int64\n",
       "Open                            object\n",
       "High                            object\n",
       "Low                             object\n",
       "Close (or latest price)         object\n",
       "Volume                          object\n",
       "Close time                       int64\n",
       "Quote asset volume              object\n",
       "Number of trades                 int64\n",
       "Taker buy volume                object\n",
       "Taker buy quote asset volume    object\n",
       "Ignore                          object\n",
       "dtype: object"
      ]
     },
     "execution_count": 71,
     "metadata": {},
     "output_type": "execute_result"
    }
   ],
   "source": [
    "# Check data type of df\n",
    "btcusdt_raw_df.dtypes"
   ]
  },
  {
   "cell_type": "code",
   "execution_count": 78,
   "metadata": {},
   "outputs": [
    {
     "ename": "TypeError",
     "evalue": "cannot perform __truediv__ with this index type: DatetimeArray",
     "output_type": "error",
     "traceback": [
      "\u001b[1;31m---------------------------------------------------------------------------\u001b[0m",
      "\u001b[1;31mTypeError\u001b[0m                                 Traceback (most recent call last)",
      "\u001b[1;32m~\\AppData\\Local\\Temp\\ipykernel_1384\\2952083352.py\u001b[0m in \u001b[0;36m<module>\u001b[1;34m\u001b[0m\n\u001b[0;32m      1\u001b[0m \u001b[1;31m# Convert Open/close times to datetime\u001b[0m\u001b[1;33m\u001b[0m\u001b[1;33m\u001b[0m\u001b[1;33m\u001b[0m\u001b[0m\n\u001b[1;32m----> 2\u001b[1;33m \u001b[0mbtcusdt_raw_df\u001b[0m\u001b[1;33m[\u001b[0m\u001b[1;34m\"Open time\"\u001b[0m\u001b[1;33m]\u001b[0m \u001b[1;33m=\u001b[0m \u001b[0mpd\u001b[0m\u001b[1;33m.\u001b[0m\u001b[0mto_datetime\u001b[0m\u001b[1;33m(\u001b[0m\u001b[0mbtcusdt_raw_df\u001b[0m\u001b[1;33m[\u001b[0m\u001b[1;34m\"Open time\"\u001b[0m\u001b[1;33m]\u001b[0m\u001b[1;33m/\u001b[0m\u001b[1;36m1000\u001b[0m\u001b[1;33m,\u001b[0m \u001b[0munit\u001b[0m\u001b[1;33m=\u001b[0m\u001b[1;34m's'\u001b[0m\u001b[1;33m)\u001b[0m\u001b[1;33m\u001b[0m\u001b[1;33m\u001b[0m\u001b[0m\n\u001b[0m\u001b[0;32m      3\u001b[0m \u001b[0mbtcusdt_raw_df\u001b[0m\u001b[1;33m[\u001b[0m\u001b[1;34m\"Close time\"\u001b[0m\u001b[1;33m]\u001b[0m \u001b[1;33m=\u001b[0m \u001b[0mpd\u001b[0m\u001b[1;33m.\u001b[0m\u001b[0mto_datetime\u001b[0m\u001b[1;33m(\u001b[0m\u001b[0mbtcusdt_raw_df\u001b[0m\u001b[1;33m[\u001b[0m\u001b[1;34m\"Close time\"\u001b[0m\u001b[1;33m]\u001b[0m\u001b[1;33m/\u001b[0m\u001b[1;36m1000\u001b[0m\u001b[1;33m,\u001b[0m \u001b[0munit\u001b[0m\u001b[1;33m=\u001b[0m\u001b[1;34m's'\u001b[0m\u001b[1;33m)\u001b[0m\u001b[1;33m\u001b[0m\u001b[1;33m\u001b[0m\u001b[0m\n\u001b[0;32m      4\u001b[0m \u001b[0mbtcusdt_raw_df\u001b[0m\u001b[1;33m.\u001b[0m\u001b[0mhead\u001b[0m\u001b[1;33m(\u001b[0m\u001b[1;33m)\u001b[0m\u001b[1;33m\u001b[0m\u001b[1;33m\u001b[0m\u001b[0m\n",
      "\u001b[1;32mc:\\Users\\Steve\\anaconda3\\envs\\bootcamp\\lib\\site-packages\\pandas\\core\\ops\\common.py\u001b[0m in \u001b[0;36mnew_method\u001b[1;34m(self, other)\u001b[0m\n\u001b[0;32m     67\u001b[0m         \u001b[0mother\u001b[0m \u001b[1;33m=\u001b[0m \u001b[0mitem_from_zerodim\u001b[0m\u001b[1;33m(\u001b[0m\u001b[0mother\u001b[0m\u001b[1;33m)\u001b[0m\u001b[1;33m\u001b[0m\u001b[1;33m\u001b[0m\u001b[0m\n\u001b[0;32m     68\u001b[0m \u001b[1;33m\u001b[0m\u001b[0m\n\u001b[1;32m---> 69\u001b[1;33m         \u001b[1;32mreturn\u001b[0m \u001b[0mmethod\u001b[0m\u001b[1;33m(\u001b[0m\u001b[0mself\u001b[0m\u001b[1;33m,\u001b[0m \u001b[0mother\u001b[0m\u001b[1;33m)\u001b[0m\u001b[1;33m\u001b[0m\u001b[1;33m\u001b[0m\u001b[0m\n\u001b[0m\u001b[0;32m     70\u001b[0m \u001b[1;33m\u001b[0m\u001b[0m\n\u001b[0;32m     71\u001b[0m     \u001b[1;32mreturn\u001b[0m \u001b[0mnew_method\u001b[0m\u001b[1;33m\u001b[0m\u001b[1;33m\u001b[0m\u001b[0m\n",
      "\u001b[1;32mc:\\Users\\Steve\\anaconda3\\envs\\bootcamp\\lib\\site-packages\\pandas\\core\\arraylike.py\u001b[0m in \u001b[0;36m__truediv__\u001b[1;34m(self, other)\u001b[0m\n\u001b[0;32m    114\u001b[0m     \u001b[1;33m@\u001b[0m\u001b[0munpack_zerodim_and_defer\u001b[0m\u001b[1;33m(\u001b[0m\u001b[1;34m\"__truediv__\"\u001b[0m\u001b[1;33m)\u001b[0m\u001b[1;33m\u001b[0m\u001b[1;33m\u001b[0m\u001b[0m\n\u001b[0;32m    115\u001b[0m     \u001b[1;32mdef\u001b[0m \u001b[0m__truediv__\u001b[0m\u001b[1;33m(\u001b[0m\u001b[0mself\u001b[0m\u001b[1;33m,\u001b[0m \u001b[0mother\u001b[0m\u001b[1;33m)\u001b[0m\u001b[1;33m:\u001b[0m\u001b[1;33m\u001b[0m\u001b[1;33m\u001b[0m\u001b[0m\n\u001b[1;32m--> 116\u001b[1;33m         \u001b[1;32mreturn\u001b[0m \u001b[0mself\u001b[0m\u001b[1;33m.\u001b[0m\u001b[0m_arith_method\u001b[0m\u001b[1;33m(\u001b[0m\u001b[0mother\u001b[0m\u001b[1;33m,\u001b[0m \u001b[0moperator\u001b[0m\u001b[1;33m.\u001b[0m\u001b[0mtruediv\u001b[0m\u001b[1;33m)\u001b[0m\u001b[1;33m\u001b[0m\u001b[1;33m\u001b[0m\u001b[0m\n\u001b[0m\u001b[0;32m    117\u001b[0m \u001b[1;33m\u001b[0m\u001b[0m\n\u001b[0;32m    118\u001b[0m     \u001b[1;33m@\u001b[0m\u001b[0munpack_zerodim_and_defer\u001b[0m\u001b[1;33m(\u001b[0m\u001b[1;34m\"__rtruediv__\"\u001b[0m\u001b[1;33m)\u001b[0m\u001b[1;33m\u001b[0m\u001b[1;33m\u001b[0m\u001b[0m\n",
      "\u001b[1;32mc:\\Users\\Steve\\anaconda3\\envs\\bootcamp\\lib\\site-packages\\pandas\\core\\series.py\u001b[0m in \u001b[0;36m_arith_method\u001b[1;34m(self, other, op)\u001b[0m\n\u001b[0;32m   5524\u001b[0m \u001b[1;33m\u001b[0m\u001b[0m\n\u001b[0;32m   5525\u001b[0m         \u001b[1;32mwith\u001b[0m \u001b[0mnp\u001b[0m\u001b[1;33m.\u001b[0m\u001b[0merrstate\u001b[0m\u001b[1;33m(\u001b[0m\u001b[0mall\u001b[0m\u001b[1;33m=\u001b[0m\u001b[1;34m\"ignore\"\u001b[0m\u001b[1;33m)\u001b[0m\u001b[1;33m:\u001b[0m\u001b[1;33m\u001b[0m\u001b[1;33m\u001b[0m\u001b[0m\n\u001b[1;32m-> 5526\u001b[1;33m             \u001b[0mresult\u001b[0m \u001b[1;33m=\u001b[0m \u001b[0mops\u001b[0m\u001b[1;33m.\u001b[0m\u001b[0marithmetic_op\u001b[0m\u001b[1;33m(\u001b[0m\u001b[0mlvalues\u001b[0m\u001b[1;33m,\u001b[0m \u001b[0mrvalues\u001b[0m\u001b[1;33m,\u001b[0m \u001b[0mop\u001b[0m\u001b[1;33m)\u001b[0m\u001b[1;33m\u001b[0m\u001b[1;33m\u001b[0m\u001b[0m\n\u001b[0m\u001b[0;32m   5527\u001b[0m \u001b[1;33m\u001b[0m\u001b[0m\n\u001b[0;32m   5528\u001b[0m         \u001b[1;32mreturn\u001b[0m \u001b[0mself\u001b[0m\u001b[1;33m.\u001b[0m\u001b[0m_construct_result\u001b[0m\u001b[1;33m(\u001b[0m\u001b[0mresult\u001b[0m\u001b[1;33m,\u001b[0m \u001b[0mname\u001b[0m\u001b[1;33m=\u001b[0m\u001b[0mres_name\u001b[0m\u001b[1;33m)\u001b[0m\u001b[1;33m\u001b[0m\u001b[1;33m\u001b[0m\u001b[0m\n",
      "\u001b[1;32mc:\\Users\\Steve\\anaconda3\\envs\\bootcamp\\lib\\site-packages\\pandas\\core\\ops\\array_ops.py\u001b[0m in \u001b[0;36marithmetic_op\u001b[1;34m(left, right, op)\u001b[0m\n\u001b[0;32m    216\u001b[0m         \u001b[1;31m# Timedelta/Timestamp and other custom scalars are included in the check\u001b[0m\u001b[1;33m\u001b[0m\u001b[1;33m\u001b[0m\u001b[1;33m\u001b[0m\u001b[0m\n\u001b[0;32m    217\u001b[0m         \u001b[1;31m# because numexpr will fail on it, see GH#31457\u001b[0m\u001b[1;33m\u001b[0m\u001b[1;33m\u001b[0m\u001b[1;33m\u001b[0m\u001b[0m\n\u001b[1;32m--> 218\u001b[1;33m         \u001b[0mres_values\u001b[0m \u001b[1;33m=\u001b[0m \u001b[0mop\u001b[0m\u001b[1;33m(\u001b[0m\u001b[0mleft\u001b[0m\u001b[1;33m,\u001b[0m \u001b[0mright\u001b[0m\u001b[1;33m)\u001b[0m\u001b[1;33m\u001b[0m\u001b[1;33m\u001b[0m\u001b[0m\n\u001b[0m\u001b[0;32m    219\u001b[0m     \u001b[1;32melse\u001b[0m\u001b[1;33m:\u001b[0m\u001b[1;33m\u001b[0m\u001b[1;33m\u001b[0m\u001b[0m\n\u001b[0;32m    220\u001b[0m         \u001b[1;31m# TODO we should handle EAs consistently and move this check before the if/else\u001b[0m\u001b[1;33m\u001b[0m\u001b[1;33m\u001b[0m\u001b[1;33m\u001b[0m\u001b[0m\n",
      "\u001b[1;32mc:\\Users\\Steve\\anaconda3\\envs\\bootcamp\\lib\\site-packages\\pandas\\core\\ops\\invalid.py\u001b[0m in \u001b[0;36minvalid_op\u001b[1;34m(self, other)\u001b[0m\n\u001b[0;32m     51\u001b[0m     \u001b[1;32mdef\u001b[0m \u001b[0minvalid_op\u001b[0m\u001b[1;33m(\u001b[0m\u001b[0mself\u001b[0m\u001b[1;33m,\u001b[0m \u001b[0mother\u001b[0m\u001b[1;33m=\u001b[0m\u001b[1;32mNone\u001b[0m\u001b[1;33m)\u001b[0m\u001b[1;33m:\u001b[0m\u001b[1;33m\u001b[0m\u001b[1;33m\u001b[0m\u001b[0m\n\u001b[0;32m     52\u001b[0m         \u001b[0mtyp\u001b[0m \u001b[1;33m=\u001b[0m \u001b[0mtype\u001b[0m\u001b[1;33m(\u001b[0m\u001b[0mself\u001b[0m\u001b[1;33m)\u001b[0m\u001b[1;33m.\u001b[0m\u001b[0m__name__\u001b[0m\u001b[1;33m\u001b[0m\u001b[1;33m\u001b[0m\u001b[0m\n\u001b[1;32m---> 53\u001b[1;33m         \u001b[1;32mraise\u001b[0m \u001b[0mTypeError\u001b[0m\u001b[1;33m(\u001b[0m\u001b[1;34mf\"cannot perform {name} with this index type: {typ}\"\u001b[0m\u001b[1;33m)\u001b[0m\u001b[1;33m\u001b[0m\u001b[1;33m\u001b[0m\u001b[0m\n\u001b[0m\u001b[0;32m     54\u001b[0m \u001b[1;33m\u001b[0m\u001b[0m\n\u001b[0;32m     55\u001b[0m     \u001b[0minvalid_op\u001b[0m\u001b[1;33m.\u001b[0m\u001b[0m__name__\u001b[0m \u001b[1;33m=\u001b[0m \u001b[0mname\u001b[0m\u001b[1;33m\u001b[0m\u001b[1;33m\u001b[0m\u001b[0m\n",
      "\u001b[1;31mTypeError\u001b[0m: cannot perform __truediv__ with this index type: DatetimeArray"
     ]
    }
   ],
   "source": [
    "# Convert Open/close times to datetime\n",
    "btcusdt_raw_df[\"Open time\"] = pd.to_datetime(btcusdt_raw_df[\"Open time\"]/1000, unit='s')\n",
    "btcusdt_raw_df[\"Close time\"] = pd.to_datetime(btcusdt_raw_df[\"Close time\"]/1000, unit='s')\n",
    "btcusdt_raw_df.head()"
   ]
  },
  {
   "cell_type": "code",
   "execution_count": null,
   "metadata": {},
   "outputs": [],
   "source": []
  },
  {
   "cell_type": "code",
   "execution_count": null,
   "metadata": {},
   "outputs": [],
   "source": [
    "# class BinanceSocketType(str, Enum):\n",
    "#     SPOT = 'Spot'\n",
    "#     USD_M_FUTURES = 'USD_M_Futures'\n",
    "#     COIN_M_FUTURES = 'Coin_M_Futures'\n",
    "#     OPTIONS = 'Vanilla_Options'\n",
    "#     ACCOUNT = 'Account'"
   ]
  }
 ],
 "metadata": {
  "kernelspec": {
   "display_name": "Python 3.7.13 ('bootcamp')",
   "language": "python",
   "name": "python3"
  },
  "language_info": {
   "codemirror_mode": {
    "name": "ipython",
    "version": 3
   },
   "file_extension": ".py",
   "mimetype": "text/x-python",
   "name": "python",
   "nbconvert_exporter": "python",
   "pygments_lexer": "ipython3",
   "version": "3.7.13"
  },
  "orig_nbformat": 4,
  "vscode": {
   "interpreter": {
    "hash": "c1045dce47e268ff1365c3f603defeb0aa850c229e636842f21fdc3e170438c8"
   }
  }
 },
 "nbformat": 4,
 "nbformat_minor": 2
}
