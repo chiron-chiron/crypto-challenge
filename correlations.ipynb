{
 "cells": [
  {
   "cell_type": "markdown",
   "metadata": {},
   "source": [
    "### Crypto Challenge - Correlations\n",
    "\n",
    "#### Correlations b/w various crypto instruments (Binance)\n",
    "* Retrieve historic data from Binance using their API\n",
    "* Historic = most recent 30 days\n",
    "* Data = daily price data of various perpetual swap instruments\n",
    "* Instruments = perpetual swaps / on Binance USD-Margined derivatives exchange (\"USDS-M\"):\n",
    "    * BTC/USDT\n",
    "    * ETH/USDT\n",
    "    * XRP/USDT\n",
    "    * ADA/USDT\n",
    "    * SOL/USDT\n",
    "* Refer below for more instructions"
   ]
  },
  {
   "cell_type": "markdown",
   "metadata": {},
   "source": [
    "#### Info on USDS-M contracts:\n",
    "* Settlement in USD-pegged assets: contracts are denominated and settled in USDT or BUSD.\n",
    "* Expiration: Perpetual and Quarterly.\n",
    "* Clear pricing rules: each futures contract specifies the base asset's quantity delivered for a single contract, also known as \"Contract Unit\". For instance, BTC/USDT, ETH/USDT, and BCH/USDT futures contracts represent only one unit of its respective base asset, similar to spot markets.\n",
    "* (Source: https://www.binance.com/en/support/faq/85eac2bba0b342819122dc9bd4745e9b)\n",
    "\n",
    "* USDS-M Futures Contract Specifications: (https://www.binance.com/en/support/faq/360033161972)\n",
    "\n",
    "* Advantages of USDS-M contracts:\n",
    "\n",
    "* USDⓈ-Margined contracts are linear futures quoted and settled in USDT or BUSD. One of the key benefits of USDT or BUSD settlement is that you can easily calculate your returns in fiat. This makes USDⓈ-Margined contracts more intuitive. For example, when you make 500 BUSD in profit, you can easily estimate that the profit is worth approximately $500 - since the value of 1 BUSD is pegged closely to 1 USD.\n",
    "Additionally, a universal settlement currency, such as BUSD or USDT, provides more flexibility. You can use the same settlement currency across various futures contracts (i.e., BTC, ETH, XRP, etc.). This eliminates the need to buy the underlying coins to fund futures positions. As such, you will not incur excessive fees as there is no additional conversion required when trading with USDT.\n",
    "In periods of high volatility, USDⓈ-Margined contracts can help reduce the risk of large price swings. Thus, you do not need to worry about hedging their underlying collateral exposure.\n",
    "\n",
    "* Price Index of USDS-M Contracts:\n",
    "* The underlying contract for the Perpetual Contract is the ‘true’ value of the Contract, and an average of the prices on the major markets constitutes the “Price Index” which is the primary component of Mark Price.\n",
    "The Price Index is a bucket of prices from the major Spot Market Exchanges. The Price Index for USDⓈ-M futures contracts derives prices from Huobi, Okex, Bittrex, HitBTC, Gate.io, Bitmax, Poloniex, FTX, MXC. (Source: https://www.binance.com/en/support/faq/547ba48141474ab3bddc5d7898f97928)"
   ]
  },
  {
   "cell_type": "markdown",
   "metadata": {},
   "source": [
    "#### Code Documentation\n",
    "* Binance API docs: (https://binance-docs.github.io/)\n",
    "* Python-Binance library docs: (https://python-binance.readthedocs.io/)"
   ]
  },
  {
   "cell_type": "markdown",
   "metadata": {},
   "source": [
    "#### Troubleshooting\n",
    "* Dev forums: (https://dev.binance.vision)\n",
    "* "
   ]
  },
  {
   "cell_type": "code",
   "execution_count": 22,
   "metadata": {},
   "outputs": [],
   "source": [
    "# Install/import dependencies\n",
    "\n",
    "import json\n",
    "import requests\n",
    "# from api_keys import exchange_api_key1, exchange_api_key2\n",
    "import numpy as np\n",
    "import pandas as pd\n",
    "from pprint import pprint\n",
    "import matplotlib.pyplot as plt\n",
    "from scipy.stats import linregress\n",
    "\n",
    "# python-binance package install\n"
   ]
  },
  {
   "cell_type": "code",
   "execution_count": 23,
   "metadata": {},
   "outputs": [],
   "source": [
    "# Import initialise exchange api keys\n",
    "from api_keys import exchange_api_key1, exchange_api_key2"
   ]
  },
  {
   "cell_type": "code",
   "execution_count": 24,
   "metadata": {},
   "outputs": [],
   "source": [
    "# Install crypto/finance specific dependencies\n",
    "# ! pip install python-binance"
   ]
  },
  {
   "cell_type": "code",
   "execution_count": 25,
   "metadata": {},
   "outputs": [],
   "source": [
    "# Import crypto/finance dependencies\n",
    "# from binance import Client"
   ]
  },
  {
   "cell_type": "code",
   "execution_count": 26,
   "metadata": {},
   "outputs": [],
   "source": [
    "# Authenticate exchange API keys to python client (using Binance-Python)\n",
    "# Setup client\n",
    "# client = Client(exchange_api_key1, exchange_api_key2)"
   ]
  },
  {
   "cell_type": "code",
   "execution_count": 27,
   "metadata": {},
   "outputs": [],
   "source": [
    "# tickers = client.get_all_tickers()\n",
    "# tickers"
   ]
  },
  {
   "cell_type": "code",
   "execution_count": 28,
   "metadata": {},
   "outputs": [],
   "source": [
    "# Checking rate limits\n",
    "# client.get_exchange_info()\n"
   ]
  },
  {
   "cell_type": "code",
   "execution_count": 29,
   "metadata": {},
   "outputs": [],
   "source": [
    "# price_data = client.get_historical_klines('BTCUSDT', Client.KLINE_INTERVAL_1DAY,'13 Sep 2022')\n",
    "# price_data"
   ]
  },
  {
   "cell_type": "code",
   "execution_count": 30,
   "metadata": {},
   "outputs": [],
   "source": [
    "# client.get_historical_klines_generator??\n",
    "\n",
    "# client.get_continuousklines??\n",
    "\n",
    "# client.futures_continous_klines('BTCUSDT')\n",
    "#https://fapi.binance.com/fapi/v1/continuousKlines?pair=BTCUSDT&contractType=PERPETUAL"
   ]
  },
  {
   "cell_type": "code",
   "execution_count": 31,
   "metadata": {},
   "outputs": [],
   "source": [
    "# base_url = "
   ]
  },
  {
   "cell_type": "code",
   "execution_count": 32,
   "metadata": {},
   "outputs": [],
   "source": [
    "# btcfutures = client.get_historical_klines(symbol='BTCUSDT',\n",
    "#                                           type= 'USD_M_Futures',\n",
    "#                                           interval=Client.KLINE_INTERVAL_1DAY,\n",
    "#                                           start_str= '',)"
   ]
  },
  {
   "cell_type": "code",
   "execution_count": 33,
   "metadata": {},
   "outputs": [],
   "source": [
    "# client.get_continuous_kline()"
   ]
  },
  {
   "cell_type": "markdown",
   "metadata": {},
   "source": [
    "### Perform API Calls\n",
    "* Binance API docs:\n",
    "https://binance-docs.github.io/apidocs/spot/en/#rolling-window-price-change-statistics"
   ]
  },
  {
   "cell_type": "code",
   "execution_count": 34,
   "metadata": {},
   "outputs": [
    {
     "data": {
      "text/plain": [
       "'https://fapi.binance.com/fapi/v1/continuousKlines?pair=ETHUSDT&contractType=PERPETUAL&interval=2h'"
      ]
     },
     "execution_count": 34,
     "metadata": {},
     "output_type": "execute_result"
    }
   ],
   "source": [
    "# Base binance url for calling API\n",
    "base_url = \"https://fapi.binance.com\"\n",
    "event = \"/fapi/v1/continuousKlines\"\n",
    "pair_btcusdt = \"BTCUSDT\"                                          # string, mandatory\n",
    "# pairs = [\"BTCUSDT\", \"ETHUSDT\", \"XRPUSDT\", \"ADAUSDT\", \"SOLUSDT\"]\n",
    "contractType = 'PERPETUAL'                                          # enum, mandatory\n",
    "interval = '2h'\n",
    "\n",
    "# # Params for additional data\n",
    "pair_ethusdt = \"ETHUSDT\"\n",
    "pair_xrpusdt = \"XRPUSDT\"\n",
    "pair_adausdt = \"ADAUSDT\"\n",
    "pair_solusdt = \"SOLUSDT\"\n",
    "\n",
    "\n",
    "# Build various query URLs\n",
    "query_url_btcusdt = f\"{base_url}{event}?pair={pair_btcusdt}&contractType={contractType}&interval={interval}\"\n",
    "query_url_ethusdt = f\"{base_url}{event}?pair={pair_ethusdt}&contractType={contractType}&interval={interval}\"\n",
    "query_url_xrpusdt = f\"{base_url}{event}?pair={pair_xrpusdt}&contractType={contractType}&interval={interval}\"\n",
    "query_url_adausdt = f\"{base_url}{event}?pair={pair_adausdt}&contractType={contractType}&interval={interval}\"\n",
    "query_url_solusdt = f\"{base_url}{event}?pair={pair_solusdt}&contractType={contractType}&interval={interval}\"\n",
    "\n",
    "query_url_ethusdt\n"
   ]
  },
  {
   "cell_type": "code",
   "execution_count": 35,
   "metadata": {},
   "outputs": [],
   "source": [
    "# Loop query_url customising for each pair. This code would be required to scale exercise.\n",
    "# for pair in pairs:\n",
    "#     try:\n",
    "#         # Retrieve \"continuousKlines\" for perps\n",
    "#         query_url = f\"{base_url}{event}?pair={pair}&contractType={contractType}&interval={interval}\"\n",
    "#         response = requests.get(query_url).json()\n",
    "#         f'{pair}_raw_df' = pd.DataFrame(response)"
   ]
  },
  {
   "cell_type": "code",
   "execution_count": 36,
   "metadata": {},
   "outputs": [],
   "source": [
    "response_btcusdt = requests.get(query_url_btcusdt).json()\n",
    "response_ethusdt = requests.get(query_url_ethusdt).json()\n",
    "response_xrpusdt = requests.get(query_url_xrpusdt).json()\n",
    "response_adausdt = requests.get(query_url_adausdt).json()\n",
    "response_solusdt = requests.get(query_url_solusdt).json()\n",
    "# response_solusdt"
   ]
  },
  {
   "cell_type": "code",
   "execution_count": 37,
   "metadata": {},
   "outputs": [],
   "source": [
    "## Convert retrieved json > Pandas dataframe\n",
    "btcusdt_raw_df = pd.DataFrame(response_btcusdt)\n",
    "ethusdt_raw_df = pd.DataFrame(response_ethusdt)\n",
    "xrpusdt_raw_df = pd.DataFrame(response_xrpusdt)\n",
    "adausdt_raw_df = pd.DataFrame(response_adausdt)\n",
    "solusdt_raw_df = pd.DataFrame(response_solusdt)\n",
    "# btcusdt_raw_df\n",
    "\n",
    "\n",
    "## Rename columns of df, based on response dictionary,\n",
    "# from (https://binance-docs.github.io/apidocs/futures/en/#continuous-contract-kline-candlestick-data):\n",
    "#     1607444700000,          // Open time\n",
    "#     \"18879.99\",             // Open\n",
    "#     \"18900.00\",             // High\n",
    "#     \"18878.98\",             // Low\n",
    "#     \"18896.13\",             // Close (or latest price)\n",
    "#     \"492.363\",              // Volume\n",
    "#     1607444759999,          // Close time\n",
    "#     \"9302145.66080\",        // Quote asset volume\n",
    "#     1874,                   // Number of trades\n",
    "#     \"385.983\",              // Taker buy volume\n",
    "#     \"7292402.33267\",        // Taker buy quote asset volume\n",
    "#     \"0\"                     // Ignore.\n",
    "\n",
    "btcusdt_raw_df.columns = [\"Open_time\", \"Open_BTC\", \"High_BTC\", \"Low_BTC\", \"Close_BTC\",\n",
    "                          \"Volume\", \"Close_time_BTC\", \"Quote_asset_volume\", \"Number_of_trades\",\n",
    "                          \"Taker_buy_volume\", \"Taker_buy_quote_asset_volume\", \"Ignore\"]\n",
    "ethusdt_raw_df.columns = [\"Open_time\", \"Open_ETH\", \"High_ETH\", \"Low_BTC\", \"Close_ETH\",\n",
    "                          \"Volume\", \"Close_time_ETH\", \"Quote_asset_volume\", \"Number_of_trades\",\n",
    "                          \"Taker_buy_volume\", \"Taker_buy_quote_asset_volume\", \"Ignore\"]\n",
    "xrpusdt_raw_df.columns = [\"Open_time\", \"Open_XRP\", \"High_XRP\", \"Low_XRP\", \"Close_XRP\",\n",
    "                          \"Volume\", \"Close_time_XRP\", \"Quote_asset_volume\", \"Number_of_trades\",\n",
    "                          \"Taker_buy_volume\", \"Taker_buy_quote_asset_volume\", \"Ignore\"]\n",
    "adausdt_raw_df.columns = [\"Open_time\", \"Open_ADA\", \"High_ADA\", \"Low_ADA\", \"Close_ADA\",\n",
    "                          \"Volume\", \"Close_time_ADA\", \"Quote_asset_volume\", \"Number_of_trades\",\n",
    "                          \"Taker_buy_volume\", \"Taker_buy_quote_asset_volume\", \"Ignore\"]\n",
    "solusdt_raw_df.columns = [\"Open_time\", \"Open_SOL\", \"High_SOL\", \"Low_SOL\", \"Close_SOL\",\n",
    "                          \"Volume\", \"Close_time_SOL\", \"Quote_asset_volume\", \"Number_of_trades\",\n",
    "                          \"Taker_buy_volume\", \"Taker_buy_quote_asset_volume\", \"Ignore\"]\n"
   ]
  },
  {
   "cell_type": "code",
   "execution_count": 38,
   "metadata": {},
   "outputs": [
    {
     "name": "stdout",
     "output_type": "stream",
     "text": [
      "There are 500 data points per pair (proof: btcusdt_raw_df.shape). I have a limit of 500 responses.\n",
      "30 days x 24 hrs = 720hrs. Rolling last 720hr required, 1.44hr intervals returns 500 data points.\n",
      "Rounding up to intervals of 2hrs, for max datapoints that cover last 720 hrs (30days)\n"
     ]
    }
   ],
   "source": [
    "## Check len of response\n",
    "# print(solusdt_raw_df.head())\n",
    "# btcusdt_raw_df.shape\n",
    "\n",
    "print(f'There are 500 data points per pair (proof: btcusdt_raw_df.shape). I have a limit of 500 responses.')\n",
    "print(f'30 days x 24 hrs = 720hrs. Rolling last 720hr required, 1.44hr intervals returns 500 data points.')\n",
    "print(f'Rounding up to intervals of 2hrs, for max datapoints that cover last 720 hrs (30days)')"
   ]
  },
  {
   "cell_type": "code",
   "execution_count": 39,
   "metadata": {},
   "outputs": [
    {
     "data": {
      "text/plain": [
       "Open_time                        int64\n",
       "Open_SOL                        object\n",
       "High_SOL                        object\n",
       "Low_SOL                         object\n",
       "Close_SOL                       object\n",
       "Volume                          object\n",
       "Close_time_SOL                   int64\n",
       "Quote_asset_volume              object\n",
       "Number_of_trades                 int64\n",
       "Taker_buy_volume                object\n",
       "Taker_buy_quote_asset_volume    object\n",
       "Ignore                          object\n",
       "dtype: object"
      ]
     },
     "execution_count": 39,
     "metadata": {},
     "output_type": "execute_result"
    }
   ],
   "source": [
    "# Check data type of DFs\n",
    "solusdt_raw_df.dtypes"
   ]
  },
  {
   "cell_type": "code",
   "execution_count": 40,
   "metadata": {},
   "outputs": [],
   "source": [
    "# Convert Open/close times to datetime\n",
    "btcusdt_raw_df[\"Open_time\"] = pd.to_datetime(btcusdt_raw_df[\"Open_time\"]/1000, unit='s')\n",
    "btcusdt_raw_df[\"Close_time_BTC\"] = pd.to_datetime(btcusdt_raw_df[\"Close_time_BTC\"]/1000, unit='s')\n",
    "\n",
    "ethusdt_raw_df[\"Open_time\"] = pd.to_datetime(ethusdt_raw_df[\"Open_time\"]/1000, unit='s')\n",
    "ethusdt_raw_df[\"Close_time_ETH\"] = pd.to_datetime(ethusdt_raw_df[\"Close_time_ETH\"]/1000, unit='s')\n",
    "\n",
    "xrpusdt_raw_df[\"Open_time\"] = pd.to_datetime(xrpusdt_raw_df[\"Open_time\"]/1000, unit='s')\n",
    "xrpusdt_raw_df[\"Close_time_XRP\"] = pd.to_datetime(xrpusdt_raw_df[\"Close_time_XRP\"]/1000, unit='s')\n",
    "\n",
    "adausdt_raw_df[\"Open_time\"] = pd.to_datetime(adausdt_raw_df[\"Open_time\"]/1000, unit='s')\n",
    "adausdt_raw_df[\"Close_time_ADA\"] = pd.to_datetime(adausdt_raw_df[\"Close_time_ADA\"]/1000, unit='s')\n",
    "\n",
    "solusdt_raw_df[\"Open_time\"] = pd.to_datetime(solusdt_raw_df[\"Open_time\"]/1000, unit='s')\n",
    "solusdt_raw_df[\"Close_time_SOL\"] = pd.to_datetime(solusdt_raw_df[\"Close_time_SOL\"]/1000, unit='s')"
   ]
  },
  {
   "cell_type": "code",
   "execution_count": 41,
   "metadata": {},
   "outputs": [
    {
     "name": "stdout",
     "output_type": "stream",
     "text": [
      "              Open_time Open_XRP High_XRP Low_XRP Close_XRP       Volume  \\\n",
      "495 2022-09-15 02:00:00   0.3386   0.3387  0.3320    0.3355  102669005.4   \n",
      "496 2022-09-15 04:00:00   0.3354   0.3393  0.3343    0.3372   97419809.9   \n",
      "497 2022-09-15 06:00:00   0.3372   0.3425  0.3332    0.3406  135228937.0   \n",
      "498 2022-09-15 08:00:00   0.3406   0.3406  0.3368    0.3370   49422859.2   \n",
      "499 2022-09-15 10:00:00   0.3370   0.3381  0.3344    0.3359   43691934.6   \n",
      "\n",
      "                   Close_time_XRP Quote_asset_volume  Number_of_trades  \\\n",
      "495 2022-09-15 03:59:59.999000064     34396387.02492             43811   \n",
      "496 2022-09-15 05:59:59.999000064     32811812.04278             42469   \n",
      "497 2022-09-15 07:59:59.999000064     45748679.02170             58164   \n",
      "498 2022-09-15 09:59:59.999000064     16747149.58160             28050   \n",
      "499 2022-09-15 11:59:59.999000064     14689302.10323             24503   \n",
      "\n",
      "    Taker_buy_volume Taker_buy_quote_asset_volume Ignore  \n",
      "495       48708510.2               16319968.64810      0  \n",
      "496       43942618.1               14800578.13568      0  \n",
      "497       64837206.2               21941189.02147      0  \n",
      "498       23665115.0                8019376.92788      0  \n",
      "499       20420230.2                6865998.62702      0  \n",
      "            Open_time Open_ADA High_ADA  Low_ADA Close_ADA    Volume  \\\n",
      "0 2022-08-04 20:00:00  0.49720  0.49970  0.49570   0.49630  19977848   \n",
      "1 2022-08-04 22:00:00  0.49640  0.50020  0.49520   0.49930  37551819   \n",
      "2 2022-08-05 00:00:00  0.49930  0.50800  0.49890   0.50720  38920604   \n",
      "3 2022-08-05 02:00:00  0.50720  0.51140  0.50690   0.50960  43208595   \n",
      "4 2022-08-05 04:00:00  0.50970  0.51270  0.50720   0.51230  31550482   \n",
      "\n",
      "                 Close_time_ADA Quote_asset_volume  Number_of_trades  \\\n",
      "0 2022-08-04 21:59:59.999000064      9949622.27110             18070   \n",
      "1 2022-08-04 23:59:59.999000064     18697697.57380             27569   \n",
      "2 2022-08-05 01:59:59.999000064     19541437.62880             33804   \n",
      "3 2022-08-05 03:59:59.999000064     22006809.70690             38560   \n",
      "4 2022-08-05 05:59:59.999000064     16080613.32150             27413   \n",
      "\n",
      "  Taker_buy_volume Taker_buy_quote_asset_volume Ignore  \n",
      "0          8982846                4474369.85470      0  \n",
      "1         18309042                9116100.54310      0  \n",
      "2         20843237               10471574.72620      0  \n",
      "3         21132992               10764634.36300      0  \n",
      "4         16492304                8407702.80440      0  \n"
     ]
    }
   ],
   "source": [
    "# Check head and tail of DFs. \n",
    "# As API returns data in ascending (head = nth itme), (tail = more recent interval)\n",
    "print(xrpusdt_raw_df.tail())\n",
    "print(adausdt_raw_df.head())"
   ]
  },
  {
   "cell_type": "code",
   "execution_count": 42,
   "metadata": {},
   "outputs": [],
   "source": [
    "## Drop redundant columns\n",
    "\n",
    "# btcusdt_df = btcusdt_raw_df[[\"Open_time_BTC\",\"Open_BTC\",\"High_BTC\",\"Low_BTC\",\"Close_BTC\",\"Close_time_BTC\"]]\n",
    "# ethusdt_df = ethusdt_raw_df[[\"Open_time_ETH\",\"Open_ETH\",\"High_ETH\",\"Low_ETH\",\"Close_ETH\",\"Close_time_ETH\"]]\n",
    "# xrpusdt_df = xrpusdt_raw_df[[\"Open_time_XRP\",\"Open_XRP\",\"High_XRP\",\"Low_XRP\",\"Close_XRP\",\"Close_time_XRP\"]]\n",
    "# adausdt_df = adausdt_raw_df[[\"Open_time_ADA\",\"Open_ADA\",\"High_ADA\",\"Low_ADA\",\"Close_ADA\",\"Close_time_ADA\"]]\n",
    "# solusdt_df = solusdt_raw_df[[\"Open_time_SOL\",\"Open_SOL\",\"High_SOL\",\"Low_SOL\",\"Close_SOL\",\"Close_time_SOL\"]]\n",
    "\n",
    "btcusdt_df = btcusdt_raw_df[[\"Open_time\",\"Open_BTC\"]]\n",
    "ethusdt_df = ethusdt_raw_df[[\"Open_time\",\"Open_ETH\"]]\n",
    "xrpusdt_df = xrpusdt_raw_df[[\"Open_time\",\"Open_XRP\"]]\n",
    "adausdt_df = adausdt_raw_df[[\"Open_time\",\"Open_ADA\"]]\n",
    "solusdt_df = solusdt_raw_df[[\"Open_time\",\"Open_SOL\"]]"
   ]
  },
  {
   "cell_type": "code",
   "execution_count": 43,
   "metadata": {},
   "outputs": [
    {
     "data": {
      "text/html": [
       "<div>\n",
       "<style scoped>\n",
       "    .dataframe tbody tr th:only-of-type {\n",
       "        vertical-align: middle;\n",
       "    }\n",
       "\n",
       "    .dataframe tbody tr th {\n",
       "        vertical-align: top;\n",
       "    }\n",
       "\n",
       "    .dataframe thead th {\n",
       "        text-align: right;\n",
       "    }\n",
       "</style>\n",
       "<table border=\"1\" class=\"dataframe\">\n",
       "  <thead>\n",
       "    <tr style=\"text-align: right;\">\n",
       "      <th></th>\n",
       "      <th>Open_time</th>\n",
       "      <th>Open_SOL</th>\n",
       "    </tr>\n",
       "  </thead>\n",
       "  <tbody>\n",
       "    <tr>\n",
       "      <th>0</th>\n",
       "      <td>2022-08-04 20:00:00</td>\n",
       "      <td>38.3600</td>\n",
       "    </tr>\n",
       "    <tr>\n",
       "      <th>1</th>\n",
       "      <td>2022-08-04 22:00:00</td>\n",
       "      <td>38.1900</td>\n",
       "    </tr>\n",
       "    <tr>\n",
       "      <th>2</th>\n",
       "      <td>2022-08-05 00:00:00</td>\n",
       "      <td>38.8100</td>\n",
       "    </tr>\n",
       "    <tr>\n",
       "      <th>3</th>\n",
       "      <td>2022-08-05 02:00:00</td>\n",
       "      <td>39.4300</td>\n",
       "    </tr>\n",
       "    <tr>\n",
       "      <th>4</th>\n",
       "      <td>2022-08-05 04:00:00</td>\n",
       "      <td>40.1000</td>\n",
       "    </tr>\n",
       "    <tr>\n",
       "      <th>...</th>\n",
       "      <td>...</td>\n",
       "      <td>...</td>\n",
       "    </tr>\n",
       "    <tr>\n",
       "      <th>495</th>\n",
       "      <td>2022-09-15 02:00:00</td>\n",
       "      <td>33.8600</td>\n",
       "    </tr>\n",
       "    <tr>\n",
       "      <th>496</th>\n",
       "      <td>2022-09-15 04:00:00</td>\n",
       "      <td>33.0500</td>\n",
       "    </tr>\n",
       "    <tr>\n",
       "      <th>497</th>\n",
       "      <td>2022-09-15 06:00:00</td>\n",
       "      <td>33.3500</td>\n",
       "    </tr>\n",
       "    <tr>\n",
       "      <th>498</th>\n",
       "      <td>2022-09-15 08:00:00</td>\n",
       "      <td>34.6900</td>\n",
       "    </tr>\n",
       "    <tr>\n",
       "      <th>499</th>\n",
       "      <td>2022-09-15 10:00:00</td>\n",
       "      <td>33.7300</td>\n",
       "    </tr>\n",
       "  </tbody>\n",
       "</table>\n",
       "<p>500 rows × 2 columns</p>\n",
       "</div>"
      ],
      "text/plain": [
       "              Open_time Open_SOL\n",
       "0   2022-08-04 20:00:00  38.3600\n",
       "1   2022-08-04 22:00:00  38.1900\n",
       "2   2022-08-05 00:00:00  38.8100\n",
       "3   2022-08-05 02:00:00  39.4300\n",
       "4   2022-08-05 04:00:00  40.1000\n",
       "..                  ...      ...\n",
       "495 2022-09-15 02:00:00  33.8600\n",
       "496 2022-09-15 04:00:00  33.0500\n",
       "497 2022-09-15 06:00:00  33.3500\n",
       "498 2022-09-15 08:00:00  34.6900\n",
       "499 2022-09-15 10:00:00  33.7300\n",
       "\n",
       "[500 rows x 2 columns]"
      ]
     },
     "execution_count": 43,
     "metadata": {},
     "output_type": "execute_result"
    }
   ],
   "source": [
    "# Check new DFs\n",
    "solusdt_df"
   ]
  },
  {
   "cell_type": "code",
   "execution_count": 45,
   "metadata": {},
   "outputs": [
    {
     "data": {
      "text/html": [
       "<div>\n",
       "<style scoped>\n",
       "    .dataframe tbody tr th:only-of-type {\n",
       "        vertical-align: middle;\n",
       "    }\n",
       "\n",
       "    .dataframe tbody tr th {\n",
       "        vertical-align: top;\n",
       "    }\n",
       "\n",
       "    .dataframe thead th {\n",
       "        text-align: right;\n",
       "    }\n",
       "</style>\n",
       "<table border=\"1\" class=\"dataframe\">\n",
       "  <thead>\n",
       "    <tr style=\"text-align: right;\">\n",
       "      <th></th>\n",
       "      <th>Open_time</th>\n",
       "      <th>Open_BTC</th>\n",
       "      <th>Open_ETH</th>\n",
       "      <th>Open_XRP</th>\n",
       "      <th>Open_ADA</th>\n",
       "      <th>Open_SOL</th>\n",
       "    </tr>\n",
       "  </thead>\n",
       "  <tbody>\n",
       "    <tr>\n",
       "      <th>0</th>\n",
       "      <td>2022-08-04 20:00:00</td>\n",
       "      <td>22439.10</td>\n",
       "      <td>1590.23</td>\n",
       "      <td>0.3668</td>\n",
       "      <td>0.49720</td>\n",
       "      <td>38.3600</td>\n",
       "    </tr>\n",
       "    <tr>\n",
       "      <th>1</th>\n",
       "      <td>2022-08-04 22:00:00</td>\n",
       "      <td>22482.90</td>\n",
       "      <td>1585.80</td>\n",
       "      <td>0.3677</td>\n",
       "      <td>0.49640</td>\n",
       "      <td>38.1900</td>\n",
       "    </tr>\n",
       "    <tr>\n",
       "      <th>2</th>\n",
       "      <td>2022-08-05 00:00:00</td>\n",
       "      <td>22608.90</td>\n",
       "      <td>1607.20</td>\n",
       "      <td>0.3709</td>\n",
       "      <td>0.49930</td>\n",
       "      <td>38.8100</td>\n",
       "    </tr>\n",
       "    <tr>\n",
       "      <th>3</th>\n",
       "      <td>2022-08-05 02:00:00</td>\n",
       "      <td>22875.90</td>\n",
       "      <td>1646.34</td>\n",
       "      <td>0.3731</td>\n",
       "      <td>0.50720</td>\n",
       "      <td>39.4300</td>\n",
       "    </tr>\n",
       "    <tr>\n",
       "      <th>4</th>\n",
       "      <td>2022-08-05 04:00:00</td>\n",
       "      <td>23158.50</td>\n",
       "      <td>1659.36</td>\n",
       "      <td>0.3755</td>\n",
       "      <td>0.50970</td>\n",
       "      <td>40.1000</td>\n",
       "    </tr>\n",
       "    <tr>\n",
       "      <th>...</th>\n",
       "      <td>...</td>\n",
       "      <td>...</td>\n",
       "      <td>...</td>\n",
       "      <td>...</td>\n",
       "      <td>...</td>\n",
       "      <td>...</td>\n",
       "    </tr>\n",
       "    <tr>\n",
       "      <th>495</th>\n",
       "      <td>2022-09-15 02:00:00</td>\n",
       "      <td>20184.80</td>\n",
       "      <td>1616.48</td>\n",
       "      <td>0.3386</td>\n",
       "      <td>0.47730</td>\n",
       "      <td>33.8600</td>\n",
       "    </tr>\n",
       "    <tr>\n",
       "      <th>496</th>\n",
       "      <td>2022-09-15 04:00:00</td>\n",
       "      <td>20015.90</td>\n",
       "      <td>1593.86</td>\n",
       "      <td>0.3354</td>\n",
       "      <td>0.46990</td>\n",
       "      <td>33.0500</td>\n",
       "    </tr>\n",
       "    <tr>\n",
       "      <th>497</th>\n",
       "      <td>2022-09-15 06:00:00</td>\n",
       "      <td>20138.50</td>\n",
       "      <td>1609.25</td>\n",
       "      <td>0.3372</td>\n",
       "      <td>0.47180</td>\n",
       "      <td>33.3500</td>\n",
       "    </tr>\n",
       "    <tr>\n",
       "      <th>498</th>\n",
       "      <td>2022-09-15 08:00:00</td>\n",
       "      <td>20195.10</td>\n",
       "      <td>1641.00</td>\n",
       "      <td>0.3406</td>\n",
       "      <td>0.47730</td>\n",
       "      <td>34.6900</td>\n",
       "    </tr>\n",
       "    <tr>\n",
       "      <th>499</th>\n",
       "      <td>2022-09-15 10:00:00</td>\n",
       "      <td>20120.10</td>\n",
       "      <td>1589.20</td>\n",
       "      <td>0.3370</td>\n",
       "      <td>0.47440</td>\n",
       "      <td>33.7300</td>\n",
       "    </tr>\n",
       "  </tbody>\n",
       "</table>\n",
       "<p>500 rows × 6 columns</p>\n",
       "</div>"
      ],
      "text/plain": [
       "              Open_time  Open_BTC Open_ETH Open_XRP Open_ADA Open_SOL\n",
       "0   2022-08-04 20:00:00  22439.10  1590.23   0.3668  0.49720  38.3600\n",
       "1   2022-08-04 22:00:00  22482.90  1585.80   0.3677  0.49640  38.1900\n",
       "2   2022-08-05 00:00:00  22608.90  1607.20   0.3709  0.49930  38.8100\n",
       "3   2022-08-05 02:00:00  22875.90  1646.34   0.3731  0.50720  39.4300\n",
       "4   2022-08-05 04:00:00  23158.50  1659.36   0.3755  0.50970  40.1000\n",
       "..                  ...       ...      ...      ...      ...      ...\n",
       "495 2022-09-15 02:00:00  20184.80  1616.48   0.3386  0.47730  33.8600\n",
       "496 2022-09-15 04:00:00  20015.90  1593.86   0.3354  0.46990  33.0500\n",
       "497 2022-09-15 06:00:00  20138.50  1609.25   0.3372  0.47180  33.3500\n",
       "498 2022-09-15 08:00:00  20195.10  1641.00   0.3406  0.47730  34.6900\n",
       "499 2022-09-15 10:00:00  20120.10  1589.20   0.3370  0.47440  33.7300\n",
       "\n",
       "[500 rows x 6 columns]"
      ]
     },
     "execution_count": 45,
     "metadata": {},
     "output_type": "execute_result"
    }
   ],
   "source": [
    "# Merge DFs into 1\n",
    "# By merging on \"Open_time\", ensuring prices of all assets are matched on time.\n",
    "# Allows for correct calculation of correlations\n",
    "btc_eth_df = pd.merge(btcusdt_df, ethusdt_df, on=\"Open_time\")\n",
    "btc_eth_xrp_df = pd.merge(btc_eth_df, xrpusdt_df, on=\"Open_time\")\n",
    "btc_eth_xrp_ada_df = pd.merge(btc_eth_xrp_df, adausdt_df, on=\"Open_time\")\n",
    "btc_eth_xrp_ada_sol_df = pd.merge(btc_eth_xrp_ada_df, solusdt_df, on=\"Open_time\")\n",
    "\n",
    "btc_eth_xrp_ada_sol_df"
   ]
  },
  {
   "cell_type": "code",
   "execution_count": 53,
   "metadata": {},
   "outputs": [],
   "source": [
    "## Convert object columns to floats, in prep for calculations\n",
    "# Specify columns to be converted to float/numberic\n",
    "float_columns = [\"Open_BTC\",\"Open_ETH\",\"Open_XRP\",\"Open_ADA\",\"Open_SOL\"]\n",
    "\n",
    "# .astype(float), didn't convert objects\n",
    "# btc_eth_xrp_ada_sol_df[float_columns] = btc_eth_xrp_ada_sol_df[float_columns].astype(float)\n",
    "btc_eth_xrp_ada_sol_df[float_columns] = btc_eth_xrp_ada_sol_df[float_columns].apply(pd.to_numeric, axis=1)"
   ]
  },
  {
   "cell_type": "code",
   "execution_count": 58,
   "metadata": {},
   "outputs": [
    {
     "name": "stderr",
     "output_type": "stream",
     "text": [
      "c:\\Users\\Steve\\anaconda3\\envs\\bootcamp\\lib\\site-packages\\ipykernel_launcher.py:5: FutureWarning: Treating datetime data as categorical rather than numeric in `.describe` is deprecated and will be removed in a future version of pandas. Specify `datetime_is_numeric=True` to silence this warning and adopt the future behavior now.\n",
      "  \"\"\"\n"
     ]
    },
    {
     "data": {
      "text/html": [
       "<div>\n",
       "<style scoped>\n",
       "    .dataframe tbody tr th:only-of-type {\n",
       "        vertical-align: middle;\n",
       "    }\n",
       "\n",
       "    .dataframe tbody tr th {\n",
       "        vertical-align: top;\n",
       "    }\n",
       "\n",
       "    .dataframe thead th {\n",
       "        text-align: right;\n",
       "    }\n",
       "</style>\n",
       "<table border=\"1\" class=\"dataframe\">\n",
       "  <thead>\n",
       "    <tr style=\"text-align: right;\">\n",
       "      <th></th>\n",
       "      <th>Open_time</th>\n",
       "    </tr>\n",
       "  </thead>\n",
       "  <tbody>\n",
       "    <tr>\n",
       "      <th>count</th>\n",
       "      <td>500</td>\n",
       "    </tr>\n",
       "    <tr>\n",
       "      <th>unique</th>\n",
       "      <td>500</td>\n",
       "    </tr>\n",
       "    <tr>\n",
       "      <th>top</th>\n",
       "      <td>2022-08-04 20:00:00</td>\n",
       "    </tr>\n",
       "    <tr>\n",
       "      <th>freq</th>\n",
       "      <td>1</td>\n",
       "    </tr>\n",
       "    <tr>\n",
       "      <th>first</th>\n",
       "      <td>2022-08-04 20:00:00</td>\n",
       "    </tr>\n",
       "    <tr>\n",
       "      <th>last</th>\n",
       "      <td>2022-09-15 10:00:00</td>\n",
       "    </tr>\n",
       "  </tbody>\n",
       "</table>\n",
       "</div>"
      ],
      "text/plain": [
       "                  Open_time\n",
       "count                   500\n",
       "unique                  500\n",
       "top     2022-08-04 20:00:00\n",
       "freq                      1\n",
       "first   2022-08-04 20:00:00\n",
       "last    2022-09-15 10:00:00"
      ]
     },
     "execution_count": 58,
     "metadata": {},
     "output_type": "execute_result"
    }
   ],
   "source": [
    "## Check objects converted to numeric\n",
    "\n",
    "# btc_eth_xrp_ada_sol_df.info()\n",
    "# btc_eth_xrp_ada_sol_df.drypes\n",
    "# btc_eth_xrp_ada_sol_df.describe()\n",
    "btc_eth_xrp_ada_sol_df.describe(include='datetime64[ns]')"
   ]
  },
  {
   "cell_type": "code",
   "execution_count": null,
   "metadata": {},
   "outputs": [],
   "source": [
    "btcusdt_df[btcusdt_df.]\n",
    "\n",
    "# class BinanceSocketType(str, Enum):\n",
    "#     SPOT = 'Spot'\n",
    "#     USD_M_FUTURES = 'USD_M_Futures'\n",
    "#     COIN_M_FUTURES = 'Coin_M_Futures'\n",
    "#     OPTIONS = 'Vanilla_Options'\n",
    "#     ACCOUNT = 'Account'"
   ]
  }
 ],
 "metadata": {
  "kernelspec": {
   "display_name": "Python 3.7.13 ('bootcamp')",
   "language": "python",
   "name": "python3"
  },
  "language_info": {
   "codemirror_mode": {
    "name": "ipython",
    "version": 3
   },
   "file_extension": ".py",
   "mimetype": "text/x-python",
   "name": "python",
   "nbconvert_exporter": "python",
   "pygments_lexer": "ipython3",
   "version": "3.7.13"
  },
  "orig_nbformat": 4,
  "vscode": {
   "interpreter": {
    "hash": "c1045dce47e268ff1365c3f603defeb0aa850c229e636842f21fdc3e170438c8"
   }
  }
 },
 "nbformat": 4,
 "nbformat_minor": 2
}
