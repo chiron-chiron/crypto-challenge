{
 "cells": [
  {
   "cell_type": "markdown",
   "metadata": {},
   "source": [
    "### Crypto Challenge - Correlations\n",
    "\n",
    "#### Correlations b/w various crypto instruments (Binance)\n",
    "* Retrieve historic data from Binance using their API\n",
    "* Historic = most recent 30 days\n",
    "* Data = daily price data of various perpetual swap instruments\n",
    "* Instruments = perpetual swaps / on Binance USD-Margined derivatives exchange (\"USDS-M\"):\n",
    "    * BTC/USDT\n",
    "    * ETH/USDT\n",
    "    * XRP/USDT\n",
    "    * ADA/USDT\n",
    "    * SOL/USDT\n",
    "* Refer below for more instructions"
   ]
  },
  {
   "cell_type": "markdown",
   "metadata": {},
   "source": [
    "#### Info on USDS-M contracts:\n",
    "* Settlement in USD-pegged assets: contracts are denominated and settled in USDT or BUSD.\n",
    "* Expiration: Perpetual and Quarterly.\n",
    "* Clear pricing rules: each futures contract specifies the base asset's quantity delivered for a single contract, also known as \"Contract Unit\". For instance, BTC/USDT, ETH/USDT, and BCH/USDT futures contracts represent only one unit of its respective base asset, similar to spot markets.\n",
    "* (Source: https://www.binance.com/en/support/faq/85eac2bba0b342819122dc9bd4745e9b)\n",
    "\n",
    "* USDS-M Futures Contract Specifications: (https://www.binance.com/en/support/faq/360033161972)\n",
    "\n",
    "* Advantages of USDS-M contracts:\n",
    "\n",
    "* USDⓈ-Margined contracts are linear futures quoted and settled in USDT or BUSD. One of the key benefits of USDT or BUSD settlement is that you can easily calculate your returns in fiat. This makes USDⓈ-Margined contracts more intuitive. For example, when you make 500 BUSD in profit, you can easily estimate that the profit is worth approximately $500 - since the value of 1 BUSD is pegged closely to 1 USD.\n",
    "Additionally, a universal settlement currency, such as BUSD or USDT, provides more flexibility. You can use the same settlement currency across various futures contracts (i.e., BTC, ETH, XRP, etc.). This eliminates the need to buy the underlying coins to fund futures positions. As such, you will not incur excessive fees as there is no additional conversion required when trading with USDT.\n",
    "In periods of high volatility, USDⓈ-Margined contracts can help reduce the risk of large price swings. Thus, you do not need to worry about hedging their underlying collateral exposure.\n",
    "\n",
    "* Price Index of USDS-M Contracts:\n",
    "* The underlying contract for the Perpetual Contract is the ‘true’ value of the Contract, and an average of the prices on the major markets constitutes the “Price Index” which is the primary component of Mark Price.\n",
    "The Price Index is a bucket of prices from the major Spot Market Exchanges. The Price Index for USDⓈ-M futures contracts derives prices from Huobi, Okex, Bittrex, HitBTC, Gate.io, Bitmax, Poloniex, FTX, MXC. (Source: https://www.binance.com/en/support/faq/547ba48141474ab3bddc5d7898f97928)"
   ]
  },
  {
   "cell_type": "markdown",
   "metadata": {},
   "source": [
    "#### Code Documentation\n",
    "* Binance API docs: (https://binance-docs.github.io/)\n",
    "* Python-Binance library docs: (https://python-binance.readthedocs.io/)"
   ]
  },
  {
   "cell_type": "markdown",
   "metadata": {},
   "source": [
    "#### Troubleshooting\n",
    "* Dev forums: (https://dev.binance.vision)\n",
    "* "
   ]
  },
  {
   "cell_type": "markdown",
   "metadata": {},
   "source": [
    "##### Commenced python-binance SDK library, due to time contraints, continued to interact directly with Binance APIs."
   ]
  },
  {
   "cell_type": "code",
   "execution_count": 511,
   "metadata": {},
   "outputs": [],
   "source": [
    "# Install/import dependencies\n",
    "\n",
    "import json\n",
    "import requests\n",
    "# from api_keys import exchange_api_key1, exchange_api_key2\n",
    "import numpy as np\n",
    "import pandas as pd\n",
    "from pprint import pprint\n",
    "import matplotlib.pyplot as plt\n",
    "from scipy.stats import linregress\n",
    "import datetime\n",
    "# python-binance package install\n"
   ]
  },
  {
   "cell_type": "code",
   "execution_count": 512,
   "metadata": {},
   "outputs": [],
   "source": [
    "# Import initialise exchange api keys\n",
    "from api_keys import exchange_api_key1, exchange_api_key2"
   ]
  },
  {
   "cell_type": "code",
   "execution_count": 513,
   "metadata": {},
   "outputs": [],
   "source": [
    "# Install crypto/finance specific dependencies\n",
    "# ! pip install python-binance"
   ]
  },
  {
   "cell_type": "code",
   "execution_count": 514,
   "metadata": {},
   "outputs": [],
   "source": [
    "# Import crypto/finance dependencies\n",
    "# from binance import Client"
   ]
  },
  {
   "cell_type": "code",
   "execution_count": 515,
   "metadata": {},
   "outputs": [],
   "source": [
    "# Authenticate exchange API keys to python client (using Binance-Python)\n",
    "# Setup client\n",
    "# client = Client(exchange_api_key1, exchange_api_key2)"
   ]
  },
  {
   "cell_type": "code",
   "execution_count": 516,
   "metadata": {},
   "outputs": [],
   "source": [
    "# tickers = client.get_all_tickers()\n",
    "# tickers"
   ]
  },
  {
   "cell_type": "code",
   "execution_count": 517,
   "metadata": {},
   "outputs": [],
   "source": [
    "# Checking rate limits\n",
    "# client.get_exchange_info()\n"
   ]
  },
  {
   "cell_type": "code",
   "execution_count": 518,
   "metadata": {},
   "outputs": [],
   "source": [
    "# price_data = client.get_historical_klines('BTCUSDT', Client.KLINE_INTERVAL_1DAY,'13 Sep 2022')\n",
    "# price_data"
   ]
  },
  {
   "cell_type": "code",
   "execution_count": 519,
   "metadata": {},
   "outputs": [],
   "source": [
    "# client.get_historical_klines_generator??\n",
    "\n",
    "# client.get_continuousklines??\n",
    "\n",
    "# client.futures_continous_klines('BTCUSDT')\n",
    "#https://fapi.binance.com/fapi/v1/continuousKlines?pair=BTCUSDT&contractType=PERPETUAL"
   ]
  },
  {
   "cell_type": "code",
   "execution_count": 520,
   "metadata": {},
   "outputs": [],
   "source": [
    "# base_url = "
   ]
  },
  {
   "cell_type": "code",
   "execution_count": 521,
   "metadata": {},
   "outputs": [],
   "source": [
    "# btcfutures = client.get_historical_klines(symbol='BTCUSDT',\n",
    "#                                           type= 'USD_M_Futures',\n",
    "#                                           interval=Client.KLINE_INTERVAL_1DAY,\n",
    "#                                           start_str= '',)"
   ]
  },
  {
   "cell_type": "code",
   "execution_count": 522,
   "metadata": {},
   "outputs": [],
   "source": [
    "# client.get_continuous_kline()"
   ]
  },
  {
   "cell_type": "markdown",
   "metadata": {},
   "source": [
    "### Perform API Calls\n",
    "* Binance API docs:\n",
    "https://binance-docs.github.io/apidocs/futures/en/#continuous-contract-kline-candlestick-data\n",
    "* Response:\n",
    "\n",
    "* 1607444700000,          // Open time\n",
    "* \"18879.99\",             // Open\n",
    "* \"18900.00\",             // High\n",
    "* \"18878.98\",             // Low\n",
    "* \"18896.13\",             // Close (or latest price)\n",
    "* \"492.363\",              // Volume\n",
    "* 1607444759999,          // Close time\n",
    "* \"9302145.66080\",        // Quote asset volume\n",
    "* 1874,                   // Number of trades\n",
    "* \"385.983\",              // Taker buy volume\n",
    "* \"7292402.33267\",        // Taker buy quote asset volume\n",
    "* \"0\"                     // Ignore"
   ]
  },
  {
   "cell_type": "code",
   "execution_count": 523,
   "metadata": {},
   "outputs": [
    {
     "data": {
      "text/plain": [
       "'https://fapi.binance.com/fapi/v1/continuousKlines?pair=ETHUSDT&contractType=PERPETUAL&interval=2h&limit=361'"
      ]
     },
     "execution_count": 523,
     "metadata": {},
     "output_type": "execute_result"
    }
   ],
   "source": [
    "\n",
    "#FAPI docs Binance USDS-M Futures\n",
    "# Link: (https://binance-docs.github.io/apidocs/futures/en/#continuous-contract-kline-candlestick-data)\n",
    "\n",
    "# Base binance url for calling API\n",
    "base_url = \"https://fapi.binance.com\"          # end point for USDS-M\n",
    "event = \"/fapi/v1/continuousKlines\"            # Continuous contract Kline\n",
    "pair_btcusdt = \"BTCUSDT\"                       # string, mandatory\n",
    "contractType = 'PERPETUAL'                     # enum, mandatory\n",
    "interval = '2h'                                # enum, mandatory\n",
    "limit = 360 + 1                                # 30days x 2hrly + 1 extra for droping due to pct calc NaN\n",
    "\n",
    "# # Params for additional data\n",
    "pair_ethusdt = \"ETHUSDT\"\n",
    "pair_xrpusdt = \"XRPUSDT\"\n",
    "pair_adausdt = \"ADAUSDT\"\n",
    "pair_solusdt = \"SOLUSDT\"\n",
    "\n",
    "\n",
    "# Build various query URLs\n",
    "query_url_btcusdt = f\"{base_url}{event}?pair={pair_btcusdt}&contractType={contractType}&interval={interval}&limit={limit}\"\n",
    "query_url_ethusdt = f\"{base_url}{event}?pair={pair_ethusdt}&contractType={contractType}&interval={interval}&limit={limit}\"\n",
    "query_url_xrpusdt = f\"{base_url}{event}?pair={pair_xrpusdt}&contractType={contractType}&interval={interval}&limit={limit}\"\n",
    "query_url_adausdt = f\"{base_url}{event}?pair={pair_adausdt}&contractType={contractType}&interval={interval}&limit={limit}\"\n",
    "query_url_solusdt = f\"{base_url}{event}?pair={pair_solusdt}&contractType={contractType}&interval={interval}&limit={limit}\"\n",
    "\n",
    "# Timestamp execution (UTC)\n",
    "executed_utc = str(pd.Timestamp.utcnow())\n",
    "\n",
    "query_url_ethusdt\n"
   ]
  },
  {
   "cell_type": "code",
   "execution_count": 524,
   "metadata": {},
   "outputs": [],
   "source": [
    "# Loop query_url customising for each pair. \n",
    "# This code would be required to scale exercise.\n",
    "\n",
    "# for pair in pairs:\n",
    "#     try:\n",
    "#         # Retrieve \"continuousKlines\" for perps\n",
    "#         query_url = f\"{base_url}{event}?pair={pair}&contractType={contractType}&interval={interval}\"\n",
    "#         response = requests.get(query_url).json()\n",
    "#         f'{pair}_raw_df' = pd.DataFrame(response)"
   ]
  },
  {
   "cell_type": "code",
   "execution_count": 525,
   "metadata": {},
   "outputs": [],
   "source": [
    "response_btcusdt = requests.get(query_url_btcusdt).json()\n",
    "response_ethusdt = requests.get(query_url_ethusdt).json()\n",
    "response_xrpusdt = requests.get(query_url_xrpusdt).json()\n",
    "response_adausdt = requests.get(query_url_adausdt).json()\n",
    "response_solusdt = requests.get(query_url_solusdt).json()\n",
    "# response_solusdt"
   ]
  },
  {
   "cell_type": "code",
   "execution_count": 526,
   "metadata": {},
   "outputs": [],
   "source": [
    "## Convert retrieved json > Pandas dataframe\n",
    "\n",
    "btcusdt_raw_df = pd.DataFrame(response_btcusdt)\n",
    "ethusdt_raw_df = pd.DataFrame(response_ethusdt)\n",
    "xrpusdt_raw_df = pd.DataFrame(response_xrpusdt)\n",
    "adausdt_raw_df = pd.DataFrame(response_adausdt)\n",
    "solusdt_raw_df = pd.DataFrame(response_solusdt)\n",
    "# btcusdt_raw_df\n"
   ]
  },
  {
   "cell_type": "code",
   "execution_count": 527,
   "metadata": {},
   "outputs": [],
   "source": [
    "## Save image of raw data df\n",
    "\n",
    "# solusdt_raw_df\n",
    "\n",
    "raw_data = solusdt_raw_df.head()\n",
    "\n",
    "# Saving image of raw_data\n",
    "import dataframe_image as dfi\n",
    "\n",
    "dfi.export(raw_data, \"Images/Eg_raw_data.png\")"
   ]
  },
  {
   "cell_type": "code",
   "execution_count": 528,
   "metadata": {},
   "outputs": [],
   "source": [
    "## Rename columns of df, based on response dictionary,\n",
    "\n",
    "# from (https://binance-docs.github.io/apidocs/futures/en/#continuous-contract-kline-candlestick-data):\n",
    "#     1607444700000,          // Open time\n",
    "#     \"18879.99\",             // Open\n",
    "#     \"18900.00\",             // High\n",
    "#     \"18878.98\",             // Low\n",
    "#     \"18896.13\",             // Close (or latest price)\n",
    "#     \"492.363\",              // Volume\n",
    "#     1607444759999,          // Close time\n",
    "#     \"9302145.66080\",        // Quote asset volume\n",
    "#     1874,                   // Number of trades\n",
    "#     \"385.983\",              // Taker buy volume\n",
    "#     \"7292402.33267\",        // Taker buy quote asset volume\n",
    "#     \"0\"                     // Ignore.\n",
    "\n",
    "btcusdt_raw_df.columns = [\"Open_time\", \"Open_BTC\", \"High_BTC\", \"Low_BTC\", \"Close_BTC\",\n",
    "                          \"Volume\", \"Close_time_BTC\", \"Quote_asset_volume\", \"Number_of_trades\",\n",
    "                          \"Taker_buy_volume\", \"Taker_buy_quote_asset_volume\", \"Ignore\"]\n",
    "ethusdt_raw_df.columns = [\"Open_time\", \"Open_ETH\", \"High_ETH\", \"Low_BTC\", \"Close_ETH\",\n",
    "                          \"Volume\", \"Close_time_ETH\", \"Quote_asset_volume\", \"Number_of_trades\",\n",
    "                          \"Taker_buy_volume\", \"Taker_buy_quote_asset_volume\", \"Ignore\"]\n",
    "xrpusdt_raw_df.columns = [\"Open_time\", \"Open_XRP\", \"High_XRP\", \"Low_XRP\", \"Close_XRP\",\n",
    "                          \"Volume\", \"Close_time_XRP\", \"Quote_asset_volume\", \"Number_of_trades\",\n",
    "                          \"Taker_buy_volume\", \"Taker_buy_quote_asset_volume\", \"Ignore\"]\n",
    "adausdt_raw_df.columns = [\"Open_time\", \"Open_ADA\", \"High_ADA\", \"Low_ADA\", \"Close_ADA\",\n",
    "                          \"Volume\", \"Close_time_ADA\", \"Quote_asset_volume\", \"Number_of_trades\",\n",
    "                          \"Taker_buy_volume\", \"Taker_buy_quote_asset_volume\", \"Ignore\"]\n",
    "solusdt_raw_df.columns = [\"Open_time\", \"Open_SOL\", \"High_SOL\", \"Low_SOL\", \"Close_SOL\",\n",
    "                          \"Volume\", \"Close_time_SOL\", \"Quote_asset_volume\", \"Number_of_trades\",\n",
    "                          \"Taker_buy_volume\", \"Taker_buy_quote_asset_volume\", \"Ignore\"]"
   ]
  },
  {
   "cell_type": "code",
   "execution_count": 529,
   "metadata": {},
   "outputs": [
    {
     "data": {
      "text/plain": [
       "(361, 12)"
      ]
     },
     "execution_count": 529,
     "metadata": {},
     "output_type": "execute_result"
    }
   ],
   "source": [
    "## Check len of response\n",
    "# print(solusdt_raw_df.head())\n",
    "btcusdt_raw_df.shape\n",
    "\n",
    "# print(f'There are 500 data points per pair (proof: btcusdt_raw_df.shape). I have a limit of 500 responses.')\n",
    "# print(f'30 days x 24 hrs = 720hrs. Rolling last 720hr required, 1.44hr intervals returns 500 data points.')\n",
    "# print(f'Rounding up to intervals of 2hrs, for max datapoints that cover last 720 hrs (30days)')"
   ]
  },
  {
   "cell_type": "code",
   "execution_count": 530,
   "metadata": {},
   "outputs": [
    {
     "data": {
      "text/plain": [
       "Open_time                        int64\n",
       "Open_SOL                        object\n",
       "High_SOL                        object\n",
       "Low_SOL                         object\n",
       "Close_SOL                       object\n",
       "Volume                          object\n",
       "Close_time_SOL                   int64\n",
       "Quote_asset_volume              object\n",
       "Number_of_trades                 int64\n",
       "Taker_buy_volume                object\n",
       "Taker_buy_quote_asset_volume    object\n",
       "Ignore                          object\n",
       "dtype: object"
      ]
     },
     "execution_count": 530,
     "metadata": {},
     "output_type": "execute_result"
    }
   ],
   "source": [
    "# Check data type of DFs\n",
    "solusdt_raw_df.dtypes"
   ]
  },
  {
   "cell_type": "code",
   "execution_count": 531,
   "metadata": {},
   "outputs": [],
   "source": [
    "# Convert Open/close times to datetime\n",
    "btcusdt_raw_df[\"Open_time\"] = pd.to_datetime(btcusdt_raw_df[\"Open_time\"]/1000, unit='s')\n",
    "btcusdt_raw_df[\"Close_time_BTC\"] = pd.to_datetime(btcusdt_raw_df[\"Close_time_BTC\"]/1000, unit='s')\n",
    "\n",
    "ethusdt_raw_df[\"Open_time\"] = pd.to_datetime(ethusdt_raw_df[\"Open_time\"]/1000, unit='s')\n",
    "ethusdt_raw_df[\"Close_time_ETH\"] = pd.to_datetime(ethusdt_raw_df[\"Close_time_ETH\"]/1000, unit='s')\n",
    "\n",
    "xrpusdt_raw_df[\"Open_time\"] = pd.to_datetime(xrpusdt_raw_df[\"Open_time\"]/1000, unit='s')\n",
    "xrpusdt_raw_df[\"Close_time_XRP\"] = pd.to_datetime(xrpusdt_raw_df[\"Close_time_XRP\"]/1000, unit='s')\n",
    "\n",
    "adausdt_raw_df[\"Open_time\"] = pd.to_datetime(adausdt_raw_df[\"Open_time\"]/1000, unit='s')\n",
    "adausdt_raw_df[\"Close_time_ADA\"] = pd.to_datetime(adausdt_raw_df[\"Close_time_ADA\"]/1000, unit='s')\n",
    "\n",
    "solusdt_raw_df[\"Open_time\"] = pd.to_datetime(solusdt_raw_df[\"Open_time\"]/1000, unit='s')\n",
    "solusdt_raw_df[\"Close_time_SOL\"] = pd.to_datetime(solusdt_raw_df[\"Close_time_SOL\"]/1000, unit='s')"
   ]
  },
  {
   "cell_type": "code",
   "execution_count": 532,
   "metadata": {},
   "outputs": [
    {
     "name": "stdout",
     "output_type": "stream",
     "text": [
      "              Open_time Open_XRP High_XRP Low_XRP Close_XRP      Volume  \\\n",
      "356 2022-09-15 20:00:00   0.3292   0.3301  0.3273    0.3276  29660266.4   \n",
      "357 2022-09-15 22:00:00   0.3277   0.3278  0.3239    0.3260  58585173.0   \n",
      "358 2022-09-16 00:00:00   0.3260   0.3277  0.3232    0.3242  75306140.4   \n",
      "359 2022-09-16 02:00:00   0.3242   0.3269  0.3211    0.3267  59774342.5   \n",
      "360 2022-09-16 04:00:00   0.3267   0.3291  0.3265    0.3278  33082635.8   \n",
      "\n",
      "                   Close_time_XRP Quote_asset_volume  Number_of_trades  \\\n",
      "356 2022-09-15 21:59:59.999000064      9758076.78593             19115   \n",
      "357 2022-09-15 23:59:59.999000064     19098306.35365             27772   \n",
      "358 2022-09-16 01:59:59.999000064     24511943.15994             34059   \n",
      "359 2022-09-16 03:59:59.999000064     19364853.50738             30602   \n",
      "360 2022-09-16 05:59:59.999000064     10849015.62727             16868   \n",
      "\n",
      "    Taker_buy_volume Taker_buy_quote_asset_volume Ignore  \n",
      "356       12787454.3                4208648.39729      0  \n",
      "357       27430042.4                8943151.66481      0  \n",
      "358       37894223.1               12335666.77332      0  \n",
      "359       29818343.6                9662523.58414      0  \n",
      "360       16647527.1                5459055.01844      0  \n",
      "            Open_time Open_ADA High_ADA  Low_ADA Close_ADA     Volume  \\\n",
      "0 2022-08-17 04:00:00  0.57760  0.58100  0.57260   0.57680  133878288   \n",
      "1 2022-08-17 06:00:00  0.57680  0.58210  0.55580   0.55640  150589852   \n",
      "2 2022-08-17 08:00:00  0.55640  0.56070  0.55400   0.55940   79821788   \n",
      "3 2022-08-17 10:00:00  0.55950  0.55950  0.55050   0.55510   84267482   \n",
      "4 2022-08-17 12:00:00  0.55500  0.55500  0.53000   0.53440  191691755   \n",
      "\n",
      "                 Close_time_ADA Quote_asset_volume  Number_of_trades  \\\n",
      "0 2022-08-17 05:59:59.999000064     77204628.11020             98488   \n",
      "1 2022-08-17 07:59:59.999000064     85583097.97350            110234   \n",
      "2 2022-08-17 09:59:59.999000064     44518044.66150             64909   \n",
      "3 2022-08-17 11:59:59.999000064     46664897.92940             66752   \n",
      "4 2022-08-17 13:59:59.999000064    103763963.55350            140670   \n",
      "\n",
      "  Taker_buy_volume Taker_buy_quote_asset_volume Ignore  \n",
      "0         67828626               39118930.69890      0  \n",
      "1         72794615               41378773.32010      0  \n",
      "2         39856300               22231922.46820      0  \n",
      "3         38772781               21469489.89870      0  \n",
      "4         86940219               47047229.53430      0  \n"
     ]
    }
   ],
   "source": [
    "# Check head and tail of DFs. \n",
    "# As API returns data in ascending (head = nth itme), (tail = more recent interval)\n",
    "print(xrpusdt_raw_df.tail())\n",
    "print(adausdt_raw_df.head())"
   ]
  },
  {
   "cell_type": "code",
   "execution_count": 533,
   "metadata": {},
   "outputs": [],
   "source": [
    "## Drop redundant columns\n",
    "\n",
    "# btcusdt_df = btcusdt_raw_df[[\"Open_time_BTC\",\"Open_BTC\",\"High_BTC\",\"Low_BTC\",\"Close_BTC\",\"Close_time_BTC\"]]\n",
    "# ethusdt_df = ethusdt_raw_df[[\"Open_time_ETH\",\"Open_ETH\",\"High_ETH\",\"Low_ETH\",\"Close_ETH\",\"Close_time_ETH\"]]\n",
    "# xrpusdt_df = xrpusdt_raw_df[[\"Open_time_XRP\",\"Open_XRP\",\"High_XRP\",\"Low_XRP\",\"Close_XRP\",\"Close_time_XRP\"]]\n",
    "# adausdt_df = adausdt_raw_df[[\"Open_time_ADA\",\"Open_ADA\",\"High_ADA\",\"Low_ADA\",\"Close_ADA\",\"Close_time_ADA\"]]\n",
    "# solusdt_df = solusdt_raw_df[[\"Open_time_SOL\",\"Open_SOL\",\"High_SOL\",\"Low_SOL\",\"Close_SOL\",\"Close_time_SOL\"]]\n",
    "\n",
    "btcusdt_df = btcusdt_raw_df[[\"Open_time\",\"Open_BTC\"]]\n",
    "ethusdt_df = ethusdt_raw_df[[\"Open_time\",\"Open_ETH\"]]\n",
    "xrpusdt_df = xrpusdt_raw_df[[\"Open_time\",\"Open_XRP\"]]\n",
    "adausdt_df = adausdt_raw_df[[\"Open_time\",\"Open_ADA\"]]\n",
    "solusdt_df = solusdt_raw_df[[\"Open_time\",\"Open_SOL\"]]"
   ]
  },
  {
   "cell_type": "code",
   "execution_count": 534,
   "metadata": {},
   "outputs": [
    {
     "data": {
      "text/html": [
       "<div>\n",
       "<style scoped>\n",
       "    .dataframe tbody tr th:only-of-type {\n",
       "        vertical-align: middle;\n",
       "    }\n",
       "\n",
       "    .dataframe tbody tr th {\n",
       "        vertical-align: top;\n",
       "    }\n",
       "\n",
       "    .dataframe thead th {\n",
       "        text-align: right;\n",
       "    }\n",
       "</style>\n",
       "<table border=\"1\" class=\"dataframe\">\n",
       "  <thead>\n",
       "    <tr style=\"text-align: right;\">\n",
       "      <th></th>\n",
       "      <th>Open_time</th>\n",
       "      <th>Open_SOL</th>\n",
       "    </tr>\n",
       "  </thead>\n",
       "  <tbody>\n",
       "    <tr>\n",
       "      <th>0</th>\n",
       "      <td>2022-08-17 04:00:00</td>\n",
       "      <td>43.9800</td>\n",
       "    </tr>\n",
       "    <tr>\n",
       "      <th>1</th>\n",
       "      <td>2022-08-17 06:00:00</td>\n",
       "      <td>44.3400</td>\n",
       "    </tr>\n",
       "    <tr>\n",
       "      <th>2</th>\n",
       "      <td>2022-08-17 08:00:00</td>\n",
       "      <td>43.1200</td>\n",
       "    </tr>\n",
       "    <tr>\n",
       "      <th>3</th>\n",
       "      <td>2022-08-17 10:00:00</td>\n",
       "      <td>43.0900</td>\n",
       "    </tr>\n",
       "    <tr>\n",
       "      <th>4</th>\n",
       "      <td>2022-08-17 12:00:00</td>\n",
       "      <td>42.7500</td>\n",
       "    </tr>\n",
       "    <tr>\n",
       "      <th>...</th>\n",
       "      <td>...</td>\n",
       "      <td>...</td>\n",
       "    </tr>\n",
       "    <tr>\n",
       "      <th>356</th>\n",
       "      <td>2022-09-15 20:00:00</td>\n",
       "      <td>33.4000</td>\n",
       "    </tr>\n",
       "    <tr>\n",
       "      <th>357</th>\n",
       "      <td>2022-09-15 22:00:00</td>\n",
       "      <td>33.2700</td>\n",
       "    </tr>\n",
       "    <tr>\n",
       "      <th>358</th>\n",
       "      <td>2022-09-16 00:00:00</td>\n",
       "      <td>33.0600</td>\n",
       "    </tr>\n",
       "    <tr>\n",
       "      <th>359</th>\n",
       "      <td>2022-09-16 02:00:00</td>\n",
       "      <td>32.9600</td>\n",
       "    </tr>\n",
       "    <tr>\n",
       "      <th>360</th>\n",
       "      <td>2022-09-16 04:00:00</td>\n",
       "      <td>32.8400</td>\n",
       "    </tr>\n",
       "  </tbody>\n",
       "</table>\n",
       "<p>361 rows × 2 columns</p>\n",
       "</div>"
      ],
      "text/plain": [
       "              Open_time Open_SOL\n",
       "0   2022-08-17 04:00:00  43.9800\n",
       "1   2022-08-17 06:00:00  44.3400\n",
       "2   2022-08-17 08:00:00  43.1200\n",
       "3   2022-08-17 10:00:00  43.0900\n",
       "4   2022-08-17 12:00:00  42.7500\n",
       "..                  ...      ...\n",
       "356 2022-09-15 20:00:00  33.4000\n",
       "357 2022-09-15 22:00:00  33.2700\n",
       "358 2022-09-16 00:00:00  33.0600\n",
       "359 2022-09-16 02:00:00  32.9600\n",
       "360 2022-09-16 04:00:00  32.8400\n",
       "\n",
       "[361 rows x 2 columns]"
      ]
     },
     "execution_count": 534,
     "metadata": {},
     "output_type": "execute_result"
    }
   ],
   "source": [
    "# Check new DFs\n",
    "solusdt_df"
   ]
  },
  {
   "cell_type": "code",
   "execution_count": 535,
   "metadata": {},
   "outputs": [
    {
     "data": {
      "text/html": [
       "<div>\n",
       "<style scoped>\n",
       "    .dataframe tbody tr th:only-of-type {\n",
       "        vertical-align: middle;\n",
       "    }\n",
       "\n",
       "    .dataframe tbody tr th {\n",
       "        vertical-align: top;\n",
       "    }\n",
       "\n",
       "    .dataframe thead th {\n",
       "        text-align: right;\n",
       "    }\n",
       "</style>\n",
       "<table border=\"1\" class=\"dataframe\">\n",
       "  <thead>\n",
       "    <tr style=\"text-align: right;\">\n",
       "      <th></th>\n",
       "      <th>Open_time</th>\n",
       "      <th>Open_BTC</th>\n",
       "      <th>Open_ETH</th>\n",
       "      <th>Open_XRP</th>\n",
       "      <th>Open_ADA</th>\n",
       "      <th>Open_SOL</th>\n",
       "    </tr>\n",
       "  </thead>\n",
       "  <tbody>\n",
       "    <tr>\n",
       "      <th>0</th>\n",
       "      <td>2022-08-17 04:00:00</td>\n",
       "      <td>23997.00</td>\n",
       "      <td>1895.43</td>\n",
       "      <td>0.3869</td>\n",
       "      <td>0.57760</td>\n",
       "      <td>43.9800</td>\n",
       "    </tr>\n",
       "    <tr>\n",
       "      <th>1</th>\n",
       "      <td>2022-08-17 06:00:00</td>\n",
       "      <td>24151.10</td>\n",
       "      <td>1923.47</td>\n",
       "      <td>0.3872</td>\n",
       "      <td>0.57680</td>\n",
       "      <td>44.3400</td>\n",
       "    </tr>\n",
       "    <tr>\n",
       "      <th>2</th>\n",
       "      <td>2022-08-17 08:00:00</td>\n",
       "      <td>23774.20</td>\n",
       "      <td>1889.45</td>\n",
       "      <td>0.3771</td>\n",
       "      <td>0.55640</td>\n",
       "      <td>43.1200</td>\n",
       "    </tr>\n",
       "    <tr>\n",
       "      <th>3</th>\n",
       "      <td>2022-08-17 10:00:00</td>\n",
       "      <td>23817.90</td>\n",
       "      <td>1889.08</td>\n",
       "      <td>0.3779</td>\n",
       "      <td>0.55950</td>\n",
       "      <td>43.0900</td>\n",
       "    </tr>\n",
       "    <tr>\n",
       "      <th>4</th>\n",
       "      <td>2022-08-17 12:00:00</td>\n",
       "      <td>23737.10</td>\n",
       "      <td>1875.89</td>\n",
       "      <td>0.3771</td>\n",
       "      <td>0.55500</td>\n",
       "      <td>42.7500</td>\n",
       "    </tr>\n",
       "    <tr>\n",
       "      <th>...</th>\n",
       "      <td>...</td>\n",
       "      <td>...</td>\n",
       "      <td>...</td>\n",
       "      <td>...</td>\n",
       "      <td>...</td>\n",
       "      <td>...</td>\n",
       "    </tr>\n",
       "    <tr>\n",
       "      <th>356</th>\n",
       "      <td>2022-09-15 20:00:00</td>\n",
       "      <td>19774.90</td>\n",
       "      <td>1496.66</td>\n",
       "      <td>0.3292</td>\n",
       "      <td>0.46760</td>\n",
       "      <td>33.4000</td>\n",
       "    </tr>\n",
       "    <tr>\n",
       "      <th>357</th>\n",
       "      <td>2022-09-15 22:00:00</td>\n",
       "      <td>19818.20</td>\n",
       "      <td>1489.59</td>\n",
       "      <td>0.3277</td>\n",
       "      <td>0.46630</td>\n",
       "      <td>33.2700</td>\n",
       "    </tr>\n",
       "    <tr>\n",
       "      <th>358</th>\n",
       "      <td>2022-09-16 00:00:00</td>\n",
       "      <td>19690.80</td>\n",
       "      <td>1471.94</td>\n",
       "      <td>0.3260</td>\n",
       "      <td>0.46570</td>\n",
       "      <td>33.0600</td>\n",
       "    </tr>\n",
       "    <tr>\n",
       "      <th>359</th>\n",
       "      <td>2022-09-16 02:00:00</td>\n",
       "      <td>19721.40</td>\n",
       "      <td>1470.78</td>\n",
       "      <td>0.3242</td>\n",
       "      <td>0.46660</td>\n",
       "      <td>32.9600</td>\n",
       "    </tr>\n",
       "    <tr>\n",
       "      <th>360</th>\n",
       "      <td>2022-09-16 04:00:00</td>\n",
       "      <td>19738.30</td>\n",
       "      <td>1472.61</td>\n",
       "      <td>0.3267</td>\n",
       "      <td>0.46830</td>\n",
       "      <td>32.8400</td>\n",
       "    </tr>\n",
       "  </tbody>\n",
       "</table>\n",
       "<p>361 rows × 6 columns</p>\n",
       "</div>"
      ],
      "text/plain": [
       "              Open_time  Open_BTC Open_ETH Open_XRP Open_ADA Open_SOL\n",
       "0   2022-08-17 04:00:00  23997.00  1895.43   0.3869  0.57760  43.9800\n",
       "1   2022-08-17 06:00:00  24151.10  1923.47   0.3872  0.57680  44.3400\n",
       "2   2022-08-17 08:00:00  23774.20  1889.45   0.3771  0.55640  43.1200\n",
       "3   2022-08-17 10:00:00  23817.90  1889.08   0.3779  0.55950  43.0900\n",
       "4   2022-08-17 12:00:00  23737.10  1875.89   0.3771  0.55500  42.7500\n",
       "..                  ...       ...      ...      ...      ...      ...\n",
       "356 2022-09-15 20:00:00  19774.90  1496.66   0.3292  0.46760  33.4000\n",
       "357 2022-09-15 22:00:00  19818.20  1489.59   0.3277  0.46630  33.2700\n",
       "358 2022-09-16 00:00:00  19690.80  1471.94   0.3260  0.46570  33.0600\n",
       "359 2022-09-16 02:00:00  19721.40  1470.78   0.3242  0.46660  32.9600\n",
       "360 2022-09-16 04:00:00  19738.30  1472.61   0.3267  0.46830  32.8400\n",
       "\n",
       "[361 rows x 6 columns]"
      ]
     },
     "execution_count": 535,
     "metadata": {},
     "output_type": "execute_result"
    }
   ],
   "source": [
    "# Merge DFs into 1\n",
    "# By merging on \"Open_time\", ensuring prices of all assets are matched on time.\n",
    "# Allows for correct calculation of correlations\n",
    "btc_eth_df = pd.merge(btcusdt_df, ethusdt_df, on=\"Open_time\")\n",
    "btc_eth_xrp_df = pd.merge(btc_eth_df, xrpusdt_df, on=\"Open_time\")\n",
    "btc_eth_xrp_ada_df = pd.merge(btc_eth_xrp_df, adausdt_df, on=\"Open_time\")\n",
    "btc_eth_xrp_ada_sol_df = pd.merge(btc_eth_xrp_ada_df, solusdt_df, on=\"Open_time\")\n",
    "\n",
    "btc_eth_xrp_ada_sol_df"
   ]
  },
  {
   "cell_type": "code",
   "execution_count": 536,
   "metadata": {},
   "outputs": [],
   "source": [
    "## Convert object columns to floats, in prep for calculations\n",
    "# Specify columns to be converted to float/numberic\n",
    "float_columns = [\"Open_BTC\",\"Open_ETH\",\"Open_XRP\",\"Open_ADA\",\"Open_SOL\"]\n",
    "\n",
    "# .astype(float), didn't convert objects\n",
    "# btc_eth_xrp_ada_sol_df[float_columns] = btc_eth_xrp_ada_sol_df[float_columns].astype(float)\n",
    "btc_eth_xrp_ada_sol_df[float_columns] = btc_eth_xrp_ada_sol_df[float_columns].apply(pd.to_numeric, axis=1)"
   ]
  },
  {
   "cell_type": "code",
   "execution_count": 537,
   "metadata": {},
   "outputs": [],
   "source": [
    "# Add percentage change, calc'd on open price. For each interval\n",
    "\n",
    "btc_eth_xrp_ada_sol_df['pct_BTC'] = btc_eth_xrp_ada_sol_df['Open_BTC'].pct_change()\n",
    "btc_eth_xrp_ada_sol_df['pct_ETH'] = btc_eth_xrp_ada_sol_df['Open_ETH'].pct_change()\n",
    "btc_eth_xrp_ada_sol_df['pct_XRP'] = btc_eth_xrp_ada_sol_df['Open_XRP'].pct_change()\n",
    "btc_eth_xrp_ada_sol_df['pct_ADA'] = btc_eth_xrp_ada_sol_df['Open_ADA'].pct_change()\n",
    "btc_eth_xrp_ada_sol_df['pct_SOL'] = btc_eth_xrp_ada_sol_df['Open_SOL'].pct_change()"
   ]
  },
  {
   "cell_type": "code",
   "execution_count": 538,
   "metadata": {},
   "outputs": [],
   "source": [
    "# Check calcs\n",
    "# btc_eth_xrp_ada_sol_df"
   ]
  },
  {
   "cell_type": "code",
   "execution_count": 539,
   "metadata": {},
   "outputs": [
    {
     "data": {
      "text/html": [
       "<div>\n",
       "<style scoped>\n",
       "    .dataframe tbody tr th:only-of-type {\n",
       "        vertical-align: middle;\n",
       "    }\n",
       "\n",
       "    .dataframe tbody tr th {\n",
       "        vertical-align: top;\n",
       "    }\n",
       "\n",
       "    .dataframe thead th {\n",
       "        text-align: right;\n",
       "    }\n",
       "</style>\n",
       "<table border=\"1\" class=\"dataframe\">\n",
       "  <thead>\n",
       "    <tr style=\"text-align: right;\">\n",
       "      <th></th>\n",
       "      <th>Open_time</th>\n",
       "      <th>Open_BTC</th>\n",
       "      <th>Open_ETH</th>\n",
       "      <th>Open_XRP</th>\n",
       "      <th>Open_ADA</th>\n",
       "      <th>Open_SOL</th>\n",
       "      <th>pct_BTC</th>\n",
       "      <th>pct_ETH</th>\n",
       "      <th>pct_XRP</th>\n",
       "      <th>pct_ADA</th>\n",
       "      <th>pct_SOL</th>\n",
       "    </tr>\n",
       "  </thead>\n",
       "  <tbody>\n",
       "    <tr>\n",
       "      <th>1</th>\n",
       "      <td>2022-08-17 06:00:00</td>\n",
       "      <td>24151.1</td>\n",
       "      <td>1923.47</td>\n",
       "      <td>0.3872</td>\n",
       "      <td>0.5768</td>\n",
       "      <td>44.34</td>\n",
       "      <td>0.006422</td>\n",
       "      <td>0.014793</td>\n",
       "      <td>0.000775</td>\n",
       "      <td>-0.001385</td>\n",
       "      <td>0.008186</td>\n",
       "    </tr>\n",
       "    <tr>\n",
       "      <th>2</th>\n",
       "      <td>2022-08-17 08:00:00</td>\n",
       "      <td>23774.2</td>\n",
       "      <td>1889.45</td>\n",
       "      <td>0.3771</td>\n",
       "      <td>0.5564</td>\n",
       "      <td>43.12</td>\n",
       "      <td>-0.015606</td>\n",
       "      <td>-0.017687</td>\n",
       "      <td>-0.026085</td>\n",
       "      <td>-0.035368</td>\n",
       "      <td>-0.027515</td>\n",
       "    </tr>\n",
       "    <tr>\n",
       "      <th>3</th>\n",
       "      <td>2022-08-17 10:00:00</td>\n",
       "      <td>23817.9</td>\n",
       "      <td>1889.08</td>\n",
       "      <td>0.3779</td>\n",
       "      <td>0.5595</td>\n",
       "      <td>43.09</td>\n",
       "      <td>0.001838</td>\n",
       "      <td>-0.000196</td>\n",
       "      <td>0.002121</td>\n",
       "      <td>0.005572</td>\n",
       "      <td>-0.000696</td>\n",
       "    </tr>\n",
       "    <tr>\n",
       "      <th>4</th>\n",
       "      <td>2022-08-17 12:00:00</td>\n",
       "      <td>23737.1</td>\n",
       "      <td>1875.89</td>\n",
       "      <td>0.3771</td>\n",
       "      <td>0.5550</td>\n",
       "      <td>42.75</td>\n",
       "      <td>-0.003392</td>\n",
       "      <td>-0.006982</td>\n",
       "      <td>-0.002117</td>\n",
       "      <td>-0.008043</td>\n",
       "      <td>-0.007890</td>\n",
       "    </tr>\n",
       "    <tr>\n",
       "      <th>5</th>\n",
       "      <td>2022-08-17 14:00:00</td>\n",
       "      <td>23416.2</td>\n",
       "      <td>1833.59</td>\n",
       "      <td>0.3700</td>\n",
       "      <td>0.5344</td>\n",
       "      <td>41.37</td>\n",
       "      <td>-0.013519</td>\n",
       "      <td>-0.022549</td>\n",
       "      <td>-0.018828</td>\n",
       "      <td>-0.037117</td>\n",
       "      <td>-0.032281</td>\n",
       "    </tr>\n",
       "    <tr>\n",
       "      <th>...</th>\n",
       "      <td>...</td>\n",
       "      <td>...</td>\n",
       "      <td>...</td>\n",
       "      <td>...</td>\n",
       "      <td>...</td>\n",
       "      <td>...</td>\n",
       "      <td>...</td>\n",
       "      <td>...</td>\n",
       "      <td>...</td>\n",
       "      <td>...</td>\n",
       "      <td>...</td>\n",
       "    </tr>\n",
       "    <tr>\n",
       "      <th>356</th>\n",
       "      <td>2022-09-15 20:00:00</td>\n",
       "      <td>19774.9</td>\n",
       "      <td>1496.66</td>\n",
       "      <td>0.3292</td>\n",
       "      <td>0.4676</td>\n",
       "      <td>33.40</td>\n",
       "      <td>-0.002296</td>\n",
       "      <td>-0.006901</td>\n",
       "      <td>0.004577</td>\n",
       "      <td>-0.001708</td>\n",
       "      <td>0.000000</td>\n",
       "    </tr>\n",
       "    <tr>\n",
       "      <th>357</th>\n",
       "      <td>2022-09-15 22:00:00</td>\n",
       "      <td>19818.2</td>\n",
       "      <td>1489.59</td>\n",
       "      <td>0.3277</td>\n",
       "      <td>0.4663</td>\n",
       "      <td>33.27</td>\n",
       "      <td>0.002190</td>\n",
       "      <td>-0.004724</td>\n",
       "      <td>-0.004557</td>\n",
       "      <td>-0.002780</td>\n",
       "      <td>-0.003892</td>\n",
       "    </tr>\n",
       "    <tr>\n",
       "      <th>358</th>\n",
       "      <td>2022-09-16 00:00:00</td>\n",
       "      <td>19690.8</td>\n",
       "      <td>1471.94</td>\n",
       "      <td>0.3260</td>\n",
       "      <td>0.4657</td>\n",
       "      <td>33.06</td>\n",
       "      <td>-0.006428</td>\n",
       "      <td>-0.011849</td>\n",
       "      <td>-0.005188</td>\n",
       "      <td>-0.001287</td>\n",
       "      <td>-0.006312</td>\n",
       "    </tr>\n",
       "    <tr>\n",
       "      <th>359</th>\n",
       "      <td>2022-09-16 02:00:00</td>\n",
       "      <td>19721.4</td>\n",
       "      <td>1470.78</td>\n",
       "      <td>0.3242</td>\n",
       "      <td>0.4666</td>\n",
       "      <td>32.96</td>\n",
       "      <td>0.001554</td>\n",
       "      <td>-0.000788</td>\n",
       "      <td>-0.005521</td>\n",
       "      <td>0.001933</td>\n",
       "      <td>-0.003025</td>\n",
       "    </tr>\n",
       "    <tr>\n",
       "      <th>360</th>\n",
       "      <td>2022-09-16 04:00:00</td>\n",
       "      <td>19738.3</td>\n",
       "      <td>1472.61</td>\n",
       "      <td>0.3267</td>\n",
       "      <td>0.4683</td>\n",
       "      <td>32.84</td>\n",
       "      <td>0.000857</td>\n",
       "      <td>0.001244</td>\n",
       "      <td>0.007711</td>\n",
       "      <td>0.003643</td>\n",
       "      <td>-0.003641</td>\n",
       "    </tr>\n",
       "  </tbody>\n",
       "</table>\n",
       "<p>360 rows × 11 columns</p>\n",
       "</div>"
      ],
      "text/plain": [
       "              Open_time  Open_BTC  Open_ETH  Open_XRP  Open_ADA  Open_SOL  \\\n",
       "1   2022-08-17 06:00:00   24151.1   1923.47    0.3872    0.5768     44.34   \n",
       "2   2022-08-17 08:00:00   23774.2   1889.45    0.3771    0.5564     43.12   \n",
       "3   2022-08-17 10:00:00   23817.9   1889.08    0.3779    0.5595     43.09   \n",
       "4   2022-08-17 12:00:00   23737.1   1875.89    0.3771    0.5550     42.75   \n",
       "5   2022-08-17 14:00:00   23416.2   1833.59    0.3700    0.5344     41.37   \n",
       "..                  ...       ...       ...       ...       ...       ...   \n",
       "356 2022-09-15 20:00:00   19774.9   1496.66    0.3292    0.4676     33.40   \n",
       "357 2022-09-15 22:00:00   19818.2   1489.59    0.3277    0.4663     33.27   \n",
       "358 2022-09-16 00:00:00   19690.8   1471.94    0.3260    0.4657     33.06   \n",
       "359 2022-09-16 02:00:00   19721.4   1470.78    0.3242    0.4666     32.96   \n",
       "360 2022-09-16 04:00:00   19738.3   1472.61    0.3267    0.4683     32.84   \n",
       "\n",
       "      pct_BTC   pct_ETH   pct_XRP   pct_ADA   pct_SOL  \n",
       "1    0.006422  0.014793  0.000775 -0.001385  0.008186  \n",
       "2   -0.015606 -0.017687 -0.026085 -0.035368 -0.027515  \n",
       "3    0.001838 -0.000196  0.002121  0.005572 -0.000696  \n",
       "4   -0.003392 -0.006982 -0.002117 -0.008043 -0.007890  \n",
       "5   -0.013519 -0.022549 -0.018828 -0.037117 -0.032281  \n",
       "..        ...       ...       ...       ...       ...  \n",
       "356 -0.002296 -0.006901  0.004577 -0.001708  0.000000  \n",
       "357  0.002190 -0.004724 -0.004557 -0.002780 -0.003892  \n",
       "358 -0.006428 -0.011849 -0.005188 -0.001287 -0.006312  \n",
       "359  0.001554 -0.000788 -0.005521  0.001933 -0.003025  \n",
       "360  0.000857  0.001244  0.007711  0.003643 -0.003641  \n",
       "\n",
       "[360 rows x 11 columns]"
      ]
     },
     "execution_count": 539,
     "metadata": {},
     "output_type": "execute_result"
    }
   ],
   "source": [
    "# Drop 1st data point, pct is NaN\n",
    "BEXAS_df = btc_eth_xrp_ada_sol_df.dropna()\n",
    "BEXAS_df"
   ]
  },
  {
   "cell_type": "code",
   "execution_count": 540,
   "metadata": {},
   "outputs": [
    {
     "name": "stderr",
     "output_type": "stream",
     "text": [
      "c:\\Users\\Steve\\anaconda3\\envs\\bootcamp\\lib\\site-packages\\ipykernel_launcher.py:6: FutureWarning: Treating datetime data as categorical rather than numeric in `.describe` is deprecated and will be removed in a future version of pandas. Specify `datetime_is_numeric=True` to silence this warning and adopt the future behavior now.\n",
      "  \n"
     ]
    },
    {
     "data": {
      "text/html": [
       "<div>\n",
       "<style scoped>\n",
       "    .dataframe tbody tr th:only-of-type {\n",
       "        vertical-align: middle;\n",
       "    }\n",
       "\n",
       "    .dataframe tbody tr th {\n",
       "        vertical-align: top;\n",
       "    }\n",
       "\n",
       "    .dataframe thead th {\n",
       "        text-align: right;\n",
       "    }\n",
       "</style>\n",
       "<table border=\"1\" class=\"dataframe\">\n",
       "  <thead>\n",
       "    <tr style=\"text-align: right;\">\n",
       "      <th></th>\n",
       "      <th>Open_time</th>\n",
       "    </tr>\n",
       "  </thead>\n",
       "  <tbody>\n",
       "    <tr>\n",
       "      <th>count</th>\n",
       "      <td>360</td>\n",
       "    </tr>\n",
       "    <tr>\n",
       "      <th>unique</th>\n",
       "      <td>360</td>\n",
       "    </tr>\n",
       "    <tr>\n",
       "      <th>top</th>\n",
       "      <td>2022-08-17 06:00:00</td>\n",
       "    </tr>\n",
       "    <tr>\n",
       "      <th>freq</th>\n",
       "      <td>1</td>\n",
       "    </tr>\n",
       "    <tr>\n",
       "      <th>first</th>\n",
       "      <td>2022-08-17 06:00:00</td>\n",
       "    </tr>\n",
       "    <tr>\n",
       "      <th>last</th>\n",
       "      <td>2022-09-16 04:00:00</td>\n",
       "    </tr>\n",
       "  </tbody>\n",
       "</table>\n",
       "</div>"
      ],
      "text/plain": [
       "                  Open_time\n",
       "count                   360\n",
       "unique                  360\n",
       "top     2022-08-17 06:00:00\n",
       "freq                      1\n",
       "first   2022-08-17 06:00:00\n",
       "last    2022-09-16 04:00:00"
      ]
     },
     "execution_count": 540,
     "metadata": {},
     "output_type": "execute_result"
    }
   ],
   "source": [
    "## Check objects converted to numeric\n",
    "\n",
    "# btc_eth_xrp_ada_sol_df.info()\n",
    "# btc_eth_xrp_ada_sol_df.drypes\n",
    "# btc_eth_xrp_ada_sol_df.describe()\n",
    "BEXAS_df.describe(include='datetime64[ns]')"
   ]
  },
  {
   "cell_type": "code",
   "execution_count": 543,
   "metadata": {},
   "outputs": [
    {
     "name": "stdout",
     "output_type": "stream",
     "text": [
      "2022-08-17 06:00:00\n",
      "2022-09-16 04:00:00\n"
     ]
    }
   ],
   "source": [
    "# Obtain first and last open_time\n",
    "earliest = str(min(BEXAS_df[\"Open_time\"]))\n",
    "latest = str(max(BEXAS_df[\"Open_time\"]))\n",
    "print(earliest)\n",
    "print(latest)"
   ]
  },
  {
   "cell_type": "markdown",
   "metadata": {},
   "source": [
    "## Linear Regression"
   ]
  },
  {
   "cell_type": "code",
   "execution_count": 544,
   "metadata": {},
   "outputs": [],
   "source": [
    "# Define a function for linear regression\n",
    "\n",
    "\n",
    "\n",
    "# Dict to store each pairs data\n",
    "pairs_correlation = {\"Pair\":[],\"r-value\":[],\"beta\":[]}\n",
    "\n",
    "\n",
    "def linear_regression(x_value, y_value, x_label, y_label):\n",
    "    \n",
    "    (slope, intercept, rvalue, pvalue, stderr) = linregress(x_value, y_value)\n",
    "    \n",
    "    regress = x_value * slope + intercept\n",
    "    line_eq = \"y =\" + str(round(slope, 2)) + \"x + \" + str(round(intercept, 2))\n",
    "    \n",
    "    plt.scatter(x_value, y_value, edgecolor=\"black\", marker=\"o\")\n",
    "    plt.title(f\"{x_label}:{y_label} (USDS-M Perp) lin regress (rolling 30d)\")\n",
    "    plt.plot(x_value, regress, \"r-\")\n",
    "    plt.annotate(line_eq, (0, -0.04), fontsize =12, color =\"red\")\n",
    "    plt.xlabel(f\"{x_label} % chg\")\n",
    "    plt.ylabel(f\"{y_label} % chg\")\n",
    "    plt.grid(True)\n",
    "    print(f\"The r-value is:{rvalue}\") \n",
    "    print(f\"The beta is:{slope}\")\n",
    "    plt.savefig(f\"Images/{x_label}_{y_label}_scatter.png\")\n",
    "    \n",
    "    pairs_correlation[\"Pair\"].append(f\"{x_label}:{y_label}\")\n",
    "    pairs_correlation[\"r-value\"].append(rvalue)\n",
    "    pairs_correlation[\"beta\"].append(slope)"
   ]
  },
  {
   "cell_type": "markdown",
   "metadata": {},
   "source": [
    "#### BTCUSDT vs. ETHUSDT Plot & Linear Regression"
   ]
  },
  {
   "cell_type": "code",
   "execution_count": 545,
   "metadata": {},
   "outputs": [
    {
     "name": "stdout",
     "output_type": "stream",
     "text": [
      "The r-value is:0.8549430937924968\n",
      "The beta is:1.304071704281848\n"
     ]
    },
    {
     "data": {
      "image/png": "[encoded data removed]",
      "text/plain": [
       "<Figure size 432x288 with 1 Axes>"
      ]
     },
     "metadata": {
      "needs_background": "light"
     },
     "output_type": "display_data"
    }
   ],
   "source": [
    "# Lin regress\n",
    "x_value = BEXAS_df[\"pct_BTC\"]\n",
    "y_value = BEXAS_df[\"pct_ETH\"]\n",
    "\n",
    "x_label = \"BTC\"\n",
    "y_label = \"ETH\"\n",
    "\n",
    "linear_regression(x_value, y_value, x_label, y_label)"
   ]
  },
  {
   "cell_type": "markdown",
   "metadata": {},
   "source": [
    "#### BTCUSDT vs. XRPUSDT Plot"
   ]
  },
  {
   "cell_type": "code",
   "execution_count": 546,
   "metadata": {},
   "outputs": [
    {
     "name": "stdout",
     "output_type": "stream",
     "text": [
      "The r-value is:0.7256017084659386\n",
      "The beta is:0.7665773947683627\n"
     ]
    },
    {
     "data": {
      "image/png": "[encoded data removed]",
      "text/plain": [
       "<Figure size 432x288 with 1 Axes>"
      ]
     },
     "metadata": {
      "needs_background": "light"
     },
     "output_type": "display_data"
    }
   ],
   "source": [
    "# Lin regress\n",
    "x_value = BEXAS_df[\"pct_BTC\"]\n",
    "y_value = BEXAS_df[\"pct_XRP\"]\n",
    "\n",
    "x_label = \"BTC\"\n",
    "y_label = \"XRP\"\n",
    "\n",
    "linear_regression(x_value, y_value, x_label, y_label)"
   ]
  },
  {
   "cell_type": "markdown",
   "metadata": {},
   "source": [
    "#### BTCUSDT vs. ADAUSDT Plot"
   ]
  },
  {
   "cell_type": "code",
   "execution_count": 547,
   "metadata": {},
   "outputs": [
    {
     "name": "stdout",
     "output_type": "stream",
     "text": [
      "The r-value is:0.7566111341841911\n",
      "The beta is:1.0079788687394884\n"
     ]
    },
    {
     "data": {
      "image/png": "[encoded data removed]",
      "text/plain": [
       "<Figure size 432x288 with 1 Axes>"
      ]
     },
     "metadata": {
      "needs_background": "light"
     },
     "output_type": "display_data"
    }
   ],
   "source": [
    "# Lin regress\n",
    "x_value = BEXAS_df[\"pct_BTC\"]\n",
    "y_value = BEXAS_df[\"pct_ADA\"]\n",
    "\n",
    "x_label = \"BTC\"\n",
    "y_label = \"ADA\"\n",
    "\n",
    "linear_regression(x_value, y_value, x_label, y_label)"
   ]
  },
  {
   "cell_type": "markdown",
   "metadata": {},
   "source": [
    "#### BTCUSDT vs. SOLUSDT Plot"
   ]
  },
  {
   "cell_type": "code",
   "execution_count": 548,
   "metadata": {},
   "outputs": [
    {
     "name": "stdout",
     "output_type": "stream",
     "text": [
      "The r-value is:0.8063852257779244\n",
      "The beta is:1.3009281299195516\n"
     ]
    },
    {
     "data": {
      "image/png": "[encoded data removed]",
      "text/plain": [
       "<Figure size 432x288 with 1 Axes>"
      ]
     },
     "metadata": {
      "needs_background": "light"
     },
     "output_type": "display_data"
    }
   ],
   "source": [
    "# Lin regress\n",
    "x_value = BEXAS_df[\"pct_BTC\"]\n",
    "y_value = BEXAS_df[\"pct_SOL\"]\n",
    "\n",
    "x_label = \"BTC\"\n",
    "y_label = \"SOL\"\n",
    "\n",
    "linear_regression(x_value, y_value, x_label, y_label)"
   ]
  },
  {
   "cell_type": "markdown",
   "metadata": {},
   "source": [
    "#### ETHUSDT vs. XRPUSDT Plot"
   ]
  },
  {
   "cell_type": "code",
   "execution_count": 549,
   "metadata": {},
   "outputs": [
    {
     "name": "stdout",
     "output_type": "stream",
     "text": [
      "The r-value is:0.7128779271656138\n",
      "The beta is:0.4937517141725347\n"
     ]
    },
    {
     "data": {
      "image/png": "[encoded data removed]",
      "text/plain": [
       "<Figure size 432x288 with 1 Axes>"
      ]
     },
     "metadata": {
      "needs_background": "light"
     },
     "output_type": "display_data"
    }
   ],
   "source": [
    "# Lin regress\n",
    "x_value = BEXAS_df[\"pct_ETH\"]\n",
    "y_value = BEXAS_df[\"pct_XRP\"]\n",
    "\n",
    "x_label = \"ETH\"\n",
    "y_label = \"XRP\"\n",
    "\n",
    "linear_regression(x_value, y_value, x_label, y_label)"
   ]
  },
  {
   "cell_type": "markdown",
   "metadata": {},
   "source": [
    "#### ETHUSDT vs. ADAUSDT Plot"
   ]
  },
  {
   "cell_type": "code",
   "execution_count": 550,
   "metadata": {},
   "outputs": [
    {
     "name": "stdout",
     "output_type": "stream",
     "text": [
      "The r-value is:0.7818687841190807\n",
      "The beta is:0.6828861596551747\n"
     ]
    },
    {
     "data": {
      "image/png": "[encoded data removed]",
      "text/plain": [
       "<Figure size 432x288 with 1 Axes>"
      ]
     },
     "metadata": {
      "needs_background": "light"
     },
     "output_type": "display_data"
    }
   ],
   "source": [
    "# Lin regress\n",
    "x_value = BEXAS_df[\"pct_ETH\"]\n",
    "y_value = BEXAS_df[\"pct_ADA\"]\n",
    "\n",
    "x_label = \"ETH\"\n",
    "y_label = \"ADA\"\n",
    "\n",
    "linear_regression(x_value, y_value, x_label, y_label)"
   ]
  },
  {
   "cell_type": "markdown",
   "metadata": {},
   "source": [
    "#### ETHUSDT vs. SOLUSDT Plot"
   ]
  },
  {
   "cell_type": "code",
   "execution_count": 551,
   "metadata": {},
   "outputs": [
    {
     "name": "stdout",
     "output_type": "stream",
     "text": [
      "The r-value is:0.816688643880882\n",
      "The beta is:0.863779704869913\n"
     ]
    },
    {
     "data": {
      "image/png": "[encoded data removed]",
      "text/plain": [
       "<Figure size 432x288 with 1 Axes>"
      ]
     },
     "metadata": {
      "needs_background": "light"
     },
     "output_type": "display_data"
    }
   ],
   "source": [
    "# Lin regress\n",
    "x_value = BEXAS_df[\"pct_ETH\"]\n",
    "y_value = BEXAS_df[\"pct_SOL\"]\n",
    "\n",
    "x_label = \"ETH\"\n",
    "y_label = \"SOL\"\n",
    "\n",
    "linear_regression(x_value, y_value, x_label, y_label)"
   ]
  },
  {
   "cell_type": "markdown",
   "metadata": {},
   "source": [
    "#### XRPUSDT vs. ADAUSDT Plot"
   ]
  },
  {
   "cell_type": "code",
   "execution_count": 552,
   "metadata": {},
   "outputs": [
    {
     "name": "stdout",
     "output_type": "stream",
     "text": [
      "The r-value is:0.7375857252743646\n",
      "The beta is:0.9301082379819703\n"
     ]
    },
    {
     "data": {
      "image/png": "[encoded data removed]",
      "text/plain": [
       "<Figure size 432x288 with 1 Axes>"
      ]
     },
     "metadata": {
      "needs_background": "light"
     },
     "output_type": "display_data"
    }
   ],
   "source": [
    "# Lin regress\n",
    "x_value = BEXAS_df[\"pct_XRP\"]\n",
    "y_value = BEXAS_df[\"pct_ADA\"]\n",
    "\n",
    "x_label = \"XRP\"\n",
    "y_label = \"ADA\"\n",
    "\n",
    "linear_regression(x_value, y_value, x_label, y_label)"
   ]
  },
  {
   "cell_type": "markdown",
   "metadata": {},
   "source": [
    "#### XRPUSDT vs. SOLUSDT Plot"
   ]
  },
  {
   "cell_type": "code",
   "execution_count": 553,
   "metadata": {},
   "outputs": [
    {
     "name": "stdout",
     "output_type": "stream",
     "text": [
      "The r-value is:0.7084182697509654\n",
      "The beta is:1.0817895538159426\n"
     ]
    },
    {
     "data": {
      "image/png": "[encoded data removed]",
      "text/plain": [
       "<Figure size 432x288 with 1 Axes>"
      ]
     },
     "metadata": {
      "needs_background": "light"
     },
     "output_type": "display_data"
    }
   ],
   "source": [
    "# Lin regress\n",
    "x_value = BEXAS_df[\"pct_XRP\"]\n",
    "y_value = BEXAS_df[\"pct_SOL\"]\n",
    "\n",
    "x_label = \"XRP\"\n",
    "y_label = \"SOL\"\n",
    "\n",
    "linear_regression(x_value, y_value, x_label, y_label)"
   ]
  },
  {
   "cell_type": "markdown",
   "metadata": {},
   "source": [
    "#### ADAUSDT vs. SOLUSDT Plot"
   ]
  },
  {
   "cell_type": "code",
   "execution_count": 554,
   "metadata": {},
   "outputs": [
    {
     "name": "stdout",
     "output_type": "stream",
     "text": [
      "The r-value is:0.8028785555100749\n",
      "The beta is:0.9722588408802243\n"
     ]
    },
    {
     "data": {
      "image/png": "[encoded data removed]",
      "text/plain": [
       "<Figure size 432x288 with 1 Axes>"
      ]
     },
     "metadata": {
      "needs_background": "light"
     },
     "output_type": "display_data"
    }
   ],
   "source": [
    "# Lin regress\n",
    "x_value = BEXAS_df[\"pct_ADA\"]\n",
    "y_value = BEXAS_df[\"pct_SOL\"]\n",
    "\n",
    "x_label = \"ADA\"\n",
    "y_label = \"SOL\"\n",
    "\n",
    "linear_regression(x_value, y_value, x_label, y_label)"
   ]
  },
  {
   "cell_type": "code",
   "execution_count": 555,
   "metadata": {},
   "outputs": [
    {
     "name": "stdout",
     "output_type": "stream",
     "text": [
      "Correlations of Binance USDS-M Perps (30d rolling)\n"
     ]
    },
    {
     "data": {
      "text/html": [
       "<div>\n",
       "<style scoped>\n",
       "    .dataframe tbody tr th:only-of-type {\n",
       "        vertical-align: middle;\n",
       "    }\n",
       "\n",
       "    .dataframe tbody tr th {\n",
       "        vertical-align: top;\n",
       "    }\n",
       "\n",
       "    .dataframe thead th {\n",
       "        text-align: right;\n",
       "    }\n",
       "</style>\n",
       "<table border=\"1\" class=\"dataframe\">\n",
       "  <thead>\n",
       "    <tr style=\"text-align: right;\">\n",
       "      <th></th>\n",
       "      <th>Pair</th>\n",
       "      <th>r-value</th>\n",
       "      <th>beta</th>\n",
       "      <th>Earliest_interval</th>\n",
       "      <th>Latest_interval</th>\n",
       "      <th>API_queried_UTC</th>\n",
       "    </tr>\n",
       "  </thead>\n",
       "  <tbody>\n",
       "    <tr>\n",
       "      <th>0</th>\n",
       "      <td>BTC:ETH</td>\n",
       "      <td>0.854943</td>\n",
       "      <td>1.304072</td>\n",
       "      <td>2022-08-17 06:00:00</td>\n",
       "      <td>2022-09-16 04:00:00</td>\n",
       "      <td>2022-09-16 05:15:42.400065+00:00</td>\n",
       "    </tr>\n",
       "    <tr>\n",
       "      <th>6</th>\n",
       "      <td>ETH:SOL</td>\n",
       "      <td>0.816689</td>\n",
       "      <td>0.863780</td>\n",
       "      <td>2022-08-17 06:00:00</td>\n",
       "      <td>2022-09-16 04:00:00</td>\n",
       "      <td>2022-09-16 05:15:42.400065+00:00</td>\n",
       "    </tr>\n",
       "    <tr>\n",
       "      <th>3</th>\n",
       "      <td>BTC:SOL</td>\n",
       "      <td>0.806385</td>\n",
       "      <td>1.300928</td>\n",
       "      <td>2022-08-17 06:00:00</td>\n",
       "      <td>2022-09-16 04:00:00</td>\n",
       "      <td>2022-09-16 05:15:42.400065+00:00</td>\n",
       "    </tr>\n",
       "    <tr>\n",
       "      <th>9</th>\n",
       "      <td>ADA:SOL</td>\n",
       "      <td>0.802879</td>\n",
       "      <td>0.972259</td>\n",
       "      <td>2022-08-17 06:00:00</td>\n",
       "      <td>2022-09-16 04:00:00</td>\n",
       "      <td>2022-09-16 05:15:42.400065+00:00</td>\n",
       "    </tr>\n",
       "    <tr>\n",
       "      <th>5</th>\n",
       "      <td>ETH:ADA</td>\n",
       "      <td>0.781869</td>\n",
       "      <td>0.682886</td>\n",
       "      <td>2022-08-17 06:00:00</td>\n",
       "      <td>2022-09-16 04:00:00</td>\n",
       "      <td>2022-09-16 05:15:42.400065+00:00</td>\n",
       "    </tr>\n",
       "    <tr>\n",
       "      <th>2</th>\n",
       "      <td>BTC:ADA</td>\n",
       "      <td>0.756611</td>\n",
       "      <td>1.007979</td>\n",
       "      <td>2022-08-17 06:00:00</td>\n",
       "      <td>2022-09-16 04:00:00</td>\n",
       "      <td>2022-09-16 05:15:42.400065+00:00</td>\n",
       "    </tr>\n",
       "    <tr>\n",
       "      <th>7</th>\n",
       "      <td>XRP:ADA</td>\n",
       "      <td>0.737586</td>\n",
       "      <td>0.930108</td>\n",
       "      <td>2022-08-17 06:00:00</td>\n",
       "      <td>2022-09-16 04:00:00</td>\n",
       "      <td>2022-09-16 05:15:42.400065+00:00</td>\n",
       "    </tr>\n",
       "    <tr>\n",
       "      <th>1</th>\n",
       "      <td>BTC:XRP</td>\n",
       "      <td>0.725602</td>\n",
       "      <td>0.766577</td>\n",
       "      <td>2022-08-17 06:00:00</td>\n",
       "      <td>2022-09-16 04:00:00</td>\n",
       "      <td>2022-09-16 05:15:42.400065+00:00</td>\n",
       "    </tr>\n",
       "    <tr>\n",
       "      <th>4</th>\n",
       "      <td>ETH:XRP</td>\n",
       "      <td>0.712878</td>\n",
       "      <td>0.493752</td>\n",
       "      <td>2022-08-17 06:00:00</td>\n",
       "      <td>2022-09-16 04:00:00</td>\n",
       "      <td>2022-09-16 05:15:42.400065+00:00</td>\n",
       "    </tr>\n",
       "    <tr>\n",
       "      <th>8</th>\n",
       "      <td>XRP:SOL</td>\n",
       "      <td>0.708418</td>\n",
       "      <td>1.081790</td>\n",
       "      <td>2022-08-17 06:00:00</td>\n",
       "      <td>2022-09-16 04:00:00</td>\n",
       "      <td>2022-09-16 05:15:42.400065+00:00</td>\n",
       "    </tr>\n",
       "  </tbody>\n",
       "</table>\n",
       "</div>"
      ],
      "text/plain": [
       "      Pair   r-value      beta    Earliest_interval      Latest_interval  \\\n",
       "0  BTC:ETH  0.854943  1.304072  2022-08-17 06:00:00  2022-09-16 04:00:00   \n",
       "6  ETH:SOL  0.816689  0.863780  2022-08-17 06:00:00  2022-09-16 04:00:00   \n",
       "3  BTC:SOL  0.806385  1.300928  2022-08-17 06:00:00  2022-09-16 04:00:00   \n",
       "9  ADA:SOL  0.802879  0.972259  2022-08-17 06:00:00  2022-09-16 04:00:00   \n",
       "5  ETH:ADA  0.781869  0.682886  2022-08-17 06:00:00  2022-09-16 04:00:00   \n",
       "2  BTC:ADA  0.756611  1.007979  2022-08-17 06:00:00  2022-09-16 04:00:00   \n",
       "7  XRP:ADA  0.737586  0.930108  2022-08-17 06:00:00  2022-09-16 04:00:00   \n",
       "1  BTC:XRP  0.725602  0.766577  2022-08-17 06:00:00  2022-09-16 04:00:00   \n",
       "4  ETH:XRP  0.712878  0.493752  2022-08-17 06:00:00  2022-09-16 04:00:00   \n",
       "8  XRP:SOL  0.708418  1.081790  2022-08-17 06:00:00  2022-09-16 04:00:00   \n",
       "\n",
       "                    API_queried_UTC  \n",
       "0  2022-09-16 05:15:42.400065+00:00  \n",
       "6  2022-09-16 05:15:42.400065+00:00  \n",
       "3  2022-09-16 05:15:42.400065+00:00  \n",
       "9  2022-09-16 05:15:42.400065+00:00  \n",
       "5  2022-09-16 05:15:42.400065+00:00  \n",
       "2  2022-09-16 05:15:42.400065+00:00  \n",
       "7  2022-09-16 05:15:42.400065+00:00  \n",
       "1  2022-09-16 05:15:42.400065+00:00  \n",
       "4  2022-09-16 05:15:42.400065+00:00  \n",
       "8  2022-09-16 05:15:42.400065+00:00  "
      ]
     },
     "execution_count": 555,
     "metadata": {},
     "output_type": "execute_result"
    }
   ],
   "source": [
    "## Display correlations (descending order)\n",
    "\n",
    "# Convert dict to df\n",
    "correlations_df = pd.DataFrame(pairs_correlation).sort_values(\"r-value\", ascending=False)\n",
    "correlations_df[\"Earliest_interval\"] = earliest\n",
    "correlations_df[\"Latest_interval\"] = latest\n",
    "correlations_df[\"API_queried_UTC\"] = executed_utc\n",
    "print(f\"Correlations of Binance USDS-M Perps (30d rolling)\")\n",
    "correlations_df"
   ]
  },
  {
   "cell_type": "code",
   "execution_count": 556,
   "metadata": {},
   "outputs": [],
   "source": [
    "# ! pip install dataframe_image\n",
    "import dataframe_image as dfi\n",
    "\n",
    "correlations_styled_df = correlations_df.style.background_gradient()\n",
    "dfi.export(correlations_styled_df, \"Images/Correlations_descending.png\")"
   ]
  }
 ],
 "metadata": {
  "kernelspec": {
   "display_name": "Python 3.7.13 ('bootcamp')",
   "language": "python",
   "name": "python3"
  },
  "language_info": {
   "codemirror_mode": {
    "name": "ipython",
    "version": 3
   },
   "file_extension": ".py",
   "mimetype": "text/x-python",
   "name": "python",
   "nbconvert_exporter": "python",
   "pygments_lexer": "ipython3",
   "version": "3.7.13"
  },
  "orig_nbformat": 4,
  "vscode": {
   "interpreter": {
    "hash": "c1045dce47e268ff1365c3f603defeb0aa850c229e636842f21fdc3e170438c8"
   }
  }
 },
 "nbformat": 4,
 "nbformat_minor": 2
}
