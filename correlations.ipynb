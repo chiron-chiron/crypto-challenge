{
 "cells": [
  {
   "cell_type": "markdown",
   "metadata": {},
   "source": [
    "### Crypto Challenge - Correlations\n",
    "\n",
    "#### Correlations b/w various crypto instruments (Binance)\n",
    "* Retrieve historic data from Binance using their API\n",
    "* Historic = most recent 30 days\n",
    "* Data = daily price data of various perpetual swap instruments\n",
    "* Instruments to be analysed:\n",
    "    * BTC/USDT\n",
    "    * ETH/USDT\n",
    "    * XRP/USDT\n",
    "    * ADA/USDT\n",
    "    * SOL/USDT\n",
    "* Refer below for more instructions"
   ]
  },
  {
   "cell_type": "code",
   "execution_count": 1,
   "metadata": {},
   "outputs": [],
   "source": [
    "# Install dependencies\n",
    "\n",
    "import json\n",
    "import requests\n",
    "from api_keys import binance_api_key\n",
    "import numpy as np\n",
    "import pandas as pd\n",
    "from pprint import pprint\n",
    "import matplotlib.pyplot as plt\n",
    "from scipy.stats import linregress"
   ]
  },
  {
   "cell_type": "code",
   "execution_count": null,
   "metadata": {},
   "outputs": [],
   "source": [
    "# test"
   ]
  }
 ],
 "metadata": {
  "kernelspec": {
   "display_name": "Python 3.7.13 ('bootcamp')",
   "language": "python",
   "name": "python3"
  },
  "language_info": {
   "codemirror_mode": {
    "name": "ipython",
    "version": 3
   },
   "file_extension": ".py",
   "mimetype": "text/x-python",
   "name": "python",
   "nbconvert_exporter": "python",
   "pygments_lexer": "ipython3",
   "version": "3.7.13"
  },
  "orig_nbformat": 4,
  "vscode": {
   "interpreter": {
    "hash": "c1045dce47e268ff1365c3f603defeb0aa850c229e636842f21fdc3e170438c8"
   }
  }
 },
 "nbformat": 4,
 "nbformat_minor": 2
}
