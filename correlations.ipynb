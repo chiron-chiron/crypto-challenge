{
 "cells": [
  {
   "cell_type": "markdown",
   "metadata": {},
   "source": [
    "### Crypto Challenge - Correlations\n",
    "\n",
    "#### Correlations b/w various crypto instruments (Binance)\n",
    "* Retrieve historic data from Binance using their API\n",
    "* Historic = most recent 30 days\n",
    "* Data = daily price data of various perpetual swap instruments\n",
    "* Instruments = perpetual swaps / on Binance USD-Margined derivatives exchange (\"USDS-M\"):\n",
    "    * BTC/USDT\n",
    "    * ETH/USDT\n",
    "    * XRP/USDT\n",
    "    * ADA/USDT\n",
    "    * SOL/USDT\n",
    "* Refer below for more instructions"
   ]
  },
  {
   "cell_type": "markdown",
   "metadata": {},
   "source": [
    "#### Info on USDS-M contracts:\n",
    "* Settlement in USD-pegged assets: contracts are denominated and settled in USDT or BUSD.\n",
    "* Expiration: Perpetual and Quarterly.\n",
    "* Clear pricing rules: each futures contract specifies the base asset's quantity delivered for a single contract, also known as \"Contract Unit\". For instance, BTC/USDT, ETH/USDT, and BCH/USDT futures contracts represent only one unit of its respective base asset, similar to spot markets.\n",
    "* (Source: https://www.binance.com/en/support/faq/85eac2bba0b342819122dc9bd4745e9b)\n",
    "\n",
    "* USDS-M Futures Contract Specifications: (https://www.binance.com/en/support/faq/360033161972)\n",
    "\n",
    "* Advantages of USDS-M contracts:\n",
    "\n",
    "* USDⓈ-Margined contracts are linear futures quoted and settled in USDT or BUSD. One of the key benefits of USDT or BUSD settlement is that you can easily calculate your returns in fiat. This makes USDⓈ-Margined contracts more intuitive. For example, when you make 500 BUSD in profit, you can easily estimate that the profit is worth approximately $500 - since the value of 1 BUSD is pegged closely to 1 USD.\n",
    "Additionally, a universal settlement currency, such as BUSD or USDT, provides more flexibility. You can use the same settlement currency across various futures contracts (i.e., BTC, ETH, XRP, etc.). This eliminates the need to buy the underlying coins to fund futures positions. As such, you will not incur excessive fees as there is no additional conversion required when trading with USDT.\n",
    "In periods of high volatility, USDⓈ-Margined contracts can help reduce the risk of large price swings. Thus, you do not need to worry about hedging their underlying collateral exposure.\n",
    "\n",
    "* Price Index of USDS-M Contracts:\n",
    "* The underlying contract for the Perpetual Contract is the ‘true’ value of the Contract, and an average of the prices on the major markets constitutes the “Price Index” which is the primary component of Mark Price.\n",
    "The Price Index is a bucket of prices from the major Spot Market Exchanges. The Price Index for USDⓈ-M futures contracts derives prices from Huobi, Okex, Bittrex, HitBTC, Gate.io, Bitmax, Poloniex, FTX, MXC. (Source: https://www.binance.com/en/support/faq/547ba48141474ab3bddc5d7898f97928)"
   ]
  },
  {
   "cell_type": "markdown",
   "metadata": {},
   "source": [
    "#### Code Documentation\n",
    "* Binance API docs: (https://binance-docs.github.io/)\n",
    "* Python-Binance library docs: (https://python-binance.readthedocs.io/)"
   ]
  },
  {
   "cell_type": "markdown",
   "metadata": {},
   "source": [
    "#### Troubleshooting\n",
    "* Dev forums: (https://dev.binance.vision)\n",
    "* "
   ]
  },
  {
   "cell_type": "markdown",
   "metadata": {},
   "source": [
    "##### Commenced python-binance SDK library, due to time contraints, continued to interact directly with Binance APIs."
   ]
  },
  {
   "cell_type": "code",
   "execution_count": 1,
   "metadata": {},
   "outputs": [],
   "source": [
    "# Install/import dependencies\n",
    "\n",
    "import json\n",
    "import requests\n",
    "# from api_keys import exchange_api_key1, exchange_api_key2\n",
    "import numpy as np\n",
    "import pandas as pd\n",
    "from pprint import pprint\n",
    "import matplotlib.pyplot as plt\n",
    "from scipy.stats import linregress\n",
    "import datetime\n",
    "# python-binance package install\n"
   ]
  },
  {
   "cell_type": "code",
   "execution_count": 2,
   "metadata": {},
   "outputs": [],
   "source": [
    "# Import initialise exchange api keys\n",
    "from api_keys import exchange_api_key1, exchange_api_key2"
   ]
  },
  {
   "cell_type": "code",
   "execution_count": 3,
   "metadata": {},
   "outputs": [],
   "source": [
    "# Install crypto/finance specific dependencies\n",
    "# ! pip install python-binance"
   ]
  },
  {
   "cell_type": "code",
   "execution_count": 4,
   "metadata": {},
   "outputs": [],
   "source": [
    "# Import crypto/finance dependencies\n",
    "# from binance import Client"
   ]
  },
  {
   "cell_type": "code",
   "execution_count": 5,
   "metadata": {},
   "outputs": [],
   "source": [
    "# Authenticate exchange API keys to python client (using Binance-Python)\n",
    "# Setup client\n",
    "# client = Client(exchange_api_key1, exchange_api_key2)"
   ]
  },
  {
   "cell_type": "code",
   "execution_count": 6,
   "metadata": {},
   "outputs": [],
   "source": [
    "# tickers = client.get_all_tickers()\n",
    "# tickers"
   ]
  },
  {
   "cell_type": "code",
   "execution_count": 7,
   "metadata": {},
   "outputs": [],
   "source": [
    "# Checking rate limits\n",
    "# client.get_exchange_info()\n"
   ]
  },
  {
   "cell_type": "code",
   "execution_count": 8,
   "metadata": {},
   "outputs": [],
   "source": [
    "# price_data = client.get_historical_klines('BTCUSDT', Client.KLINE_INTERVAL_1DAY,'13 Sep 2022')\n",
    "# price_data"
   ]
  },
  {
   "cell_type": "code",
   "execution_count": 9,
   "metadata": {},
   "outputs": [],
   "source": [
    "# client.get_historical_klines_generator??\n",
    "\n",
    "# client.get_continuousklines??\n",
    "\n",
    "# client.futures_continous_klines('BTCUSDT')\n",
    "#https://fapi.binance.com/fapi/v1/continuousKlines?pair=BTCUSDT&contractType=PERPETUAL"
   ]
  },
  {
   "cell_type": "code",
   "execution_count": 10,
   "metadata": {},
   "outputs": [],
   "source": [
    "# base_url = "
   ]
  },
  {
   "cell_type": "code",
   "execution_count": 11,
   "metadata": {},
   "outputs": [],
   "source": [
    "# btcfutures = client.get_historical_klines(symbol='BTCUSDT',\n",
    "#                                           type= 'USD_M_Futures',\n",
    "#                                           interval=Client.KLINE_INTERVAL_1DAY,\n",
    "#                                           start_str= '',)"
   ]
  },
  {
   "cell_type": "code",
   "execution_count": 12,
   "metadata": {},
   "outputs": [],
   "source": [
    "# client.get_continuous_kline()"
   ]
  },
  {
   "cell_type": "markdown",
   "metadata": {},
   "source": [
    "### Perform API Calls\n",
    "* Binance API docs:\n",
    "https://binance-docs.github.io/apidocs/futures/en/#continuous-contract-kline-candlestick-data\n",
    "* Response:\n",
    "\n",
    "* 1607444700000,          // Open time\n",
    "* \"18879.99\",             // Open\n",
    "* \"18900.00\",             // High\n",
    "* \"18878.98\",             // Low\n",
    "* \"18896.13\",             // Close (or latest price)\n",
    "* \"492.363\",              // Volume\n",
    "* 1607444759999,          // Close time\n",
    "* \"9302145.66080\",        // Quote asset volume\n",
    "* 1874,                   // Number of trades\n",
    "* \"385.983\",              // Taker buy volume\n",
    "* \"7292402.33267\",        // Taker buy quote asset volume\n",
    "* \"0\"                     // Ignore"
   ]
  },
  {
   "cell_type": "code",
   "execution_count": 13,
   "metadata": {},
   "outputs": [
    {
     "data": {
      "text/plain": [
       "'https://fapi.binance.com/fapi/v1/continuousKlines?pair=ETHUSDT&contractType=PERPETUAL&interval=2h&limit=361'"
      ]
     },
     "execution_count": 13,
     "metadata": {},
     "output_type": "execute_result"
    }
   ],
   "source": [
    "\n",
    "#FAPI docs Binance USDS-M Futures\n",
    "# Link: (https://binance-docs.github.io/apidocs/futures/en/#continuous-contract-kline-candlestick-data)\n",
    "\n",
    "# Base binance url for calling API\n",
    "base_url = \"https://fapi.binance.com\"          # end point for USDS-M\n",
    "event = \"/fapi/v1/continuousKlines\"            # Continuous contract Kline\n",
    "pair_btcusdt = \"BTCUSDT\"                       # string, mandatory\n",
    "contractType = 'PERPETUAL'                     # enum, mandatory\n",
    "interval = '2h'                                # enum, mandatory\n",
    "limit = 360 + 1                                # 30days x 2hrly + 1 extra for droping due to pct calc NaN\n",
    "\n",
    "# # Params for additional data\n",
    "pair_ethusdt = \"ETHUSDT\"\n",
    "pair_xrpusdt = \"XRPUSDT\"\n",
    "pair_adausdt = \"ADAUSDT\"\n",
    "pair_solusdt = \"SOLUSDT\"\n",
    "\n",
    "\n",
    "# Build various query URLs\n",
    "query_url_btcusdt = f\"{base_url}{event}?pair={pair_btcusdt}&contractType={contractType}&interval={interval}&limit={limit}\"\n",
    "query_url_ethusdt = f\"{base_url}{event}?pair={pair_ethusdt}&contractType={contractType}&interval={interval}&limit={limit}\"\n",
    "query_url_xrpusdt = f\"{base_url}{event}?pair={pair_xrpusdt}&contractType={contractType}&interval={interval}&limit={limit}\"\n",
    "query_url_adausdt = f\"{base_url}{event}?pair={pair_adausdt}&contractType={contractType}&interval={interval}&limit={limit}\"\n",
    "query_url_solusdt = f\"{base_url}{event}?pair={pair_solusdt}&contractType={contractType}&interval={interval}&limit={limit}\"\n",
    "\n",
    "# Timestamp execution (UTC)\n",
    "executed_utc = str(pd.Timestamp.utcnow())\n",
    "\n",
    "query_url_ethusdt\n"
   ]
  },
  {
   "cell_type": "code",
   "execution_count": 14,
   "metadata": {},
   "outputs": [],
   "source": [
    "# Loop query_url customising for each pair. \n",
    "# This code would be required to scale exercise.\n",
    "\n",
    "# for pair in pairs:\n",
    "#     try:\n",
    "#         # Retrieve \"continuousKlines\" for perps\n",
    "#         query_url = f\"{base_url}{event}?pair={pair}&contractType={contractType}&interval={interval}\"\n",
    "#         response = requests.get(query_url).json()\n",
    "#         f'{pair}_raw_df' = pd.DataFrame(response)"
   ]
  },
  {
   "cell_type": "code",
   "execution_count": 15,
   "metadata": {},
   "outputs": [],
   "source": [
    "response_btcusdt = requests.get(query_url_btcusdt).json()\n",
    "response_ethusdt = requests.get(query_url_ethusdt).json()\n",
    "response_xrpusdt = requests.get(query_url_xrpusdt).json()\n",
    "response_adausdt = requests.get(query_url_adausdt).json()\n",
    "response_solusdt = requests.get(query_url_solusdt).json()\n",
    "# response_solusdt"
   ]
  },
  {
   "cell_type": "code",
   "execution_count": 16,
   "metadata": {},
   "outputs": [],
   "source": [
    "## Convert retrieved json > Pandas dataframe\n",
    "\n",
    "btcusdt_raw_df = pd.DataFrame(response_btcusdt)\n",
    "ethusdt_raw_df = pd.DataFrame(response_ethusdt)\n",
    "xrpusdt_raw_df = pd.DataFrame(response_xrpusdt)\n",
    "adausdt_raw_df = pd.DataFrame(response_adausdt)\n",
    "solusdt_raw_df = pd.DataFrame(response_solusdt)\n",
    "# btcusdt_raw_df\n"
   ]
  },
  {
   "cell_type": "code",
   "execution_count": 17,
   "metadata": {},
   "outputs": [],
   "source": [
    "## Save image of raw data df\n",
    "\n",
    "# solusdt_raw_df\n",
    "\n",
    "raw_data = solusdt_raw_df.head()\n",
    "\n",
    "# Saving image of raw_data\n",
    "import dataframe_image as dfi\n",
    "\n",
    "dfi.export(raw_data, \"Images/Eg_raw_data.png\")"
   ]
  },
  {
   "cell_type": "code",
   "execution_count": 18,
   "metadata": {},
   "outputs": [],
   "source": [
    "## Rename columns of df, based on response dictionary,\n",
    "\n",
    "# from (https://binance-docs.github.io/apidocs/futures/en/#continuous-contract-kline-candlestick-data):\n",
    "#     1607444700000,          // Open time\n",
    "#     \"18879.99\",             // Open\n",
    "#     \"18900.00\",             // High\n",
    "#     \"18878.98\",             // Low\n",
    "#     \"18896.13\",             // Close (or latest price)\n",
    "#     \"492.363\",              // Volume\n",
    "#     1607444759999,          // Close time\n",
    "#     \"9302145.66080\",        // Quote asset volume\n",
    "#     1874,                   // Number of trades\n",
    "#     \"385.983\",              // Taker buy volume\n",
    "#     \"7292402.33267\",        // Taker buy quote asset volume\n",
    "#     \"0\"                     // Ignore.\n",
    "\n",
    "btcusdt_raw_df.columns = [\"Open_time\", \"Open_BTC\", \"High_BTC\", \"Low_BTC\", \"Close_BTC\",\n",
    "                          \"Volume\", \"Close_time_BTC\", \"Quote_asset_volume\", \"Number_of_trades\",\n",
    "                          \"Taker_buy_volume\", \"Taker_buy_quote_asset_volume\", \"Ignore\"]\n",
    "ethusdt_raw_df.columns = [\"Open_time\", \"Open_ETH\", \"High_ETH\", \"Low_BTC\", \"Close_ETH\",\n",
    "                          \"Volume\", \"Close_time_ETH\", \"Quote_asset_volume\", \"Number_of_trades\",\n",
    "                          \"Taker_buy_volume\", \"Taker_buy_quote_asset_volume\", \"Ignore\"]\n",
    "xrpusdt_raw_df.columns = [\"Open_time\", \"Open_XRP\", \"High_XRP\", \"Low_XRP\", \"Close_XRP\",\n",
    "                          \"Volume\", \"Close_time_XRP\", \"Quote_asset_volume\", \"Number_of_trades\",\n",
    "                          \"Taker_buy_volume\", \"Taker_buy_quote_asset_volume\", \"Ignore\"]\n",
    "adausdt_raw_df.columns = [\"Open_time\", \"Open_ADA\", \"High_ADA\", \"Low_ADA\", \"Close_ADA\",\n",
    "                          \"Volume\", \"Close_time_ADA\", \"Quote_asset_volume\", \"Number_of_trades\",\n",
    "                          \"Taker_buy_volume\", \"Taker_buy_quote_asset_volume\", \"Ignore\"]\n",
    "solusdt_raw_df.columns = [\"Open_time\", \"Open_SOL\", \"High_SOL\", \"Low_SOL\", \"Close_SOL\",\n",
    "                          \"Volume\", \"Close_time_SOL\", \"Quote_asset_volume\", \"Number_of_trades\",\n",
    "                          \"Taker_buy_volume\", \"Taker_buy_quote_asset_volume\", \"Ignore\"]"
   ]
  },
  {
   "cell_type": "code",
   "execution_count": 19,
   "metadata": {},
   "outputs": [
    {
     "data": {
      "text/plain": [
       "(361, 12)"
      ]
     },
     "execution_count": 19,
     "metadata": {},
     "output_type": "execute_result"
    }
   ],
   "source": [
    "## Check len of response\n",
    "# print(solusdt_raw_df.head())\n",
    "btcusdt_raw_df.shape\n",
    "\n",
    "# print(f'There are 500 data points per pair (proof: btcusdt_raw_df.shape). I have a limit of 500 responses.')\n",
    "# print(f'30 days x 24 hrs = 720hrs. Rolling last 720hr required, 1.44hr intervals returns 500 data points.')\n",
    "# print(f'Rounding up to intervals of 2hrs, for max datapoints that cover last 720 hrs (30days)')"
   ]
  },
  {
   "cell_type": "code",
   "execution_count": 20,
   "metadata": {},
   "outputs": [
    {
     "data": {
      "text/plain": [
       "Open_time                        int64\n",
       "Open_SOL                        object\n",
       "High_SOL                        object\n",
       "Low_SOL                         object\n",
       "Close_SOL                       object\n",
       "Volume                          object\n",
       "Close_time_SOL                   int64\n",
       "Quote_asset_volume              object\n",
       "Number_of_trades                 int64\n",
       "Taker_buy_volume                object\n",
       "Taker_buy_quote_asset_volume    object\n",
       "Ignore                          object\n",
       "dtype: object"
      ]
     },
     "execution_count": 20,
     "metadata": {},
     "output_type": "execute_result"
    }
   ],
   "source": [
    "# Check data type of DFs\n",
    "solusdt_raw_df.dtypes"
   ]
  },
  {
   "cell_type": "code",
   "execution_count": 21,
   "metadata": {},
   "outputs": [],
   "source": [
    "# Convert Open/close times to datetime\n",
    "btcusdt_raw_df[\"Open_time\"] = pd.to_datetime(btcusdt_raw_df[\"Open_time\"]/1000, unit='s')\n",
    "btcusdt_raw_df[\"Close_time_BTC\"] = pd.to_datetime(btcusdt_raw_df[\"Close_time_BTC\"]/1000, unit='s')\n",
    "\n",
    "ethusdt_raw_df[\"Open_time\"] = pd.to_datetime(ethusdt_raw_df[\"Open_time\"]/1000, unit='s')\n",
    "ethusdt_raw_df[\"Close_time_ETH\"] = pd.to_datetime(ethusdt_raw_df[\"Close_time_ETH\"]/1000, unit='s')\n",
    "\n",
    "xrpusdt_raw_df[\"Open_time\"] = pd.to_datetime(xrpusdt_raw_df[\"Open_time\"]/1000, unit='s')\n",
    "xrpusdt_raw_df[\"Close_time_XRP\"] = pd.to_datetime(xrpusdt_raw_df[\"Close_time_XRP\"]/1000, unit='s')\n",
    "\n",
    "adausdt_raw_df[\"Open_time\"] = pd.to_datetime(adausdt_raw_df[\"Open_time\"]/1000, unit='s')\n",
    "adausdt_raw_df[\"Close_time_ADA\"] = pd.to_datetime(adausdt_raw_df[\"Close_time_ADA\"]/1000, unit='s')\n",
    "\n",
    "solusdt_raw_df[\"Open_time\"] = pd.to_datetime(solusdt_raw_df[\"Open_time\"]/1000, unit='s')\n",
    "solusdt_raw_df[\"Close_time_SOL\"] = pd.to_datetime(solusdt_raw_df[\"Close_time_SOL\"]/1000, unit='s')"
   ]
  },
  {
   "cell_type": "code",
   "execution_count": 22,
   "metadata": {},
   "outputs": [
    {
     "name": "stdout",
     "output_type": "stream",
     "text": [
      "              Open_time Open_XRP High_XRP Low_XRP Close_XRP       Volume  \\\n",
      "356 2022-09-21 00:00:00   0.4134   0.4153  0.4042    0.4065  393741254.3   \n",
      "357 2022-09-21 02:00:00   0.4065   0.4112  0.4029    0.4042  216390935.5   \n",
      "358 2022-09-21 04:00:00   0.4042   0.4129  0.4026    0.4053  346528062.6   \n",
      "359 2022-09-21 06:00:00   0.4054   0.4073  0.3893    0.4021  627656134.2   \n",
      "360 2022-09-21 08:00:00   0.4022   0.4073  0.3951    0.4062  326146329.0   \n",
      "\n",
      "                   Close_time_XRP Quote_asset_volume  Number_of_trades  \\\n",
      "356 2022-09-21 01:59:59.999000064    161328796.18457            164149   \n",
      "357 2022-09-21 03:59:59.999000064     88072089.46653             92953   \n",
      "358 2022-09-21 05:59:59.999000064    141584775.26971            129527   \n",
      "359 2022-09-21 07:59:59.999000064    248742780.86804            235209   \n",
      "360 2022-09-21 09:59:59.999000064    130606239.60862            135554   \n",
      "\n",
      "    Taker_buy_volume Taker_buy_quote_asset_volume Ignore  \n",
      "356      197399100.2               80880476.18512      0  \n",
      "357      107664418.1               43828710.56458      0  \n",
      "358      170393490.3               69627644.36174      0  \n",
      "359      305113396.3              120921966.03644      0  \n",
      "360      160794477.3               64415638.83403      0  \n",
      "            Open_time Open_ADA High_ADA  Low_ADA Close_ADA     Volume  \\\n",
      "0 2022-08-22 08:00:00  0.44550  0.44630  0.43690   0.44400  124309490   \n",
      "1 2022-08-22 10:00:00  0.44390  0.45320  0.44330   0.44780   81169671   \n",
      "2 2022-08-22 12:00:00  0.44770  0.45220  0.44240   0.44820  103061458   \n",
      "3 2022-08-22 14:00:00  0.44820  0.45470  0.44390   0.45330  113588766   \n",
      "4 2022-08-22 16:00:00  0.45330  0.45570  0.44820   0.44970   63659097   \n",
      "\n",
      "                 Close_time_ADA Quote_asset_volume  Number_of_trades  \\\n",
      "0 2022-08-22 09:59:59.999000064     54866117.61630             73990   \n",
      "1 2022-08-22 11:59:59.999000064     36485293.33590             52508   \n",
      "2 2022-08-22 13:59:59.999000064     46110215.80330             65332   \n",
      "3 2022-08-22 15:59:59.999000064     51101824.74610             71901   \n",
      "4 2022-08-22 17:59:59.999000064     28733885.50550             41347   \n",
      "\n",
      "  Taker_buy_volume Taker_buy_quote_asset_volume Ignore  \n",
      "0         62338554               27514981.62430      0  \n",
      "1         40144533               18035745.54130      0  \n",
      "2         51151264               22889259.30670      0  \n",
      "3         57774479               25994247.62440      0  \n",
      "4         32228219               14550560.24860      0  \n"
     ]
    }
   ],
   "source": [
    "# Check head and tail of DFs. \n",
    "# As API returns data in ascending (head = nth itme), (tail = more recent interval)\n",
    "print(xrpusdt_raw_df.tail())\n",
    "print(adausdt_raw_df.head())"
   ]
  },
  {
   "cell_type": "code",
   "execution_count": 23,
   "metadata": {},
   "outputs": [],
   "source": [
    "## Drop redundant columns\n",
    "\n",
    "# btcusdt_df = btcusdt_raw_df[[\"Open_time_BTC\",\"Open_BTC\",\"High_BTC\",\"Low_BTC\",\"Close_BTC\",\"Close_time_BTC\"]]\n",
    "# ethusdt_df = ethusdt_raw_df[[\"Open_time_ETH\",\"Open_ETH\",\"High_ETH\",\"Low_ETH\",\"Close_ETH\",\"Close_time_ETH\"]]\n",
    "# xrpusdt_df = xrpusdt_raw_df[[\"Open_time_XRP\",\"Open_XRP\",\"High_XRP\",\"Low_XRP\",\"Close_XRP\",\"Close_time_XRP\"]]\n",
    "# adausdt_df = adausdt_raw_df[[\"Open_time_ADA\",\"Open_ADA\",\"High_ADA\",\"Low_ADA\",\"Close_ADA\",\"Close_time_ADA\"]]\n",
    "# solusdt_df = solusdt_raw_df[[\"Open_time_SOL\",\"Open_SOL\",\"High_SOL\",\"Low_SOL\",\"Close_SOL\",\"Close_time_SOL\"]]\n",
    "\n",
    "btcusdt_df = btcusdt_raw_df[[\"Open_time\",\"Open_BTC\"]]\n",
    "ethusdt_df = ethusdt_raw_df[[\"Open_time\",\"Open_ETH\"]]\n",
    "xrpusdt_df = xrpusdt_raw_df[[\"Open_time\",\"Open_XRP\"]]\n",
    "adausdt_df = adausdt_raw_df[[\"Open_time\",\"Open_ADA\"]]\n",
    "solusdt_df = solusdt_raw_df[[\"Open_time\",\"Open_SOL\"]]"
   ]
  },
  {
   "cell_type": "code",
   "execution_count": 24,
   "metadata": {},
   "outputs": [
    {
     "data": {
      "text/html": [
       "<div>\n",
       "<style scoped>\n",
       "    .dataframe tbody tr th:only-of-type {\n",
       "        vertical-align: middle;\n",
       "    }\n",
       "\n",
       "    .dataframe tbody tr th {\n",
       "        vertical-align: top;\n",
       "    }\n",
       "\n",
       "    .dataframe thead th {\n",
       "        text-align: right;\n",
       "    }\n",
       "</style>\n",
       "<table border=\"1\" class=\"dataframe\">\n",
       "  <thead>\n",
       "    <tr style=\"text-align: right;\">\n",
       "      <th></th>\n",
       "      <th>Open_time</th>\n",
       "      <th>Open_SOL</th>\n",
       "    </tr>\n",
       "  </thead>\n",
       "  <tbody>\n",
       "    <tr>\n",
       "      <th>0</th>\n",
       "      <td>2022-08-22 08:00:00</td>\n",
       "      <td>34.8900</td>\n",
       "    </tr>\n",
       "    <tr>\n",
       "      <th>1</th>\n",
       "      <td>2022-08-22 10:00:00</td>\n",
       "      <td>34.4600</td>\n",
       "    </tr>\n",
       "    <tr>\n",
       "      <th>2</th>\n",
       "      <td>2022-08-22 12:00:00</td>\n",
       "      <td>34.6300</td>\n",
       "    </tr>\n",
       "    <tr>\n",
       "      <th>3</th>\n",
       "      <td>2022-08-22 14:00:00</td>\n",
       "      <td>34.3500</td>\n",
       "    </tr>\n",
       "    <tr>\n",
       "      <th>4</th>\n",
       "      <td>2022-08-22 16:00:00</td>\n",
       "      <td>34.7800</td>\n",
       "    </tr>\n",
       "    <tr>\n",
       "      <th>...</th>\n",
       "      <td>...</td>\n",
       "      <td>...</td>\n",
       "    </tr>\n",
       "    <tr>\n",
       "      <th>356</th>\n",
       "      <td>2022-09-21 00:00:00</td>\n",
       "      <td>31.4100</td>\n",
       "    </tr>\n",
       "    <tr>\n",
       "      <th>357</th>\n",
       "      <td>2022-09-21 02:00:00</td>\n",
       "      <td>31.6400</td>\n",
       "    </tr>\n",
       "    <tr>\n",
       "      <th>358</th>\n",
       "      <td>2022-09-21 04:00:00</td>\n",
       "      <td>31.8200</td>\n",
       "    </tr>\n",
       "    <tr>\n",
       "      <th>359</th>\n",
       "      <td>2022-09-21 06:00:00</td>\n",
       "      <td>31.6700</td>\n",
       "    </tr>\n",
       "    <tr>\n",
       "      <th>360</th>\n",
       "      <td>2022-09-21 08:00:00</td>\n",
       "      <td>31.7300</td>\n",
       "    </tr>\n",
       "  </tbody>\n",
       "</table>\n",
       "<p>361 rows × 2 columns</p>\n",
       "</div>"
      ],
      "text/plain": [
       "              Open_time Open_SOL\n",
       "0   2022-08-22 08:00:00  34.8900\n",
       "1   2022-08-22 10:00:00  34.4600\n",
       "2   2022-08-22 12:00:00  34.6300\n",
       "3   2022-08-22 14:00:00  34.3500\n",
       "4   2022-08-22 16:00:00  34.7800\n",
       "..                  ...      ...\n",
       "356 2022-09-21 00:00:00  31.4100\n",
       "357 2022-09-21 02:00:00  31.6400\n",
       "358 2022-09-21 04:00:00  31.8200\n",
       "359 2022-09-21 06:00:00  31.6700\n",
       "360 2022-09-21 08:00:00  31.7300\n",
       "\n",
       "[361 rows x 2 columns]"
      ]
     },
     "execution_count": 24,
     "metadata": {},
     "output_type": "execute_result"
    }
   ],
   "source": [
    "# Check new DFs\n",
    "solusdt_df"
   ]
  },
  {
   "cell_type": "code",
   "execution_count": 25,
   "metadata": {},
   "outputs": [
    {
     "data": {
      "text/html": [
       "<div>\n",
       "<style scoped>\n",
       "    .dataframe tbody tr th:only-of-type {\n",
       "        vertical-align: middle;\n",
       "    }\n",
       "\n",
       "    .dataframe tbody tr th {\n",
       "        vertical-align: top;\n",
       "    }\n",
       "\n",
       "    .dataframe thead th {\n",
       "        text-align: right;\n",
       "    }\n",
       "</style>\n",
       "<table border=\"1\" class=\"dataframe\">\n",
       "  <thead>\n",
       "    <tr style=\"text-align: right;\">\n",
       "      <th></th>\n",
       "      <th>Open_time</th>\n",
       "      <th>Open_BTC</th>\n",
       "      <th>Open_ETH</th>\n",
       "      <th>Open_XRP</th>\n",
       "      <th>Open_ADA</th>\n",
       "      <th>Open_SOL</th>\n",
       "    </tr>\n",
       "  </thead>\n",
       "  <tbody>\n",
       "    <tr>\n",
       "      <th>0</th>\n",
       "      <td>2022-08-22 08:00:00</td>\n",
       "      <td>21089.20</td>\n",
       "      <td>1556.23</td>\n",
       "      <td>0.3351</td>\n",
       "      <td>0.44550</td>\n",
       "      <td>34.8900</td>\n",
       "    </tr>\n",
       "    <tr>\n",
       "      <th>1</th>\n",
       "      <td>2022-08-22 10:00:00</td>\n",
       "      <td>21167.50</td>\n",
       "      <td>1563.10</td>\n",
       "      <td>0.3339</td>\n",
       "      <td>0.44390</td>\n",
       "      <td>34.4600</td>\n",
       "    </tr>\n",
       "    <tr>\n",
       "      <th>2</th>\n",
       "      <td>2022-08-22 12:00:00</td>\n",
       "      <td>21238.60</td>\n",
       "      <td>1567.19</td>\n",
       "      <td>0.3354</td>\n",
       "      <td>0.44770</td>\n",
       "      <td>34.6300</td>\n",
       "    </tr>\n",
       "    <tr>\n",
       "      <th>3</th>\n",
       "      <td>2022-08-22 14:00:00</td>\n",
       "      <td>21296.00</td>\n",
       "      <td>1565.69</td>\n",
       "      <td>0.3360</td>\n",
       "      <td>0.44820</td>\n",
       "      <td>34.3500</td>\n",
       "    </tr>\n",
       "    <tr>\n",
       "      <th>4</th>\n",
       "      <td>2022-08-22 16:00:00</td>\n",
       "      <td>21388.00</td>\n",
       "      <td>1588.76</td>\n",
       "      <td>0.3371</td>\n",
       "      <td>0.45330</td>\n",
       "      <td>34.7800</td>\n",
       "    </tr>\n",
       "    <tr>\n",
       "      <th>...</th>\n",
       "      <td>...</td>\n",
       "      <td>...</td>\n",
       "      <td>...</td>\n",
       "      <td>...</td>\n",
       "      <td>...</td>\n",
       "      <td>...</td>\n",
       "    </tr>\n",
       "    <tr>\n",
       "      <th>356</th>\n",
       "      <td>2022-09-21 00:00:00</td>\n",
       "      <td>18866.70</td>\n",
       "      <td>1322.09</td>\n",
       "      <td>0.4134</td>\n",
       "      <td>0.44190</td>\n",
       "      <td>31.4100</td>\n",
       "    </tr>\n",
       "    <tr>\n",
       "      <th>357</th>\n",
       "      <td>2022-09-21 02:00:00</td>\n",
       "      <td>18879.60</td>\n",
       "      <td>1328.45</td>\n",
       "      <td>0.4065</td>\n",
       "      <td>0.45910</td>\n",
       "      <td>31.6400</td>\n",
       "    </tr>\n",
       "    <tr>\n",
       "      <th>358</th>\n",
       "      <td>2022-09-21 04:00:00</td>\n",
       "      <td>19011.70</td>\n",
       "      <td>1336.46</td>\n",
       "      <td>0.4042</td>\n",
       "      <td>0.45510</td>\n",
       "      <td>31.8200</td>\n",
       "    </tr>\n",
       "    <tr>\n",
       "      <th>359</th>\n",
       "      <td>2022-09-21 06:00:00</td>\n",
       "      <td>18914.60</td>\n",
       "      <td>1330.68</td>\n",
       "      <td>0.4054</td>\n",
       "      <td>0.44990</td>\n",
       "      <td>31.6700</td>\n",
       "    </tr>\n",
       "    <tr>\n",
       "      <th>360</th>\n",
       "      <td>2022-09-21 08:00:00</td>\n",
       "      <td>18938.70</td>\n",
       "      <td>1331.07</td>\n",
       "      <td>0.4022</td>\n",
       "      <td>0.44810</td>\n",
       "      <td>31.7300</td>\n",
       "    </tr>\n",
       "  </tbody>\n",
       "</table>\n",
       "<p>361 rows × 6 columns</p>\n",
       "</div>"
      ],
      "text/plain": [
       "              Open_time  Open_BTC Open_ETH Open_XRP Open_ADA Open_SOL\n",
       "0   2022-08-22 08:00:00  21089.20  1556.23   0.3351  0.44550  34.8900\n",
       "1   2022-08-22 10:00:00  21167.50  1563.10   0.3339  0.44390  34.4600\n",
       "2   2022-08-22 12:00:00  21238.60  1567.19   0.3354  0.44770  34.6300\n",
       "3   2022-08-22 14:00:00  21296.00  1565.69   0.3360  0.44820  34.3500\n",
       "4   2022-08-22 16:00:00  21388.00  1588.76   0.3371  0.45330  34.7800\n",
       "..                  ...       ...      ...      ...      ...      ...\n",
       "356 2022-09-21 00:00:00  18866.70  1322.09   0.4134  0.44190  31.4100\n",
       "357 2022-09-21 02:00:00  18879.60  1328.45   0.4065  0.45910  31.6400\n",
       "358 2022-09-21 04:00:00  19011.70  1336.46   0.4042  0.45510  31.8200\n",
       "359 2022-09-21 06:00:00  18914.60  1330.68   0.4054  0.44990  31.6700\n",
       "360 2022-09-21 08:00:00  18938.70  1331.07   0.4022  0.44810  31.7300\n",
       "\n",
       "[361 rows x 6 columns]"
      ]
     },
     "execution_count": 25,
     "metadata": {},
     "output_type": "execute_result"
    }
   ],
   "source": [
    "# Merge DFs into 1\n",
    "# By merging on \"Open_time\", ensuring prices of all assets are matched on time.\n",
    "# Allows for correct calculation of correlations\n",
    "btc_eth_df = pd.merge(btcusdt_df, ethusdt_df, on=\"Open_time\")\n",
    "btc_eth_xrp_df = pd.merge(btc_eth_df, xrpusdt_df, on=\"Open_time\")\n",
    "btc_eth_xrp_ada_df = pd.merge(btc_eth_xrp_df, adausdt_df, on=\"Open_time\")\n",
    "btc_eth_xrp_ada_sol_df = pd.merge(btc_eth_xrp_ada_df, solusdt_df, on=\"Open_time\")\n",
    "\n",
    "btc_eth_xrp_ada_sol_df"
   ]
  },
  {
   "cell_type": "code",
   "execution_count": 26,
   "metadata": {},
   "outputs": [],
   "source": [
    "## Convert object columns to floats, in prep for calculations\n",
    "# Specify columns to be converted to float/numberic\n",
    "float_columns = [\"Open_BTC\",\"Open_ETH\",\"Open_XRP\",\"Open_ADA\",\"Open_SOL\"]\n",
    "\n",
    "# .astype(float), didn't convert objects\n",
    "# btc_eth_xrp_ada_sol_df[float_columns] = btc_eth_xrp_ada_sol_df[float_columns].astype(float)\n",
    "btc_eth_xrp_ada_sol_df[float_columns] = btc_eth_xrp_ada_sol_df[float_columns].apply(pd.to_numeric, axis=1)"
   ]
  },
  {
   "cell_type": "code",
   "execution_count": 27,
   "metadata": {},
   "outputs": [],
   "source": [
    "# Add percentage change, calc'd on open price. For each interval\n",
    "\n",
    "btc_eth_xrp_ada_sol_df['pct_BTC'] = btc_eth_xrp_ada_sol_df['Open_BTC'].pct_change()\n",
    "btc_eth_xrp_ada_sol_df['pct_ETH'] = btc_eth_xrp_ada_sol_df['Open_ETH'].pct_change()\n",
    "btc_eth_xrp_ada_sol_df['pct_XRP'] = btc_eth_xrp_ada_sol_df['Open_XRP'].pct_change()\n",
    "btc_eth_xrp_ada_sol_df['pct_ADA'] = btc_eth_xrp_ada_sol_df['Open_ADA'].pct_change()\n",
    "btc_eth_xrp_ada_sol_df['pct_SOL'] = btc_eth_xrp_ada_sol_df['Open_SOL'].pct_change()"
   ]
  },
  {
   "cell_type": "code",
   "execution_count": 28,
   "metadata": {},
   "outputs": [],
   "source": [
    "# Check calcs\n",
    "# btc_eth_xrp_ada_sol_df"
   ]
  },
  {
   "cell_type": "code",
   "execution_count": 29,
   "metadata": {},
   "outputs": [
    {
     "data": {
      "text/html": [
       "<div>\n",
       "<style scoped>\n",
       "    .dataframe tbody tr th:only-of-type {\n",
       "        vertical-align: middle;\n",
       "    }\n",
       "\n",
       "    .dataframe tbody tr th {\n",
       "        vertical-align: top;\n",
       "    }\n",
       "\n",
       "    .dataframe thead th {\n",
       "        text-align: right;\n",
       "    }\n",
       "</style>\n",
       "<table border=\"1\" class=\"dataframe\">\n",
       "  <thead>\n",
       "    <tr style=\"text-align: right;\">\n",
       "      <th></th>\n",
       "      <th>Open_time</th>\n",
       "      <th>Open_BTC</th>\n",
       "      <th>Open_ETH</th>\n",
       "      <th>Open_XRP</th>\n",
       "      <th>Open_ADA</th>\n",
       "      <th>Open_SOL</th>\n",
       "      <th>pct_BTC</th>\n",
       "      <th>pct_ETH</th>\n",
       "      <th>pct_XRP</th>\n",
       "      <th>pct_ADA</th>\n",
       "      <th>pct_SOL</th>\n",
       "    </tr>\n",
       "  </thead>\n",
       "  <tbody>\n",
       "    <tr>\n",
       "      <th>1</th>\n",
       "      <td>2022-08-22 10:00:00</td>\n",
       "      <td>21167.5</td>\n",
       "      <td>1563.10</td>\n",
       "      <td>0.3339</td>\n",
       "      <td>0.4439</td>\n",
       "      <td>34.46</td>\n",
       "      <td>0.003713</td>\n",
       "      <td>0.004415</td>\n",
       "      <td>-0.003581</td>\n",
       "      <td>-0.003591</td>\n",
       "      <td>-0.012324</td>\n",
       "    </tr>\n",
       "    <tr>\n",
       "      <th>2</th>\n",
       "      <td>2022-08-22 12:00:00</td>\n",
       "      <td>21238.6</td>\n",
       "      <td>1567.19</td>\n",
       "      <td>0.3354</td>\n",
       "      <td>0.4477</td>\n",
       "      <td>34.63</td>\n",
       "      <td>0.003359</td>\n",
       "      <td>0.002617</td>\n",
       "      <td>0.004492</td>\n",
       "      <td>0.008560</td>\n",
       "      <td>0.004933</td>\n",
       "    </tr>\n",
       "    <tr>\n",
       "      <th>3</th>\n",
       "      <td>2022-08-22 14:00:00</td>\n",
       "      <td>21296.0</td>\n",
       "      <td>1565.69</td>\n",
       "      <td>0.3360</td>\n",
       "      <td>0.4482</td>\n",
       "      <td>34.35</td>\n",
       "      <td>0.002703</td>\n",
       "      <td>-0.000957</td>\n",
       "      <td>0.001789</td>\n",
       "      <td>0.001117</td>\n",
       "      <td>-0.008085</td>\n",
       "    </tr>\n",
       "    <tr>\n",
       "      <th>4</th>\n",
       "      <td>2022-08-22 16:00:00</td>\n",
       "      <td>21388.0</td>\n",
       "      <td>1588.76</td>\n",
       "      <td>0.3371</td>\n",
       "      <td>0.4533</td>\n",
       "      <td>34.78</td>\n",
       "      <td>0.004320</td>\n",
       "      <td>0.014735</td>\n",
       "      <td>0.003274</td>\n",
       "      <td>0.011379</td>\n",
       "      <td>0.012518</td>\n",
       "    </tr>\n",
       "    <tr>\n",
       "      <th>5</th>\n",
       "      <td>2022-08-22 18:00:00</td>\n",
       "      <td>21221.5</td>\n",
       "      <td>1573.31</td>\n",
       "      <td>0.3356</td>\n",
       "      <td>0.4496</td>\n",
       "      <td>34.47</td>\n",
       "      <td>-0.007785</td>\n",
       "      <td>-0.009725</td>\n",
       "      <td>-0.004450</td>\n",
       "      <td>-0.008162</td>\n",
       "      <td>-0.008913</td>\n",
       "    </tr>\n",
       "    <tr>\n",
       "      <th>...</th>\n",
       "      <td>...</td>\n",
       "      <td>...</td>\n",
       "      <td>...</td>\n",
       "      <td>...</td>\n",
       "      <td>...</td>\n",
       "      <td>...</td>\n",
       "      <td>...</td>\n",
       "      <td>...</td>\n",
       "      <td>...</td>\n",
       "      <td>...</td>\n",
       "      <td>...</td>\n",
       "    </tr>\n",
       "    <tr>\n",
       "      <th>356</th>\n",
       "      <td>2022-09-21 00:00:00</td>\n",
       "      <td>18866.7</td>\n",
       "      <td>1322.09</td>\n",
       "      <td>0.4134</td>\n",
       "      <td>0.4419</td>\n",
       "      <td>31.41</td>\n",
       "      <td>-0.000185</td>\n",
       "      <td>0.003926</td>\n",
       "      <td>0.012739</td>\n",
       "      <td>0.005919</td>\n",
       "      <td>-0.003174</td>\n",
       "    </tr>\n",
       "    <tr>\n",
       "      <th>357</th>\n",
       "      <td>2022-09-21 02:00:00</td>\n",
       "      <td>18879.6</td>\n",
       "      <td>1328.45</td>\n",
       "      <td>0.4065</td>\n",
       "      <td>0.4591</td>\n",
       "      <td>31.64</td>\n",
       "      <td>0.000684</td>\n",
       "      <td>0.004811</td>\n",
       "      <td>-0.016691</td>\n",
       "      <td>0.038923</td>\n",
       "      <td>0.007323</td>\n",
       "    </tr>\n",
       "    <tr>\n",
       "      <th>358</th>\n",
       "      <td>2022-09-21 04:00:00</td>\n",
       "      <td>19011.7</td>\n",
       "      <td>1336.46</td>\n",
       "      <td>0.4042</td>\n",
       "      <td>0.4551</td>\n",
       "      <td>31.82</td>\n",
       "      <td>0.006997</td>\n",
       "      <td>0.006030</td>\n",
       "      <td>-0.005658</td>\n",
       "      <td>-0.008713</td>\n",
       "      <td>0.005689</td>\n",
       "    </tr>\n",
       "    <tr>\n",
       "      <th>359</th>\n",
       "      <td>2022-09-21 06:00:00</td>\n",
       "      <td>18914.6</td>\n",
       "      <td>1330.68</td>\n",
       "      <td>0.4054</td>\n",
       "      <td>0.4499</td>\n",
       "      <td>31.67</td>\n",
       "      <td>-0.005107</td>\n",
       "      <td>-0.004325</td>\n",
       "      <td>0.002969</td>\n",
       "      <td>-0.011426</td>\n",
       "      <td>-0.004714</td>\n",
       "    </tr>\n",
       "    <tr>\n",
       "      <th>360</th>\n",
       "      <td>2022-09-21 08:00:00</td>\n",
       "      <td>18938.7</td>\n",
       "      <td>1331.07</td>\n",
       "      <td>0.4022</td>\n",
       "      <td>0.4481</td>\n",
       "      <td>31.73</td>\n",
       "      <td>0.001274</td>\n",
       "      <td>0.000293</td>\n",
       "      <td>-0.007893</td>\n",
       "      <td>-0.004001</td>\n",
       "      <td>0.001895</td>\n",
       "    </tr>\n",
       "  </tbody>\n",
       "</table>\n",
       "<p>360 rows × 11 columns</p>\n",
       "</div>"
      ],
      "text/plain": [
       "              Open_time  Open_BTC  Open_ETH  Open_XRP  Open_ADA  Open_SOL  \\\n",
       "1   2022-08-22 10:00:00   21167.5   1563.10    0.3339    0.4439     34.46   \n",
       "2   2022-08-22 12:00:00   21238.6   1567.19    0.3354    0.4477     34.63   \n",
       "3   2022-08-22 14:00:00   21296.0   1565.69    0.3360    0.4482     34.35   \n",
       "4   2022-08-22 16:00:00   21388.0   1588.76    0.3371    0.4533     34.78   \n",
       "5   2022-08-22 18:00:00   21221.5   1573.31    0.3356    0.4496     34.47   \n",
       "..                  ...       ...       ...       ...       ...       ...   \n",
       "356 2022-09-21 00:00:00   18866.7   1322.09    0.4134    0.4419     31.41   \n",
       "357 2022-09-21 02:00:00   18879.6   1328.45    0.4065    0.4591     31.64   \n",
       "358 2022-09-21 04:00:00   19011.7   1336.46    0.4042    0.4551     31.82   \n",
       "359 2022-09-21 06:00:00   18914.6   1330.68    0.4054    0.4499     31.67   \n",
       "360 2022-09-21 08:00:00   18938.7   1331.07    0.4022    0.4481     31.73   \n",
       "\n",
       "      pct_BTC   pct_ETH   pct_XRP   pct_ADA   pct_SOL  \n",
       "1    0.003713  0.004415 -0.003581 -0.003591 -0.012324  \n",
       "2    0.003359  0.002617  0.004492  0.008560  0.004933  \n",
       "3    0.002703 -0.000957  0.001789  0.001117 -0.008085  \n",
       "4    0.004320  0.014735  0.003274  0.011379  0.012518  \n",
       "5   -0.007785 -0.009725 -0.004450 -0.008162 -0.008913  \n",
       "..        ...       ...       ...       ...       ...  \n",
       "356 -0.000185  0.003926  0.012739  0.005919 -0.003174  \n",
       "357  0.000684  0.004811 -0.016691  0.038923  0.007323  \n",
       "358  0.006997  0.006030 -0.005658 -0.008713  0.005689  \n",
       "359 -0.005107 -0.004325  0.002969 -0.011426 -0.004714  \n",
       "360  0.001274  0.000293 -0.007893 -0.004001  0.001895  \n",
       "\n",
       "[360 rows x 11 columns]"
      ]
     },
     "execution_count": 29,
     "metadata": {},
     "output_type": "execute_result"
    }
   ],
   "source": [
    "# Drop 1st data point, pct is NaN\n",
    "BEXAS_df = btc_eth_xrp_ada_sol_df.dropna()\n",
    "BEXAS_df"
   ]
  },
  {
   "cell_type": "code",
   "execution_count": 30,
   "metadata": {},
   "outputs": [
    {
     "name": "stderr",
     "output_type": "stream",
     "text": [
      "c:\\Users\\Steve\\anaconda3\\envs\\bootcamp\\lib\\site-packages\\ipykernel_launcher.py:6: FutureWarning: Treating datetime data as categorical rather than numeric in `.describe` is deprecated and will be removed in a future version of pandas. Specify `datetime_is_numeric=True` to silence this warning and adopt the future behavior now.\n",
      "  \n"
     ]
    },
    {
     "data": {
      "text/html": [
       "<div>\n",
       "<style scoped>\n",
       "    .dataframe tbody tr th:only-of-type {\n",
       "        vertical-align: middle;\n",
       "    }\n",
       "\n",
       "    .dataframe tbody tr th {\n",
       "        vertical-align: top;\n",
       "    }\n",
       "\n",
       "    .dataframe thead th {\n",
       "        text-align: right;\n",
       "    }\n",
       "</style>\n",
       "<table border=\"1\" class=\"dataframe\">\n",
       "  <thead>\n",
       "    <tr style=\"text-align: right;\">\n",
       "      <th></th>\n",
       "      <th>Open_time</th>\n",
       "    </tr>\n",
       "  </thead>\n",
       "  <tbody>\n",
       "    <tr>\n",
       "      <th>count</th>\n",
       "      <td>360</td>\n",
       "    </tr>\n",
       "    <tr>\n",
       "      <th>unique</th>\n",
       "      <td>360</td>\n",
       "    </tr>\n",
       "    <tr>\n",
       "      <th>top</th>\n",
       "      <td>2022-08-22 10:00:00</td>\n",
       "    </tr>\n",
       "    <tr>\n",
       "      <th>freq</th>\n",
       "      <td>1</td>\n",
       "    </tr>\n",
       "    <tr>\n",
       "      <th>first</th>\n",
       "      <td>2022-08-22 10:00:00</td>\n",
       "    </tr>\n",
       "    <tr>\n",
       "      <th>last</th>\n",
       "      <td>2022-09-21 08:00:00</td>\n",
       "    </tr>\n",
       "  </tbody>\n",
       "</table>\n",
       "</div>"
      ],
      "text/plain": [
       "                  Open_time\n",
       "count                   360\n",
       "unique                  360\n",
       "top     2022-08-22 10:00:00\n",
       "freq                      1\n",
       "first   2022-08-22 10:00:00\n",
       "last    2022-09-21 08:00:00"
      ]
     },
     "execution_count": 30,
     "metadata": {},
     "output_type": "execute_result"
    }
   ],
   "source": [
    "## Check objects converted to numeric\n",
    "\n",
    "# btc_eth_xrp_ada_sol_df.info()\n",
    "# btc_eth_xrp_ada_sol_df.drypes\n",
    "# btc_eth_xrp_ada_sol_df.describe()\n",
    "BEXAS_df.describe(include='datetime64[ns]')"
   ]
  },
  {
   "cell_type": "code",
   "execution_count": 31,
   "metadata": {},
   "outputs": [
    {
     "name": "stdout",
     "output_type": "stream",
     "text": [
      "2022-08-22 10:00:00\n",
      "2022-09-21 08:00:00\n"
     ]
    }
   ],
   "source": [
    "# Obtain first and last open_time\n",
    "earliest = str(min(BEXAS_df[\"Open_time\"]))\n",
    "latest = str(max(BEXAS_df[\"Open_time\"]))\n",
    "print(earliest)\n",
    "print(latest)"
   ]
  },
  {
   "cell_type": "markdown",
   "metadata": {},
   "source": [
    "## Linear Regression"
   ]
  },
  {
   "cell_type": "code",
   "execution_count": 58,
   "metadata": {},
   "outputs": [],
   "source": [
    "# Define a function for linear regression\n",
    "\n",
    "\n",
    "\n",
    "# Dict to store each pairs data\n",
    "pairs_correlation = {\"Pair\":[],\"r-value\":[],\"beta\":[]}\n",
    "\n",
    "\n",
    "def linear_regression(x_value, y_value, x_label, y_label):\n",
    "    \n",
    "    (slope, intercept, rvalue, pvalue, stderr) = linregress(x_value, y_value)\n",
    "    \n",
    "    regress = x_value * slope + intercept\n",
    "    # line_eq = \"y =\" + str(round(slope, 2)) + \"x + \" + str(round(intercept, 2))\n",
    "    line_eq = f\"{y_label} = {str(round(slope, 2))} x {x_label} + {str(round(intercept, 2))}\"\n",
    "    \n",
    "    plt.scatter(x_value, y_value, edgecolor=\"black\", marker=\"o\")\n",
    "    plt.title(f\"{x_label}:{y_label} (USDS-M Perp) lin regress (rolling 30d)\")\n",
    "    plt.plot(x_value, regress, \"r-\")\n",
    "    plt.annotate(line_eq, (-.002, -0.04), fontsize =12, color =\"red\")\n",
    "    plt.xlabel(f\"{x_label} % chg\")\n",
    "    plt.ylabel(f\"{y_label} % chg\")\n",
    "    plt.grid(True)\n",
    "    print(f\"The r-value is:{rvalue}\") \n",
    "    print(f\"The beta is:{slope}\")\n",
    "    plt.savefig(f\"Images/{x_label}_{y_label}_scatter.png\")\n",
    "    \n",
    "    pairs_correlation[\"Pair\"].append(f\"{x_label}:{y_label}\")\n",
    "    pairs_correlation[\"r-value\"].append(rvalue)\n",
    "    pairs_correlation[\"beta\"].append(slope)"
   ]
  },
  {
   "cell_type": "markdown",
   "metadata": {},
   "source": [
    "#### BTCUSDT vs. ETHUSDT Plot & Linear Regression"
   ]
  },
  {
   "cell_type": "code",
   "execution_count": 59,
   "metadata": {},
   "outputs": [
    {
     "name": "stdout",
     "output_type": "stream",
     "text": [
      "The r-value is:0.8485143759446764\n",
      "The beta is:1.2749450268223084\n"
     ]
    },
    {
     "data": {
      "image/png": "[encoded data removed]",
      "text/plain": [
       "<Figure size 432x288 with 1 Axes>"
      ]
     },
     "metadata": {
      "needs_background": "light"
     },
     "output_type": "display_data"
    }
   ],
   "source": [
    "# Lin regress\n",
    "x_value = BEXAS_df[\"pct_BTC\"]\n",
    "y_value = BEXAS_df[\"pct_ETH\"]\n",
    "\n",
    "x_label = \"BTC\"\n",
    "y_label = \"ETH\"\n",
    "\n",
    "linear_regression(x_value, y_value, x_label, y_label)"
   ]
  },
  {
   "cell_type": "markdown",
   "metadata": {},
   "source": [
    "#### BTCUSDT vs. XRPUSDT Plot"
   ]
  },
  {
   "cell_type": "code",
   "execution_count": 60,
   "metadata": {},
   "outputs": [
    {
     "name": "stdout",
     "output_type": "stream",
     "text": [
      "The r-value is:0.5702397251652612\n",
      "The beta is:0.8125655459865964\n"
     ]
    },
    {
     "data": {
      "image/png": "[encoded data removed]",
      "text/plain": [
       "<Figure size 432x288 with 1 Axes>"
      ]
     },
     "metadata": {
      "needs_background": "light"
     },
     "output_type": "display_data"
    }
   ],
   "source": [
    "# Lin regress\n",
    "x_value = BEXAS_df[\"pct_BTC\"]\n",
    "y_value = BEXAS_df[\"pct_XRP\"]\n",
    "\n",
    "x_label = \"BTC\"\n",
    "y_label = \"XRP\"\n",
    "\n",
    "linear_regression(x_value, y_value, x_label, y_label)"
   ]
  },
  {
   "cell_type": "markdown",
   "metadata": {},
   "source": [
    "#### BTCUSDT vs. ADAUSDT Plot"
   ]
  },
  {
   "cell_type": "code",
   "execution_count": 61,
   "metadata": {},
   "outputs": [
    {
     "name": "stdout",
     "output_type": "stream",
     "text": [
      "The r-value is:0.7292276424367206\n",
      "The beta is:0.9153754362636967\n"
     ]
    },
    {
     "data": {
      "image/png": "[encoded data removed]",
      "text/plain": [
       "<Figure size 432x288 with 1 Axes>"
      ]
     },
     "metadata": {
      "needs_background": "light"
     },
     "output_type": "display_data"
    }
   ],
   "source": [
    "# Lin regress\n",
    "x_value = BEXAS_df[\"pct_BTC\"]\n",
    "y_value = BEXAS_df[\"pct_ADA\"]\n",
    "\n",
    "x_label = \"BTC\"\n",
    "y_label = \"ADA\"\n",
    "\n",
    "linear_regression(x_value, y_value, x_label, y_label)"
   ]
  },
  {
   "cell_type": "markdown",
   "metadata": {},
   "source": [
    "#### BTCUSDT vs. SOLUSDT Plot"
   ]
  },
  {
   "cell_type": "code",
   "execution_count": 62,
   "metadata": {},
   "outputs": [
    {
     "name": "stdout",
     "output_type": "stream",
     "text": [
      "The r-value is:0.8024589624027668\n",
      "The beta is:1.203414437324559\n"
     ]
    },
    {
     "data": {
      "image/png": "[encoded data removed]",
      "text/plain": [
       "<Figure size 432x288 with 1 Axes>"
      ]
     },
     "metadata": {
      "needs_background": "light"
     },
     "output_type": "display_data"
    }
   ],
   "source": [
    "# Lin regress\n",
    "x_value = BEXAS_df[\"pct_BTC\"]\n",
    "y_value = BEXAS_df[\"pct_SOL\"]\n",
    "\n",
    "x_label = \"BTC\"\n",
    "y_label = \"SOL\"\n",
    "\n",
    "linear_regression(x_value, y_value, x_label, y_label)"
   ]
  },
  {
   "cell_type": "markdown",
   "metadata": {},
   "source": [
    "#### ETHUSDT vs. XRPUSDT Plot"
   ]
  },
  {
   "cell_type": "code",
   "execution_count": 63,
   "metadata": {},
   "outputs": [
    {
     "name": "stdout",
     "output_type": "stream",
     "text": [
      "The r-value is:0.5530497174763895\n",
      "The beta is:0.5244847381010818\n"
     ]
    },
    {
     "data": {
      "image/png": "[encoded data removed]",
      "text/plain": [
       "<Figure size 432x288 with 1 Axes>"
      ]
     },
     "metadata": {
      "needs_background": "light"
     },
     "output_type": "display_data"
    }
   ],
   "source": [
    "# Lin regress\n",
    "x_value = BEXAS_df[\"pct_ETH\"]\n",
    "y_value = BEXAS_df[\"pct_XRP\"]\n",
    "\n",
    "x_label = \"ETH\"\n",
    "y_label = \"XRP\"\n",
    "\n",
    "linear_regression(x_value, y_value, x_label, y_label)"
   ]
  },
  {
   "cell_type": "markdown",
   "metadata": {},
   "source": [
    "#### ETHUSDT vs. ADAUSDT Plot"
   ]
  },
  {
   "cell_type": "code",
   "execution_count": 64,
   "metadata": {},
   "outputs": [
    {
     "name": "stdout",
     "output_type": "stream",
     "text": [
      "The r-value is:0.77618099374364\n",
      "The beta is:0.6484356456952282\n"
     ]
    },
    {
     "data": {
      "image/png": "[encoded data removed]",
      "text/plain": [
       "<Figure size 432x288 with 1 Axes>"
      ]
     },
     "metadata": {
      "needs_background": "light"
     },
     "output_type": "display_data"
    }
   ],
   "source": [
    "# Lin regress\n",
    "x_value = BEXAS_df[\"pct_ETH\"]\n",
    "y_value = BEXAS_df[\"pct_ADA\"]\n",
    "\n",
    "x_label = \"ETH\"\n",
    "y_label = \"ADA\"\n",
    "\n",
    "linear_regression(x_value, y_value, x_label, y_label)"
   ]
  },
  {
   "cell_type": "markdown",
   "metadata": {},
   "source": [
    "#### ETHUSDT vs. SOLUSDT Plot"
   ]
  },
  {
   "cell_type": "code",
   "execution_count": 65,
   "metadata": {},
   "outputs": [
    {
     "name": "stdout",
     "output_type": "stream",
     "text": [
      "The r-value is:0.8249375890178017\n",
      "The beta is:0.8233438086921344\n"
     ]
    },
    {
     "data": {
      "image/png": "[encoded data removed]",
      "text/plain": [
       "<Figure size 432x288 with 1 Axes>"
      ]
     },
     "metadata": {
      "needs_background": "light"
     },
     "output_type": "display_data"
    }
   ],
   "source": [
    "# Lin regress\n",
    "x_value = BEXAS_df[\"pct_ETH\"]\n",
    "y_value = BEXAS_df[\"pct_SOL\"]\n",
    "\n",
    "x_label = \"ETH\"\n",
    "y_label = \"SOL\"\n",
    "\n",
    "linear_regression(x_value, y_value, x_label, y_label)"
   ]
  },
  {
   "cell_type": "markdown",
   "metadata": {},
   "source": [
    "#### XRPUSDT vs. ADAUSDT Plot"
   ]
  },
  {
   "cell_type": "code",
   "execution_count": 66,
   "metadata": {},
   "outputs": [
    {
     "name": "stdout",
     "output_type": "stream",
     "text": [
      "The r-value is:0.5763828442608473\n",
      "The beta is:0.5077456859525779\n"
     ]
    },
    {
     "data": {
      "image/png": "[encoded data removed]",
      "text/plain": [
       "<Figure size 432x288 with 1 Axes>"
      ]
     },
     "metadata": {
      "needs_background": "light"
     },
     "output_type": "display_data"
    }
   ],
   "source": [
    "# Lin regress\n",
    "x_value = BEXAS_df[\"pct_XRP\"]\n",
    "y_value = BEXAS_df[\"pct_ADA\"]\n",
    "\n",
    "x_label = \"XRP\"\n",
    "y_label = \"ADA\"\n",
    "\n",
    "linear_regression(x_value, y_value, x_label, y_label)"
   ]
  },
  {
   "cell_type": "markdown",
   "metadata": {},
   "source": [
    "#### XRPUSDT vs. SOLUSDT Plot"
   ]
  },
  {
   "cell_type": "code",
   "execution_count": 67,
   "metadata": {},
   "outputs": [
    {
     "name": "stdout",
     "output_type": "stream",
     "text": [
      "The r-value is:0.5469102746153613\n",
      "The beta is:0.5755824360873398\n"
     ]
    },
    {
     "data": {
      "image/png": "[encoded data removed]",
      "text/plain": [
       "<Figure size 432x288 with 1 Axes>"
      ]
     },
     "metadata": {
      "needs_background": "light"
     },
     "output_type": "display_data"
    }
   ],
   "source": [
    "# Lin regress\n",
    "x_value = BEXAS_df[\"pct_XRP\"]\n",
    "y_value = BEXAS_df[\"pct_SOL\"]\n",
    "\n",
    "x_label = \"XRP\"\n",
    "y_label = \"SOL\"\n",
    "\n",
    "linear_regression(x_value, y_value, x_label, y_label)"
   ]
  },
  {
   "cell_type": "markdown",
   "metadata": {},
   "source": [
    "#### ADAUSDT vs. SOLUSDT Plot"
   ]
  },
  {
   "cell_type": "code",
   "execution_count": 68,
   "metadata": {},
   "outputs": [
    {
     "name": "stdout",
     "output_type": "stream",
     "text": [
      "The r-value is:0.7711874632628732\n",
      "The beta is:0.9213321265058922\n"
     ]
    },
    {
     "data": {
      "image/png": "[encoded data removed]",
      "text/plain": [
       "<Figure size 432x288 with 1 Axes>"
      ]
     },
     "metadata": {
      "needs_background": "light"
     },
     "output_type": "display_data"
    }
   ],
   "source": [
    "# Lin regress\n",
    "x_value = BEXAS_df[\"pct_ADA\"]\n",
    "y_value = BEXAS_df[\"pct_SOL\"]\n",
    "\n",
    "x_label = \"ADA\"\n",
    "y_label = \"SOL\"\n",
    "\n",
    "linear_regression(x_value, y_value, x_label, y_label)"
   ]
  },
  {
   "cell_type": "code",
   "execution_count": 69,
   "metadata": {},
   "outputs": [
    {
     "name": "stdout",
     "output_type": "stream",
     "text": [
      "Correlations of Binance USDS-M Perps (30d rolling)\n"
     ]
    },
    {
     "data": {
      "text/html": [
       "<div>\n",
       "<style scoped>\n",
       "    .dataframe tbody tr th:only-of-type {\n",
       "        vertical-align: middle;\n",
       "    }\n",
       "\n",
       "    .dataframe tbody tr th {\n",
       "        vertical-align: top;\n",
       "    }\n",
       "\n",
       "    .dataframe thead th {\n",
       "        text-align: right;\n",
       "    }\n",
       "</style>\n",
       "<table border=\"1\" class=\"dataframe\">\n",
       "  <thead>\n",
       "    <tr style=\"text-align: right;\">\n",
       "      <th></th>\n",
       "      <th>Pair</th>\n",
       "      <th>r-value</th>\n",
       "      <th>beta</th>\n",
       "      <th>Earliest_interval</th>\n",
       "      <th>Latest_interval</th>\n",
       "      <th>API_queried_UTC</th>\n",
       "    </tr>\n",
       "  </thead>\n",
       "  <tbody>\n",
       "    <tr>\n",
       "      <th>0</th>\n",
       "      <td>BTC:ETH</td>\n",
       "      <td>0.848514</td>\n",
       "      <td>1.274945</td>\n",
       "      <td>2022-08-22 10:00:00</td>\n",
       "      <td>2022-09-21 08:00:00</td>\n",
       "      <td>2022-09-21 09:40:40.432192+00:00</td>\n",
       "    </tr>\n",
       "    <tr>\n",
       "      <th>6</th>\n",
       "      <td>ETH:SOL</td>\n",
       "      <td>0.824938</td>\n",
       "      <td>0.823344</td>\n",
       "      <td>2022-08-22 10:00:00</td>\n",
       "      <td>2022-09-21 08:00:00</td>\n",
       "      <td>2022-09-21 09:40:40.432192+00:00</td>\n",
       "    </tr>\n",
       "    <tr>\n",
       "      <th>3</th>\n",
       "      <td>BTC:SOL</td>\n",
       "      <td>0.802459</td>\n",
       "      <td>1.203414</td>\n",
       "      <td>2022-08-22 10:00:00</td>\n",
       "      <td>2022-09-21 08:00:00</td>\n",
       "      <td>2022-09-21 09:40:40.432192+00:00</td>\n",
       "    </tr>\n",
       "    <tr>\n",
       "      <th>5</th>\n",
       "      <td>ETH:ADA</td>\n",
       "      <td>0.776181</td>\n",
       "      <td>0.648436</td>\n",
       "      <td>2022-08-22 10:00:00</td>\n",
       "      <td>2022-09-21 08:00:00</td>\n",
       "      <td>2022-09-21 09:40:40.432192+00:00</td>\n",
       "    </tr>\n",
       "    <tr>\n",
       "      <th>9</th>\n",
       "      <td>ADA:SOL</td>\n",
       "      <td>0.771187</td>\n",
       "      <td>0.921332</td>\n",
       "      <td>2022-08-22 10:00:00</td>\n",
       "      <td>2022-09-21 08:00:00</td>\n",
       "      <td>2022-09-21 09:40:40.432192+00:00</td>\n",
       "    </tr>\n",
       "    <tr>\n",
       "      <th>2</th>\n",
       "      <td>BTC:ADA</td>\n",
       "      <td>0.729228</td>\n",
       "      <td>0.915375</td>\n",
       "      <td>2022-08-22 10:00:00</td>\n",
       "      <td>2022-09-21 08:00:00</td>\n",
       "      <td>2022-09-21 09:40:40.432192+00:00</td>\n",
       "    </tr>\n",
       "    <tr>\n",
       "      <th>7</th>\n",
       "      <td>XRP:ADA</td>\n",
       "      <td>0.576383</td>\n",
       "      <td>0.507746</td>\n",
       "      <td>2022-08-22 10:00:00</td>\n",
       "      <td>2022-09-21 08:00:00</td>\n",
       "      <td>2022-09-21 09:40:40.432192+00:00</td>\n",
       "    </tr>\n",
       "    <tr>\n",
       "      <th>1</th>\n",
       "      <td>BTC:XRP</td>\n",
       "      <td>0.570240</td>\n",
       "      <td>0.812566</td>\n",
       "      <td>2022-08-22 10:00:00</td>\n",
       "      <td>2022-09-21 08:00:00</td>\n",
       "      <td>2022-09-21 09:40:40.432192+00:00</td>\n",
       "    </tr>\n",
       "    <tr>\n",
       "      <th>4</th>\n",
       "      <td>ETH:XRP</td>\n",
       "      <td>0.553050</td>\n",
       "      <td>0.524485</td>\n",
       "      <td>2022-08-22 10:00:00</td>\n",
       "      <td>2022-09-21 08:00:00</td>\n",
       "      <td>2022-09-21 09:40:40.432192+00:00</td>\n",
       "    </tr>\n",
       "    <tr>\n",
       "      <th>8</th>\n",
       "      <td>XRP:SOL</td>\n",
       "      <td>0.546910</td>\n",
       "      <td>0.575582</td>\n",
       "      <td>2022-08-22 10:00:00</td>\n",
       "      <td>2022-09-21 08:00:00</td>\n",
       "      <td>2022-09-21 09:40:40.432192+00:00</td>\n",
       "    </tr>\n",
       "  </tbody>\n",
       "</table>\n",
       "</div>"
      ],
      "text/plain": [
       "      Pair   r-value      beta    Earliest_interval      Latest_interval  \\\n",
       "0  BTC:ETH  0.848514  1.274945  2022-08-22 10:00:00  2022-09-21 08:00:00   \n",
       "6  ETH:SOL  0.824938  0.823344  2022-08-22 10:00:00  2022-09-21 08:00:00   \n",
       "3  BTC:SOL  0.802459  1.203414  2022-08-22 10:00:00  2022-09-21 08:00:00   \n",
       "5  ETH:ADA  0.776181  0.648436  2022-08-22 10:00:00  2022-09-21 08:00:00   \n",
       "9  ADA:SOL  0.771187  0.921332  2022-08-22 10:00:00  2022-09-21 08:00:00   \n",
       "2  BTC:ADA  0.729228  0.915375  2022-08-22 10:00:00  2022-09-21 08:00:00   \n",
       "7  XRP:ADA  0.576383  0.507746  2022-08-22 10:00:00  2022-09-21 08:00:00   \n",
       "1  BTC:XRP  0.570240  0.812566  2022-08-22 10:00:00  2022-09-21 08:00:00   \n",
       "4  ETH:XRP  0.553050  0.524485  2022-08-22 10:00:00  2022-09-21 08:00:00   \n",
       "8  XRP:SOL  0.546910  0.575582  2022-08-22 10:00:00  2022-09-21 08:00:00   \n",
       "\n",
       "                    API_queried_UTC  \n",
       "0  2022-09-21 09:40:40.432192+00:00  \n",
       "6  2022-09-21 09:40:40.432192+00:00  \n",
       "3  2022-09-21 09:40:40.432192+00:00  \n",
       "5  2022-09-21 09:40:40.432192+00:00  \n",
       "9  2022-09-21 09:40:40.432192+00:00  \n",
       "2  2022-09-21 09:40:40.432192+00:00  \n",
       "7  2022-09-21 09:40:40.432192+00:00  \n",
       "1  2022-09-21 09:40:40.432192+00:00  \n",
       "4  2022-09-21 09:40:40.432192+00:00  \n",
       "8  2022-09-21 09:40:40.432192+00:00  "
      ]
     },
     "execution_count": 69,
     "metadata": {},
     "output_type": "execute_result"
    }
   ],
   "source": [
    "## Display correlations (descending order)\n",
    "\n",
    "# Convert dict to df\n",
    "correlations_df = pd.DataFrame(pairs_correlation).sort_values(\"r-value\", ascending=False)\n",
    "correlations_df[\"Earliest_interval\"] = earliest\n",
    "correlations_df[\"Latest_interval\"] = latest\n",
    "correlations_df[\"API_queried_UTC\"] = executed_utc\n",
    "print(f\"Correlations of Binance USDS-M Perps (30d rolling)\")\n",
    "correlations_df"
   ]
  },
  {
   "cell_type": "code",
   "execution_count": 70,
   "metadata": {},
   "outputs": [],
   "source": [
    "# ! pip install dataframe_image\n",
    "import dataframe_image as dfi\n",
    "\n",
    "correlations_styled_df = correlations_df.style.background_gradient()\n",
    "dfi.export(correlations_styled_df, \"Images/Correlations_descending.png\")"
   ]
  }
 ],
 "metadata": {
  "kernelspec": {
   "display_name": "Python 3.7.13 ('bootcamp')",
   "language": "python",
   "name": "python3"
  },
  "language_info": {
   "codemirror_mode": {
    "name": "ipython",
    "version": 3
   },
   "file_extension": ".py",
   "mimetype": "text/x-python",
   "name": "python",
   "nbconvert_exporter": "python",
   "pygments_lexer": "ipython3",
   "version": "3.7.13"
  },
  "orig_nbformat": 4,
  "vscode": {
   "interpreter": {
    "hash": "c1045dce47e268ff1365c3f603defeb0aa850c229e636842f21fdc3e170438c8"
   }
  }
 },
 "nbformat": 4,
 "nbformat_minor": 2
}
